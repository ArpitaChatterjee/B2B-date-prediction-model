{
  "nbformat": 4,
  "nbformat_minor": 0,
  "metadata": {
    "colab": {
      "name": "H2HBABBA2810_Jack_Arpita_Chatterjee_Milestone3.ipynb",
      "provenance": [],
      "collapsed_sections": [
        "WxUnvooIhY5n",
        "yJdUrd-kcOXx",
        "MZ2DObp0cTjD",
        "Vn8oHb4TFFUz",
        "S_w33ptpKVTh",
        "5JBT-srVybU2",
        "uxcATHTSVHL-",
        "t5eLUkS7G9P2",
        "YUKYpJU35kHk",
        "QtE5B2ZY5tLI",
        "NOjGimySAHlv",
        "AtgNIS3c8kNW",
        "tGTTZhtDFgm5",
        "cxWdj5GcvV37",
        "jOvIPrG0tIyH",
        "JIfvp6qCeFH_",
        "hzJFtHsZsUyb",
        "DA8A7Ah0buE-",
        "T8GoOogo9pmq",
        "tCmqnwBGBLs7",
        "m-hhu9eNEwpJ",
        "mQtoKxEdJv_Q"
      ],
      "mount_file_id": "1E_C8Y2-ichyFyAIsVl3WiC2AZIORo0ER",
      "authorship_tag": "ABX9TyObNtfwVgJ1YiXf/X83sSI8",
      "include_colab_link": true
    },
    "kernelspec": {
      "name": "python3",
      "display_name": "Python 3"
    },
    "language_info": {
      "name": "python"
    },
    "accelerator": "GPU"
  },
  "cells": [
    {
      "cell_type": "markdown",
      "metadata": {
        "id": "view-in-github",
        "colab_type": "text"
      },
      "source": [
        "<a href=\"https://colab.research.google.com/github/ArpitaChatterjee/B2B-date-prediction-model/blob/main/H2HBABBA2810_Jack_Arpita_Chatterjee_Milestone3.ipynb\" target=\"_parent\"><img src=\"https://colab.research.google.com/assets/colab-badge.svg\" alt=\"Open In Colab\"/></a>"
      ]
    },
    {
      "cell_type": "markdown",
      "metadata": {
        "id": "WxUnvooIhY5n"
      },
      "source": [
        "#Imports"
      ]
    },
    {
      "cell_type": "code",
      "metadata": {
        "id": "udIkjC4ogZOM"
      },
      "source": [
        "import warnings\n",
        "warnings.filterwarnings('ignore')\n",
        "\n",
        "import numpy as np\n",
        "import pandas as pd\n",
        "import matplotlib.pyplot as plt\n",
        "%matplotlib inline\n",
        "import seaborn as sns\n",
        "\n"
      ],
      "execution_count": 1,
      "outputs": []
    },
    {
      "cell_type": "code",
      "metadata": {
        "colab": {
          "base_uri": "https://localhost:8080/",
          "height": 524
        },
        "id": "ZZTjS0nMhzyn",
        "outputId": "8a1f0c8e-c4dc-40e5-f14f-4dca6837d16e"
      },
      "source": [
        "df= pd.read_csv(\"/content/drive/MyDrive/Colab Notebooks/HIghRadius/H2HBABBA2810.csv\")\n",
        "df"
      ],
      "execution_count": 2,
      "outputs": [
        {
          "output_type": "execute_result",
          "data": {
            "text/html": [
              "<div>\n",
              "<style scoped>\n",
              "    .dataframe tbody tr th:only-of-type {\n",
              "        vertical-align: middle;\n",
              "    }\n",
              "\n",
              "    .dataframe tbody tr th {\n",
              "        vertical-align: top;\n",
              "    }\n",
              "\n",
              "    .dataframe thead th {\n",
              "        text-align: right;\n",
              "    }\n",
              "</style>\n",
              "<table border=\"1\" class=\"dataframe\">\n",
              "  <thead>\n",
              "    <tr style=\"text-align: right;\">\n",
              "      <th></th>\n",
              "      <th>business_code</th>\n",
              "      <th>cust_number</th>\n",
              "      <th>name_customer</th>\n",
              "      <th>clear_date</th>\n",
              "      <th>buisness_year</th>\n",
              "      <th>doc_id</th>\n",
              "      <th>posting_date</th>\n",
              "      <th>document_create_date</th>\n",
              "      <th>document_create_date.1</th>\n",
              "      <th>due_in_date</th>\n",
              "      <th>invoice_currency</th>\n",
              "      <th>document type</th>\n",
              "      <th>posting_id</th>\n",
              "      <th>area_business</th>\n",
              "      <th>total_open_amount</th>\n",
              "      <th>baseline_create_date</th>\n",
              "      <th>cust_payment_terms</th>\n",
              "      <th>invoice_id</th>\n",
              "      <th>isOpen</th>\n",
              "    </tr>\n",
              "  </thead>\n",
              "  <tbody>\n",
              "    <tr>\n",
              "      <th>0</th>\n",
              "      <td>U001</td>\n",
              "      <td>0200078795</td>\n",
              "      <td>H T H co</td>\n",
              "      <td>2020-03-05 00:00:00</td>\n",
              "      <td>2020.0</td>\n",
              "      <td>1.930544e+09</td>\n",
              "      <td>2020-02-19</td>\n",
              "      <td>20200219</td>\n",
              "      <td>20200219</td>\n",
              "      <td>20200305.0</td>\n",
              "      <td>USD</td>\n",
              "      <td>RV</td>\n",
              "      <td>1.0</td>\n",
              "      <td>NaN</td>\n",
              "      <td>1609.27</td>\n",
              "      <td>20200219.0</td>\n",
              "      <td>NAA8</td>\n",
              "      <td>1.930544e+09</td>\n",
              "      <td>0</td>\n",
              "    </tr>\n",
              "    <tr>\n",
              "      <th>1</th>\n",
              "      <td>U001</td>\n",
              "      <td>200726979</td>\n",
              "      <td>BJ'S  foundation</td>\n",
              "      <td>2020-01-21 00:00:00</td>\n",
              "      <td>2020.0</td>\n",
              "      <td>1.930344e+09</td>\n",
              "      <td>2020-01-03</td>\n",
              "      <td>20200102</td>\n",
              "      <td>20200103</td>\n",
              "      <td>20200118.0</td>\n",
              "      <td>USD</td>\n",
              "      <td>RV</td>\n",
              "      <td>1.0</td>\n",
              "      <td>NaN</td>\n",
              "      <td>98529.29</td>\n",
              "      <td>20200103.0</td>\n",
              "      <td>NAA8</td>\n",
              "      <td>1.930344e+09</td>\n",
              "      <td>0</td>\n",
              "    </tr>\n",
              "    <tr>\n",
              "      <th>2</th>\n",
              "      <td>U001</td>\n",
              "      <td>0200794332</td>\n",
              "      <td>COST trust</td>\n",
              "      <td>NaN</td>\n",
              "      <td>2020.0</td>\n",
              "      <td>1.930845e+09</td>\n",
              "      <td>2020-05-01</td>\n",
              "      <td>20200501</td>\n",
              "      <td>20200501</td>\n",
              "      <td>20200516.0</td>\n",
              "      <td>USD</td>\n",
              "      <td>RV</td>\n",
              "      <td>1.0</td>\n",
              "      <td>NaN</td>\n",
              "      <td>13776.49</td>\n",
              "      <td>20200501.0</td>\n",
              "      <td>NAAX</td>\n",
              "      <td>1.930845e+09</td>\n",
              "      <td>1</td>\n",
              "    </tr>\n",
              "    <tr>\n",
              "      <th>3</th>\n",
              "      <td>U001</td>\n",
              "      <td>0200744019</td>\n",
              "      <td>TARG co</td>\n",
              "      <td>NaN</td>\n",
              "      <td>2020.0</td>\n",
              "      <td>1.930702e+09</td>\n",
              "      <td>2020-03-26</td>\n",
              "      <td>20200325</td>\n",
              "      <td>20200326</td>\n",
              "      <td>20200410.0</td>\n",
              "      <td>USD</td>\n",
              "      <td>RV</td>\n",
              "      <td>1.0</td>\n",
              "      <td>NaN</td>\n",
              "      <td>55901.16</td>\n",
              "      <td>20200326.0</td>\n",
              "      <td>NAA8</td>\n",
              "      <td>1.930702e+09</td>\n",
              "      <td>1</td>\n",
              "    </tr>\n",
              "    <tr>\n",
              "      <th>4</th>\n",
              "      <td>U001</td>\n",
              "      <td>0200769623</td>\n",
              "      <td>WAL-MAR corp</td>\n",
              "      <td>NaN</td>\n",
              "      <td>2020.0</td>\n",
              "      <td>1.930831e+09</td>\n",
              "      <td>2020-04-28</td>\n",
              "      <td>20200428</td>\n",
              "      <td>20200428</td>\n",
              "      <td>20200513.0</td>\n",
              "      <td>USD</td>\n",
              "      <td>RV</td>\n",
              "      <td>1.0</td>\n",
              "      <td>NaN</td>\n",
              "      <td>61618.82</td>\n",
              "      <td>20200428.0</td>\n",
              "      <td>NAH4</td>\n",
              "      <td>1.930831e+09</td>\n",
              "      <td>1</td>\n",
              "    </tr>\n",
              "    <tr>\n",
              "      <th>...</th>\n",
              "      <td>...</td>\n",
              "      <td>...</td>\n",
              "      <td>...</td>\n",
              "      <td>...</td>\n",
              "      <td>...</td>\n",
              "      <td>...</td>\n",
              "      <td>...</td>\n",
              "      <td>...</td>\n",
              "      <td>...</td>\n",
              "      <td>...</td>\n",
              "      <td>...</td>\n",
              "      <td>...</td>\n",
              "      <td>...</td>\n",
              "      <td>...</td>\n",
              "      <td>...</td>\n",
              "      <td>...</td>\n",
              "      <td>...</td>\n",
              "      <td>...</td>\n",
              "      <td>...</td>\n",
              "    </tr>\n",
              "    <tr>\n",
              "      <th>49995</th>\n",
              "      <td>U001</td>\n",
              "      <td>0200769623</td>\n",
              "      <td>WAL-MAR llc</td>\n",
              "      <td>2019-11-12 00:00:00</td>\n",
              "      <td>2019.0</td>\n",
              "      <td>1.930056e+09</td>\n",
              "      <td>2019-10-29</td>\n",
              "      <td>20191026</td>\n",
              "      <td>20191029</td>\n",
              "      <td>20191113.0</td>\n",
              "      <td>USD</td>\n",
              "      <td>RV</td>\n",
              "      <td>1.0</td>\n",
              "      <td>NaN</td>\n",
              "      <td>15887.43</td>\n",
              "      <td>20191029.0</td>\n",
              "      <td>NAH4</td>\n",
              "      <td>1.930056e+09</td>\n",
              "      <td>0</td>\n",
              "    </tr>\n",
              "    <tr>\n",
              "      <th>49996</th>\n",
              "      <td>U001</td>\n",
              "      <td>0200696090</td>\n",
              "      <td>UNITE corp</td>\n",
              "      <td>NaN</td>\n",
              "      <td>2020.0</td>\n",
              "      <td>1.930844e+09</td>\n",
              "      <td>2020-05-05</td>\n",
              "      <td>20200504</td>\n",
              "      <td>20200505</td>\n",
              "      <td>20200520.0</td>\n",
              "      <td>USD</td>\n",
              "      <td>RV</td>\n",
              "      <td>1.0</td>\n",
              "      <td>NaN</td>\n",
              "      <td>3885.92</td>\n",
              "      <td>20200505.0</td>\n",
              "      <td>NAA8</td>\n",
              "      <td>1.930844e+09</td>\n",
              "      <td>1</td>\n",
              "    </tr>\n",
              "    <tr>\n",
              "      <th>49997</th>\n",
              "      <td>CA02</td>\n",
              "      <td>0140106165</td>\n",
              "      <td>OCEA llc</td>\n",
              "      <td>NaN</td>\n",
              "      <td>2020.0</td>\n",
              "      <td>2.960629e+09</td>\n",
              "      <td>2020-04-17</td>\n",
              "      <td>20200417</td>\n",
              "      <td>20200417</td>\n",
              "      <td>20200502.0</td>\n",
              "      <td>CAD</td>\n",
              "      <td>RV</td>\n",
              "      <td>1.0</td>\n",
              "      <td>NaN</td>\n",
              "      <td>1940.40</td>\n",
              "      <td>20200422.0</td>\n",
              "      <td>CA10</td>\n",
              "      <td>2.960629e+09</td>\n",
              "      <td>1</td>\n",
              "    </tr>\n",
              "    <tr>\n",
              "      <th>49998</th>\n",
              "      <td>U001</td>\n",
              "      <td>200769623</td>\n",
              "      <td>WAL-MAR corporation</td>\n",
              "      <td>NaN</td>\n",
              "      <td>2020.0</td>\n",
              "      <td>1.930886e+09</td>\n",
              "      <td>2020-05-12</td>\n",
              "      <td>20200511</td>\n",
              "      <td>20200512</td>\n",
              "      <td>20200527.0</td>\n",
              "      <td>USD</td>\n",
              "      <td>RV</td>\n",
              "      <td>1.0</td>\n",
              "      <td>NaN</td>\n",
              "      <td>13807.07</td>\n",
              "      <td>20200512.0</td>\n",
              "      <td>NAH4</td>\n",
              "      <td>1.930886e+09</td>\n",
              "      <td>1</td>\n",
              "    </tr>\n",
              "    <tr>\n",
              "      <th>49999</th>\n",
              "      <td>U001</td>\n",
              "      <td>0200759878</td>\n",
              "      <td>SA trust</td>\n",
              "      <td>NaN</td>\n",
              "      <td>2020.0</td>\n",
              "      <td>1.930777e+09</td>\n",
              "      <td>2020-04-14</td>\n",
              "      <td>20200411</td>\n",
              "      <td>20200414</td>\n",
              "      <td>20200429.0</td>\n",
              "      <td>USD</td>\n",
              "      <td>RV</td>\n",
              "      <td>1.0</td>\n",
              "      <td>NaN</td>\n",
              "      <td>23036.74</td>\n",
              "      <td>20200414.0</td>\n",
              "      <td>NAH4</td>\n",
              "      <td>1.930777e+09</td>\n",
              "      <td>1</td>\n",
              "    </tr>\n",
              "  </tbody>\n",
              "</table>\n",
              "<p>50000 rows × 19 columns</p>\n",
              "</div>"
            ],
            "text/plain": [
              "      business_code cust_number  ...    invoice_id isOpen\n",
              "0              U001  0200078795  ...  1.930544e+09      0\n",
              "1              U001   200726979  ...  1.930344e+09      0\n",
              "2              U001  0200794332  ...  1.930845e+09      1\n",
              "3              U001  0200744019  ...  1.930702e+09      1\n",
              "4              U001  0200769623  ...  1.930831e+09      1\n",
              "...             ...         ...  ...           ...    ...\n",
              "49995          U001  0200769623  ...  1.930056e+09      0\n",
              "49996          U001  0200696090  ...  1.930844e+09      1\n",
              "49997          CA02  0140106165  ...  2.960629e+09      1\n",
              "49998          U001   200769623  ...  1.930886e+09      1\n",
              "49999          U001  0200759878  ...  1.930777e+09      1\n",
              "\n",
              "[50000 rows x 19 columns]"
            ]
          },
          "metadata": {
            "tags": []
          },
          "execution_count": 2
        }
      ]
    },
    {
      "cell_type": "markdown",
      "metadata": {
        "id": "yJdUrd-kcOXx"
      },
      "source": [
        "#About the data"
      ]
    },
    {
      "cell_type": "code",
      "metadata": {
        "colab": {
          "base_uri": "https://localhost:8080/"
        },
        "id": "yq0ICJOLh85V",
        "outputId": "06042513-e5bc-456d-b05e-60172782df9a"
      },
      "source": [
        "df.shape"
      ],
      "execution_count": 3,
      "outputs": [
        {
          "output_type": "execute_result",
          "data": {
            "text/plain": [
              "(50000, 19)"
            ]
          },
          "metadata": {
            "tags": []
          },
          "execution_count": 3
        }
      ]
    },
    {
      "cell_type": "code",
      "metadata": {
        "colab": {
          "base_uri": "https://localhost:8080/"
        },
        "id": "uHhYXRlWZyzQ",
        "outputId": "b8e8c157-0bef-4c2f-b8fc-e72558e5eae2"
      },
      "source": [
        "df.info()"
      ],
      "execution_count": 4,
      "outputs": [
        {
          "output_type": "stream",
          "text": [
            "<class 'pandas.core.frame.DataFrame'>\n",
            "RangeIndex: 50000 entries, 0 to 49999\n",
            "Data columns (total 19 columns):\n",
            " #   Column                  Non-Null Count  Dtype  \n",
            "---  ------                  --------------  -----  \n",
            " 0   business_code           50000 non-null  object \n",
            " 1   cust_number             50000 non-null  object \n",
            " 2   name_customer           50000 non-null  object \n",
            " 3   clear_date              40000 non-null  object \n",
            " 4   buisness_year           50000 non-null  float64\n",
            " 5   doc_id                  50000 non-null  float64\n",
            " 6   posting_date            50000 non-null  object \n",
            " 7   document_create_date    50000 non-null  int64  \n",
            " 8   document_create_date.1  50000 non-null  int64  \n",
            " 9   due_in_date             50000 non-null  float64\n",
            " 10  invoice_currency        50000 non-null  object \n",
            " 11  document type           50000 non-null  object \n",
            " 12  posting_id              50000 non-null  float64\n",
            " 13  area_business           0 non-null      float64\n",
            " 14  total_open_amount       50000 non-null  float64\n",
            " 15  baseline_create_date    50000 non-null  float64\n",
            " 16  cust_payment_terms      50000 non-null  object \n",
            " 17  invoice_id              49995 non-null  float64\n",
            " 18  isOpen                  50000 non-null  int64  \n",
            "dtypes: float64(8), int64(3), object(8)\n",
            "memory usage: 7.2+ MB\n"
          ],
          "name": "stdout"
        }
      ]
    },
    {
      "cell_type": "markdown",
      "metadata": {
        "id": "MZ2DObp0cTjD"
      },
      "source": [
        "#Data Preprocessing"
      ]
    },
    {
      "cell_type": "code",
      "metadata": {
        "colab": {
          "base_uri": "https://localhost:8080/"
        },
        "id": "o0ioTvSOiJsX",
        "outputId": "39d4318f-bcb6-451b-a2f7-f6c64ea21b88"
      },
      "source": [
        "df.isnull().sum()"
      ],
      "execution_count": 5,
      "outputs": [
        {
          "output_type": "execute_result",
          "data": {
            "text/plain": [
              "business_code                 0\n",
              "cust_number                   0\n",
              "name_customer                 0\n",
              "clear_date                10000\n",
              "buisness_year                 0\n",
              "doc_id                        0\n",
              "posting_date                  0\n",
              "document_create_date          0\n",
              "document_create_date.1        0\n",
              "due_in_date                   0\n",
              "invoice_currency              0\n",
              "document type                 0\n",
              "posting_id                    0\n",
              "area_business             50000\n",
              "total_open_amount             0\n",
              "baseline_create_date          0\n",
              "cust_payment_terms            0\n",
              "invoice_id                    5\n",
              "isOpen                        0\n",
              "dtype: int64"
            ]
          },
          "metadata": {
            "tags": []
          },
          "execution_count": 5
        }
      ]
    },
    {
      "cell_type": "code",
      "metadata": {
        "colab": {
          "base_uri": "https://localhost:8080/",
          "height": 401
        },
        "id": "ysfsKtkIVhwL",
        "outputId": "828220c9-90cb-4471-c683-471ff13d903c"
      },
      "source": [
        "sns.heatmap(df.isnull(), yticklabels=False, cmap=\"YlGnBu\")"
      ],
      "execution_count": 6,
      "outputs": [
        {
          "output_type": "execute_result",
          "data": {
            "text/plain": [
              "<matplotlib.axes._subplots.AxesSubplot at 0x7fd5809c5ed0>"
            ]
          },
          "metadata": {
            "tags": []
          },
          "execution_count": 6
        },
        {
          "output_type": "display_data",
          "data": {
            "image/png": "[encoded data removed]",
            "text/plain": [
              "<Figure size 432x288 with 2 Axes>"
            ]
          },
          "metadata": {
            "tags": [],
            "needs_background": "light"
          }
        }
      ]
    },
    {
      "cell_type": "code",
      "metadata": {
        "id": "j0_kztPLjrNW"
      },
      "source": [
        "df.dropna(how='all', axis=1, inplace=True) #drop the col with highest NULL values"
      ],
      "execution_count": 7,
      "outputs": []
    },
    {
      "cell_type": "code",
      "metadata": {
        "id": "AiX9bIEuXTZB"
      },
      "source": [
        "df['invoice_id']=df[df['invoice_id'].isnull()==False]"
      ],
      "execution_count": 8,
      "outputs": []
    },
    {
      "cell_type": "markdown",
      "metadata": {
        "id": "SSZwJlmtSGXD"
      },
      "source": [
        "-->Since document_create_data & document_create_data.1  && \n",
        "docid and invoice_id have  &&  \n",
        " baseline and due_date are correlated by >98%, hence drop one col. \n",
        "\n",
        "-->since posting_id has almmost null values, so i'll drop it."
      ]
    },
    {
      "cell_type": "code",
      "metadata": {
        "id": "nfmvVr3dTLl_",
        "colab": {
          "base_uri": "https://localhost:8080/"
        },
        "outputId": "a4a1c004-da50-4c4b-da60-b9f7bd1bce8c"
      },
      "source": [
        "df.nunique()"
      ],
      "execution_count": 9,
      "outputs": [
        {
          "output_type": "execute_result",
          "data": {
            "text/plain": [
              "business_code                 6\n",
              "cust_number                1429\n",
              "name_customer              4186\n",
              "clear_date                  398\n",
              "buisness_year                 2\n",
              "doc_id                    48793\n",
              "posting_date                504\n",
              "document_create_date        507\n",
              "document_create_date.1      504\n",
              "due_in_date                 551\n",
              "invoice_currency              2\n",
              "document type                 2\n",
              "posting_id                    1\n",
              "total_open_amount         44089\n",
              "baseline_create_date        508\n",
              "cust_payment_terms           71\n",
              "invoice_id                    6\n",
              "isOpen                        2\n",
              "dtype: int64"
            ]
          },
          "metadata": {
            "tags": []
          },
          "execution_count": 9
        }
      ]
    },
    {
      "cell_type": "code",
      "metadata": {
        "id": "NTuTJ61eZS9j"
      },
      "source": [
        "df.drop(columns=['doc_id', 'document type'], inplace=True, axis=1)"
      ],
      "execution_count": 10,
      "outputs": []
    },
    {
      "cell_type": "code",
      "metadata": {
        "colab": {
          "base_uri": "https://localhost:8080/"
        },
        "id": "F3tUcGGLg9M8",
        "outputId": "d6ccb306-c517-43a8-d810-c6bfdc296943"
      },
      "source": [
        "df.drop_duplicates(keep='first', inplace=True)\n",
        "df.shape"
      ],
      "execution_count": 11,
      "outputs": [
        {
          "output_type": "execute_result",
          "data": {
            "text/plain": [
              "(48780, 16)"
            ]
          },
          "metadata": {
            "tags": []
          },
          "execution_count": 11
        }
      ]
    },
    {
      "cell_type": "code",
      "metadata": {
        "id": "PrAcxlFMC57t"
      },
      "source": [
        "df.T.drop_duplicates(keep='first', inplace=True)"
      ],
      "execution_count": 12,
      "outputs": []
    },
    {
      "cell_type": "code",
      "metadata": {
        "id": "eBrjN62ziCfN",
        "colab": {
          "base_uri": "https://localhost:8080/"
        },
        "outputId": "ca8a98da-24ff-4bb8-e1f5-a5856d9e9104"
      },
      "source": [
        "df.drop(columns=['document_create_date.1'], inplace=True, axis=1)\n",
        "df.columns"
      ],
      "execution_count": 13,
      "outputs": [
        {
          "output_type": "execute_result",
          "data": {
            "text/plain": [
              "Index(['business_code', 'cust_number', 'name_customer', 'clear_date',\n",
              "       'buisness_year', 'posting_date', 'document_create_date', 'due_in_date',\n",
              "       'invoice_currency', 'posting_id', 'total_open_amount',\n",
              "       'baseline_create_date', 'cust_payment_terms', 'invoice_id', 'isOpen'],\n",
              "      dtype='object')"
            ]
          },
          "metadata": {
            "tags": []
          },
          "execution_count": 13
        }
      ]
    },
    {
      "cell_type": "code",
      "metadata": {
        "id": "0_uklgSe2xjJ",
        "colab": {
          "base_uri": "https://localhost:8080/"
        },
        "outputId": "2595ad43-5807-43c7-80d9-d6bc4dbd448d"
      },
      "source": [
        "df['invoice_currency'].value_counts()"
      ],
      "execution_count": 14,
      "outputs": [
        {
          "output_type": "execute_result",
          "data": {
            "text/plain": [
              "USD    45007\n",
              "CAD     3773\n",
              "Name: invoice_currency, dtype: int64"
            ]
          },
          "metadata": {
            "tags": []
          },
          "execution_count": 14
        }
      ]
    },
    {
      "cell_type": "code",
      "metadata": {
        "id": "Hn_PB4DJ_e6P",
        "colab": {
          "base_uri": "https://localhost:8080/",
          "height": 258
        },
        "outputId": "55203eed-41ba-43e9-f5ec-e55bb652db97"
      },
      "source": [
        "def convertcurr(row):\n",
        "\tif row[\"invoice_currency\"] == 'CAD':\n",
        "\t\treturn row['total_open_amount'] * (0.8) \n",
        "\telse:\n",
        "\t\treturn row['total_open_amount']\n",
        "\n",
        "df[\"total_open_amt(USD)\"] = df.apply(convertcurr, axis=1)\n",
        "\n",
        "pd.options.display.float_format = '{:.2f}'.format\n",
        "\n",
        "df.drop(columns=['invoice_currency', 'total_open_amount'], inplace=True,axis=1)\n",
        "df.head()"
      ],
      "execution_count": 15,
      "outputs": [
        {
          "output_type": "execute_result",
          "data": {
            "text/html": [
              "<div>\n",
              "<style scoped>\n",
              "    .dataframe tbody tr th:only-of-type {\n",
              "        vertical-align: middle;\n",
              "    }\n",
              "\n",
              "    .dataframe tbody tr th {\n",
              "        vertical-align: top;\n",
              "    }\n",
              "\n",
              "    .dataframe thead th {\n",
              "        text-align: right;\n",
              "    }\n",
              "</style>\n",
              "<table border=\"1\" class=\"dataframe\">\n",
              "  <thead>\n",
              "    <tr style=\"text-align: right;\">\n",
              "      <th></th>\n",
              "      <th>business_code</th>\n",
              "      <th>cust_number</th>\n",
              "      <th>name_customer</th>\n",
              "      <th>clear_date</th>\n",
              "      <th>buisness_year</th>\n",
              "      <th>posting_date</th>\n",
              "      <th>document_create_date</th>\n",
              "      <th>due_in_date</th>\n",
              "      <th>posting_id</th>\n",
              "      <th>baseline_create_date</th>\n",
              "      <th>cust_payment_terms</th>\n",
              "      <th>invoice_id</th>\n",
              "      <th>isOpen</th>\n",
              "      <th>total_open_amt(USD)</th>\n",
              "    </tr>\n",
              "  </thead>\n",
              "  <tbody>\n",
              "    <tr>\n",
              "      <th>0</th>\n",
              "      <td>U001</td>\n",
              "      <td>0200078795</td>\n",
              "      <td>H T H co</td>\n",
              "      <td>2020-03-05 00:00:00</td>\n",
              "      <td>2020.00</td>\n",
              "      <td>2020-02-19</td>\n",
              "      <td>20200219</td>\n",
              "      <td>20200305.00</td>\n",
              "      <td>1.00</td>\n",
              "      <td>20200219.00</td>\n",
              "      <td>NAA8</td>\n",
              "      <td>U001</td>\n",
              "      <td>0</td>\n",
              "      <td>1609.27</td>\n",
              "    </tr>\n",
              "    <tr>\n",
              "      <th>1</th>\n",
              "      <td>U001</td>\n",
              "      <td>200726979</td>\n",
              "      <td>BJ'S  foundation</td>\n",
              "      <td>2020-01-21 00:00:00</td>\n",
              "      <td>2020.00</td>\n",
              "      <td>2020-01-03</td>\n",
              "      <td>20200102</td>\n",
              "      <td>20200118.00</td>\n",
              "      <td>1.00</td>\n",
              "      <td>20200103.00</td>\n",
              "      <td>NAA8</td>\n",
              "      <td>U001</td>\n",
              "      <td>0</td>\n",
              "      <td>98529.29</td>\n",
              "    </tr>\n",
              "    <tr>\n",
              "      <th>2</th>\n",
              "      <td>U001</td>\n",
              "      <td>0200794332</td>\n",
              "      <td>COST trust</td>\n",
              "      <td>NaN</td>\n",
              "      <td>2020.00</td>\n",
              "      <td>2020-05-01</td>\n",
              "      <td>20200501</td>\n",
              "      <td>20200516.00</td>\n",
              "      <td>1.00</td>\n",
              "      <td>20200501.00</td>\n",
              "      <td>NAAX</td>\n",
              "      <td>U001</td>\n",
              "      <td>1</td>\n",
              "      <td>13776.49</td>\n",
              "    </tr>\n",
              "    <tr>\n",
              "      <th>3</th>\n",
              "      <td>U001</td>\n",
              "      <td>0200744019</td>\n",
              "      <td>TARG co</td>\n",
              "      <td>NaN</td>\n",
              "      <td>2020.00</td>\n",
              "      <td>2020-03-26</td>\n",
              "      <td>20200325</td>\n",
              "      <td>20200410.00</td>\n",
              "      <td>1.00</td>\n",
              "      <td>20200326.00</td>\n",
              "      <td>NAA8</td>\n",
              "      <td>U001</td>\n",
              "      <td>1</td>\n",
              "      <td>55901.16</td>\n",
              "    </tr>\n",
              "    <tr>\n",
              "      <th>4</th>\n",
              "      <td>U001</td>\n",
              "      <td>0200769623</td>\n",
              "      <td>WAL-MAR corp</td>\n",
              "      <td>NaN</td>\n",
              "      <td>2020.00</td>\n",
              "      <td>2020-04-28</td>\n",
              "      <td>20200428</td>\n",
              "      <td>20200513.00</td>\n",
              "      <td>1.00</td>\n",
              "      <td>20200428.00</td>\n",
              "      <td>NAH4</td>\n",
              "      <td>U001</td>\n",
              "      <td>1</td>\n",
              "      <td>61618.82</td>\n",
              "    </tr>\n",
              "  </tbody>\n",
              "</table>\n",
              "</div>"
            ],
            "text/plain": [
              "  business_code cust_number  ... isOpen total_open_amt(USD)\n",
              "0          U001  0200078795  ...      0             1609.27\n",
              "1          U001   200726979  ...      0            98529.29\n",
              "2          U001  0200794332  ...      1            13776.49\n",
              "3          U001  0200744019  ...      1            55901.16\n",
              "4          U001  0200769623  ...      1            61618.82\n",
              "\n",
              "[5 rows x 14 columns]"
            ]
          },
          "metadata": {
            "tags": []
          },
          "execution_count": 15
        }
      ]
    },
    {
      "cell_type": "code",
      "metadata": {
        "id": "sALBA0unwxcg"
      },
      "source": [
        "ax=[x for x in df['cust_payment_terms'].value_counts().sort_values(ascending=False).head(14).index]\n",
        "df['cust_payment_terms'] = np.where(df['cust_payment_terms'].isin(ax),df['cust_payment_terms'], \"Other\")"
      ],
      "execution_count": 16,
      "outputs": []
    },
    {
      "cell_type": "code",
      "metadata": {
        "colab": {
          "base_uri": "https://localhost:8080/"
        },
        "id": "vll5w-9Hz_yx",
        "outputId": "a5d9ca88-a8c5-4945-daaf-ae18315413f5"
      },
      "source": [
        "df['cust_payment_terms'].value_counts()"
      ],
      "execution_count": 17,
      "outputs": [
        {
          "output_type": "execute_result",
          "data": {
            "text/plain": [
              "NAA8     19413\n",
              "NAH4     13456\n",
              "CA10      3686\n",
              "Other     2212\n",
              "NAC6      1757\n",
              "NAM4      1332\n",
              "NAAX      1197\n",
              "NAU5       899\n",
              "NAD1       861\n",
              "NAGD       843\n",
              "NAG2       831\n",
              "NA32       735\n",
              "NAX2       571\n",
              "NAM2       556\n",
              "NA10       431\n",
              "Name: cust_payment_terms, dtype: int64"
            ]
          },
          "metadata": {
            "tags": []
          },
          "execution_count": 17
        }
      ]
    },
    {
      "cell_type": "code",
      "metadata": {
        "colab": {
          "base_uri": "https://localhost:8080/"
        },
        "id": "QZj1yIm73sWt",
        "outputId": "d4d476c4-cd3e-46a3-a332-3f400a7e7fa2"
      },
      "source": [
        "df.name_customer.value_counts().head(40)"
      ],
      "execution_count": 18,
      "outputs": [
        {
          "output_type": "execute_result",
          "data": {
            "text/plain": [
              "WAL-MAR corporation    1191\n",
              "WAL-MAR in             1149\n",
              "WAL-MAR co             1122\n",
              "WAL-MAR systems        1122\n",
              "WAL-MAR foundation     1111\n",
              "WAL-MAR us             1104\n",
              "WAL-MAR                1101\n",
              "WAL-MAR associates     1089\n",
              "WAL-MAR corp           1086\n",
              "WAL-MAR trust          1086\n",
              "WAL-MAR llc            1050\n",
              "BJ'S  us                203\n",
              "BJ'S  associates        190\n",
              "BJ'S                    189\n",
              "BJ'S  trust             182\n",
              "C&S WH llc              177\n",
              "BJ'S  systems           175\n",
              "BJ'S  llc               174\n",
              "C&S WH corporation      173\n",
              "BJ'S  in                171\n",
              "BJ'S  foundation        171\n",
              "BJ'S  corporation       170\n",
              "BJ'S  corp              170\n",
              "BJ'S  co                170\n",
              "C&S WH systems          167\n",
              "C&S WH corp             165\n",
              "SA foundation           165\n",
              "SA llc                  160\n",
              "SA in                   159\n",
              "SA trust                156\n",
              "SA corp                 155\n",
              "SA us                   152\n",
              "SA corporation          152\n",
              "C&S WH in               148\n",
              "SA co                   147\n",
              "SA                      145\n",
              "SA systems              142\n",
              "C&S WH co               141\n",
              "C&S WH                  137\n",
              "C&S WH trust            136\n",
              "Name: name_customer, dtype: int64"
            ]
          },
          "metadata": {
            "tags": []
          },
          "execution_count": 18
        }
      ]
    },
    {
      "cell_type": "code",
      "metadata": {
        "id": "uDfFgBmpW420"
      },
      "source": [
        "bx=[x for x in df['name_customer'].value_counts().sort_values(ascending=False).head(830).index]\n",
        "df['name_customer'] = np.where(df['name_customer'].isin(bx),df['name_customer'], \"Other\")"
      ],
      "execution_count": 19,
      "outputs": []
    },
    {
      "cell_type": "code",
      "metadata": {
        "colab": {
          "base_uri": "https://localhost:8080/"
        },
        "id": "5UGVXs5ZXPqq",
        "outputId": "77b71b86-fe65-410a-928e-de0072d8b671"
      },
      "source": [
        "df['name_customer'].value_counts().unique()"
      ],
      "execution_count": 20,
      "outputs": [
        {
          "output_type": "execute_result",
          "data": {
            "text/plain": [
              "array([7312, 1191, 1149, 1122, 1111, 1104, 1101, 1089, 1086, 1050,  203,\n",
              "        190,  189,  182,  177,  175,  174,  173,  171,  170,  167,  165,\n",
              "        160,  159,  156,  155,  152,  148,  147,  145,  142,  141,  137,\n",
              "        136,  134,  131,  128,  125,  122,  121,  118,  114,  113,  112,\n",
              "        111,  109,  108,  107,  104,  103,  102,  101,  100,   99,   98,\n",
              "         97,   96,   93,   92,   89,   88,   87,   86,   85,   83,   82,\n",
              "         81,   80,   79,   78,   77,   76,   75,   74,   73,   72,   71,\n",
              "         70,   68,   66,   65,   64,   63,   62,   61,   60,   59,   58,\n",
              "         57,   56,   55,   54,   53,   52,   51,   50,   49,   48,   47,\n",
              "         46,   45,   44,   43,   42,   41,   40,   39,   38,   37,   36,\n",
              "         35,   34,   33,   32,   31,   30,   29,   28,   27,   26,   25,\n",
              "         24,   23,   22,   21,   20,   19,   18,   17,   16,   15,   14,\n",
              "         13,   12,   11,   10,    9])"
            ]
          },
          "metadata": {
            "tags": []
          },
          "execution_count": 20
        }
      ]
    },
    {
      "cell_type": "code",
      "metadata": {
        "colab": {
          "base_uri": "https://localhost:8080/"
        },
        "id": "x4v3uikNYOG9",
        "outputId": "0299f654-c8db-4eda-9f2c-3eb18979ced4"
      },
      "source": [
        "df.cust_number.value_counts()"
      ],
      "execution_count": 21,
      "outputs": [
        {
          "output_type": "execute_result",
          "data": {
            "text/plain": [
              "0200769623    11439\n",
              "0200726979     1856\n",
              "0200762301     1542\n",
              "0200759878     1333\n",
              "0200794332     1120\n",
              "              ...  \n",
              "0200865160        1\n",
              "0200541916        1\n",
              "0100053798        1\n",
              "0200366118        1\n",
              "140106322         1\n",
              "Name: cust_number, Length: 1429, dtype: int64"
            ]
          },
          "metadata": {
            "tags": []
          },
          "execution_count": 21
        }
      ]
    },
    {
      "cell_type": "code",
      "metadata": {
        "id": "JH7-vsTCXfI2"
      },
      "source": [
        "cx=[x for x in df['cust_number'].value_counts().sort_values(ascending=False).head(285).index]\n",
        "df['cust_number'] = np.where(df['cust_number'].isin(cx),df['cust_number'], \"Other\")"
      ],
      "execution_count": 22,
      "outputs": []
    },
    {
      "cell_type": "code",
      "metadata": {
        "colab": {
          "base_uri": "https://localhost:8080/"
        },
        "id": "XLAPwEzAbqSD",
        "outputId": "920fea50-96eb-4150-c45e-f14e9ea765b5"
      },
      "source": [
        "df.cust_number.value_counts()"
      ],
      "execution_count": 23,
      "outputs": [
        {
          "output_type": "execute_result",
          "data": {
            "text/plain": [
              "0200769623    11439\n",
              "Other          3730\n",
              "0200726979     1856\n",
              "0200762301     1542\n",
              "0200759878     1333\n",
              "              ...  \n",
              "200803720        14\n",
              "0200609331       14\n",
              "0200719839       14\n",
              "0200668077       14\n",
              "0140103400       14\n",
              "Name: cust_number, Length: 286, dtype: int64"
            ]
          },
          "metadata": {
            "tags": []
          },
          "execution_count": 23
        }
      ]
    },
    {
      "cell_type": "markdown",
      "metadata": {
        "id": "VYO9k4hwdBqu"
      },
      "source": [
        "predic delay=> taget=cleardate-duedate"
      ]
    },
    {
      "cell_type": "code",
      "metadata": {
        "colab": {
          "base_uri": "https://localhost:8080/"
        },
        "id": "BzbQKjdJoyoc",
        "outputId": "3b6508ae-2df3-42e6-fb7b-662f09293c84"
      },
      "source": [
        "df['clear_date']=pd.to_datetime(df['clear_date'])\n",
        "df['clear_date']"
      ],
      "execution_count": 24,
      "outputs": [
        {
          "output_type": "execute_result",
          "data": {
            "text/plain": [
              "0       2020-03-05\n",
              "1       2020-01-21\n",
              "2              NaT\n",
              "3              NaT\n",
              "4              NaT\n",
              "           ...    \n",
              "49995   2019-11-12\n",
              "49996          NaT\n",
              "49997          NaT\n",
              "49998          NaT\n",
              "49999          NaT\n",
              "Name: clear_date, Length: 48780, dtype: datetime64[ns]"
            ]
          },
          "metadata": {
            "tags": []
          },
          "execution_count": 24
        }
      ]
    },
    {
      "cell_type": "code",
      "metadata": {
        "colab": {
          "base_uri": "https://localhost:8080/"
        },
        "id": "z-Jj8TTk1dEe",
        "outputId": "d7340949-942c-4f6f-d060-79a2db6fff0a"
      },
      "source": [
        "df['due_in_date']=(df['due_in_date']).astype(int)\n",
        "df['due_in_date']"
      ],
      "execution_count": 25,
      "outputs": [
        {
          "output_type": "execute_result",
          "data": {
            "text/plain": [
              "0        20200305\n",
              "1        20200118\n",
              "2        20200516\n",
              "3        20200410\n",
              "4        20200513\n",
              "           ...   \n",
              "49995    20191113\n",
              "49996    20200520\n",
              "49997    20200502\n",
              "49998    20200527\n",
              "49999    20200429\n",
              "Name: due_in_date, Length: 48780, dtype: int64"
            ]
          },
          "metadata": {
            "tags": []
          },
          "execution_count": 25
        }
      ]
    },
    {
      "cell_type": "code",
      "metadata": {
        "colab": {
          "base_uri": "https://localhost:8080/"
        },
        "id": "wCo9hUYR1pW2",
        "outputId": "9f8413d1-7f78-4e61-f3db-504c8c02884d"
      },
      "source": [
        "df['due_in_date']=pd.to_datetime(df['due_in_date'], format='%Y%M%d')\n",
        "df['due_in_date']"
      ],
      "execution_count": 26,
      "outputs": [
        {
          "output_type": "execute_result",
          "data": {
            "text/plain": [
              "0       2020-01-05 00:03:00\n",
              "1       2020-01-18 00:01:00\n",
              "2       2020-01-16 00:05:00\n",
              "3       2020-01-10 00:04:00\n",
              "4       2020-01-13 00:05:00\n",
              "                ...        \n",
              "49995   2019-01-13 00:11:00\n",
              "49996   2020-01-20 00:05:00\n",
              "49997   2020-01-02 00:05:00\n",
              "49998   2020-01-27 00:05:00\n",
              "49999   2020-01-29 00:04:00\n",
              "Name: due_in_date, Length: 48780, dtype: datetime64[ns]"
            ]
          },
          "metadata": {
            "tags": []
          },
          "execution_count": 26
        }
      ]
    },
    {
      "cell_type": "code",
      "metadata": {
        "colab": {
          "base_uri": "https://localhost:8080/"
        },
        "id": "UhrsuNWRpxr7",
        "outputId": "44064079-2b4b-4494-99b7-6175c6dc91df"
      },
      "source": [
        "df['delay']=(df['clear_date'].dt.date-df['due_in_date'].dt.date)\n",
        "df['delay']"
      ],
      "execution_count": 27,
      "outputs": [
        {
          "output_type": "execute_result",
          "data": {
            "text/plain": [
              "0        60 days\n",
              "1         3 days\n",
              "2            NaT\n",
              "3            NaT\n",
              "4            NaT\n",
              "          ...   \n",
              "49995   303 days\n",
              "49996        NaT\n",
              "49997        NaT\n",
              "49998        NaT\n",
              "49999        NaT\n",
              "Name: delay, Length: 48780, dtype: timedelta64[ns]"
            ]
          },
          "metadata": {
            "tags": []
          },
          "execution_count": 27
        }
      ]
    },
    {
      "cell_type": "code",
      "metadata": {
        "id": "hrN2axHp4M3g"
      },
      "source": [
        "df.sort_values(by=['posting_date'], inplace=True, ascending=True)"
      ],
      "execution_count": 28,
      "outputs": []
    },
    {
      "cell_type": "code",
      "metadata": {
        "colab": {
          "base_uri": "https://localhost:8080/",
          "height": 610
        },
        "id": "bHYIeMq6Sfqd",
        "outputId": "33a17f00-e117-4ad1-9d2d-79c5880a1859"
      },
      "source": [
        "df"
      ],
      "execution_count": 29,
      "outputs": [
        {
          "output_type": "execute_result",
          "data": {
            "text/html": [
              "<div>\n",
              "<style scoped>\n",
              "    .dataframe tbody tr th:only-of-type {\n",
              "        vertical-align: middle;\n",
              "    }\n",
              "\n",
              "    .dataframe tbody tr th {\n",
              "        vertical-align: top;\n",
              "    }\n",
              "\n",
              "    .dataframe thead th {\n",
              "        text-align: right;\n",
              "    }\n",
              "</style>\n",
              "<table border=\"1\" class=\"dataframe\">\n",
              "  <thead>\n",
              "    <tr style=\"text-align: right;\">\n",
              "      <th></th>\n",
              "      <th>business_code</th>\n",
              "      <th>cust_number</th>\n",
              "      <th>name_customer</th>\n",
              "      <th>clear_date</th>\n",
              "      <th>buisness_year</th>\n",
              "      <th>posting_date</th>\n",
              "      <th>document_create_date</th>\n",
              "      <th>due_in_date</th>\n",
              "      <th>posting_id</th>\n",
              "      <th>baseline_create_date</th>\n",
              "      <th>cust_payment_terms</th>\n",
              "      <th>invoice_id</th>\n",
              "      <th>isOpen</th>\n",
              "      <th>total_open_amt(USD)</th>\n",
              "      <th>delay</th>\n",
              "    </tr>\n",
              "  </thead>\n",
              "  <tbody>\n",
              "    <tr>\n",
              "      <th>22792</th>\n",
              "      <td>U001</td>\n",
              "      <td>0200719300</td>\n",
              "      <td>Other</td>\n",
              "      <td>2019-01-15</td>\n",
              "      <td>2019.00</td>\n",
              "      <td>2018-12-30</td>\n",
              "      <td>20181231</td>\n",
              "      <td>2019-01-14 00:01:00</td>\n",
              "      <td>1.00</td>\n",
              "      <td>20181230.00</td>\n",
              "      <td>NAA8</td>\n",
              "      <td>U001</td>\n",
              "      <td>0</td>\n",
              "      <td>768.00</td>\n",
              "      <td>1 days</td>\n",
              "    </tr>\n",
              "    <tr>\n",
              "      <th>36097</th>\n",
              "      <td>U001</td>\n",
              "      <td>0200726979</td>\n",
              "      <td>BJ'S  corporation</td>\n",
              "      <td>2019-01-15</td>\n",
              "      <td>2019.00</td>\n",
              "      <td>2018-12-30</td>\n",
              "      <td>20181229</td>\n",
              "      <td>2019-01-14 00:01:00</td>\n",
              "      <td>1.00</td>\n",
              "      <td>20181230.00</td>\n",
              "      <td>NAA8</td>\n",
              "      <td>U001</td>\n",
              "      <td>0</td>\n",
              "      <td>89.75</td>\n",
              "      <td>1 days</td>\n",
              "    </tr>\n",
              "    <tr>\n",
              "      <th>36666</th>\n",
              "      <td>U001</td>\n",
              "      <td>0200769623</td>\n",
              "      <td>WAL-MAR us</td>\n",
              "      <td>2019-01-15</td>\n",
              "      <td>2019.00</td>\n",
              "      <td>2018-12-30</td>\n",
              "      <td>20181229</td>\n",
              "      <td>2019-01-14 00:01:00</td>\n",
              "      <td>1.00</td>\n",
              "      <td>20181230.00</td>\n",
              "      <td>NAH4</td>\n",
              "      <td>U001</td>\n",
              "      <td>0</td>\n",
              "      <td>12709.16</td>\n",
              "      <td>1 days</td>\n",
              "    </tr>\n",
              "    <tr>\n",
              "      <th>46719</th>\n",
              "      <td>U001</td>\n",
              "      <td>0200726979</td>\n",
              "      <td>BJ'S  systems</td>\n",
              "      <td>2019-01-15</td>\n",
              "      <td>2019.00</td>\n",
              "      <td>2018-12-30</td>\n",
              "      <td>20181229</td>\n",
              "      <td>2019-01-14 00:01:00</td>\n",
              "      <td>1.00</td>\n",
              "      <td>20181230.00</td>\n",
              "      <td>NAA8</td>\n",
              "      <td>U001</td>\n",
              "      <td>0</td>\n",
              "      <td>64.74</td>\n",
              "      <td>1 days</td>\n",
              "    </tr>\n",
              "    <tr>\n",
              "      <th>37354</th>\n",
              "      <td>U001</td>\n",
              "      <td>0200759878</td>\n",
              "      <td>SA foundation</td>\n",
              "      <td>2019-01-17</td>\n",
              "      <td>2019.00</td>\n",
              "      <td>2018-12-30</td>\n",
              "      <td>20181230</td>\n",
              "      <td>2019-01-14 00:01:00</td>\n",
              "      <td>1.00</td>\n",
              "      <td>20181230.00</td>\n",
              "      <td>NAH4</td>\n",
              "      <td>U001</td>\n",
              "      <td>0</td>\n",
              "      <td>26193.03</td>\n",
              "      <td>3 days</td>\n",
              "    </tr>\n",
              "    <tr>\n",
              "      <th>...</th>\n",
              "      <td>...</td>\n",
              "      <td>...</td>\n",
              "      <td>...</td>\n",
              "      <td>...</td>\n",
              "      <td>...</td>\n",
              "      <td>...</td>\n",
              "      <td>...</td>\n",
              "      <td>...</td>\n",
              "      <td>...</td>\n",
              "      <td>...</td>\n",
              "      <td>...</td>\n",
              "      <td>...</td>\n",
              "      <td>...</td>\n",
              "      <td>...</td>\n",
              "      <td>...</td>\n",
              "    </tr>\n",
              "    <tr>\n",
              "      <th>38299</th>\n",
              "      <td>CA02</td>\n",
              "      <td>0140104429</td>\n",
              "      <td>COSTCO co</td>\n",
              "      <td>NaT</td>\n",
              "      <td>2020.00</td>\n",
              "      <td>2020-05-13</td>\n",
              "      <td>20200513</td>\n",
              "      <td>2020-01-23 00:05:00</td>\n",
              "      <td>1.00</td>\n",
              "      <td>20200513.00</td>\n",
              "      <td>CA10</td>\n",
              "      <td>CA02</td>\n",
              "      <td>1</td>\n",
              "      <td>34064.49</td>\n",
              "      <td>NaT</td>\n",
              "    </tr>\n",
              "    <tr>\n",
              "      <th>10215</th>\n",
              "      <td>U001</td>\n",
              "      <td>Other</td>\n",
              "      <td>Other</td>\n",
              "      <td>NaT</td>\n",
              "      <td>2020.00</td>\n",
              "      <td>2020-05-15</td>\n",
              "      <td>20200514</td>\n",
              "      <td>2020-01-30 00:05:00</td>\n",
              "      <td>1.00</td>\n",
              "      <td>20200515.00</td>\n",
              "      <td>NAA8</td>\n",
              "      <td>U001</td>\n",
              "      <td>1</td>\n",
              "      <td>15902.25</td>\n",
              "      <td>NaT</td>\n",
              "    </tr>\n",
              "    <tr>\n",
              "      <th>14402</th>\n",
              "      <td>U001</td>\n",
              "      <td>Other</td>\n",
              "      <td>Other</td>\n",
              "      <td>NaT</td>\n",
              "      <td>2020.00</td>\n",
              "      <td>2020-05-16</td>\n",
              "      <td>20200513</td>\n",
              "      <td>2020-01-31 00:05:00</td>\n",
              "      <td>1.00</td>\n",
              "      <td>20200516.00</td>\n",
              "      <td>NAA8</td>\n",
              "      <td>U001</td>\n",
              "      <td>1</td>\n",
              "      <td>17893.25</td>\n",
              "      <td>NaT</td>\n",
              "    </tr>\n",
              "    <tr>\n",
              "      <th>8545</th>\n",
              "      <td>U013</td>\n",
              "      <td>Other</td>\n",
              "      <td>Other</td>\n",
              "      <td>NaT</td>\n",
              "      <td>2020.00</td>\n",
              "      <td>2020-05-20</td>\n",
              "      <td>20200520</td>\n",
              "      <td>2020-01-19 00:06:00</td>\n",
              "      <td>1.00</td>\n",
              "      <td>20200520.00</td>\n",
              "      <td>Other</td>\n",
              "      <td>U013</td>\n",
              "      <td>1</td>\n",
              "      <td>60726.46</td>\n",
              "      <td>NaT</td>\n",
              "    </tr>\n",
              "    <tr>\n",
              "      <th>21522</th>\n",
              "      <td>U001</td>\n",
              "      <td>0200756072</td>\n",
              "      <td>REINHA us</td>\n",
              "      <td>NaT</td>\n",
              "      <td>2020.00</td>\n",
              "      <td>2020-05-22</td>\n",
              "      <td>20200522</td>\n",
              "      <td>2020-01-21 00:06:00</td>\n",
              "      <td>1.00</td>\n",
              "      <td>20200522.00</td>\n",
              "      <td>Other</td>\n",
              "      <td>U001</td>\n",
              "      <td>1</td>\n",
              "      <td>1.17</td>\n",
              "      <td>NaT</td>\n",
              "    </tr>\n",
              "  </tbody>\n",
              "</table>\n",
              "<p>48780 rows × 15 columns</p>\n",
              "</div>"
            ],
            "text/plain": [
              "      business_code cust_number  ... total_open_amt(USD)  delay\n",
              "22792          U001  0200719300  ...              768.00 1 days\n",
              "36097          U001  0200726979  ...               89.75 1 days\n",
              "36666          U001  0200769623  ...            12709.16 1 days\n",
              "46719          U001  0200726979  ...               64.74 1 days\n",
              "37354          U001  0200759878  ...            26193.03 3 days\n",
              "...             ...         ...  ...                 ...    ...\n",
              "38299          CA02  0140104429  ...            34064.49    NaT\n",
              "10215          U001       Other  ...            15902.25    NaT\n",
              "14402          U001       Other  ...            17893.25    NaT\n",
              "8545           U013       Other  ...            60726.46    NaT\n",
              "21522          U001  0200756072  ...                1.17    NaT\n",
              "\n",
              "[48780 rows x 15 columns]"
            ]
          },
          "metadata": {
            "tags": []
          },
          "execution_count": 29
        }
      ]
    },
    {
      "cell_type": "markdown",
      "metadata": {
        "id": "Vn8oHb4TFFUz"
      },
      "source": [
        "#Split Test and Train Data"
      ]
    },
    {
      "cell_type": "code",
      "metadata": {
        "id": "MQl7qKefIn0L"
      },
      "source": [
        "### Splitting the Data into TEST_SET and TRAINING_SET\n",
        "test = df[df['clear_date'].isnull()]\n",
        "train = df[df['clear_date'].notnull()]\n",
        "\n",
        "\n",
        "### Data Now Looks Like:\n",
        "df.shape, test.shape, train.shape"
      ],
      "execution_count": 338,
      "outputs": []
    },
    {
      "cell_type": "markdown",
      "metadata": {
        "id": "S_w33ptpKVTh"
      },
      "source": [
        "#Train-Test Split on the Train Data"
      ]
    },
    {
      "cell_type": "code",
      "metadata": {
        "id": "kOV_E1WfTjzc"
      },
      "source": [
        "from sklearn.model_selection import train_test_split"
      ],
      "execution_count": 245,
      "outputs": []
    },
    {
      "cell_type": "code",
      "metadata": {
        "id": "1YwFEe0aq-D9"
      },
      "source": [
        "#split depending and target variable using iloc\n",
        "x=train.iloc[:, :-1]\n",
        "y=train.iloc[:, -1:]"
      ],
      "execution_count": 246,
      "outputs": []
    },
    {
      "cell_type": "code",
      "metadata": {
        "colab": {
          "base_uri": "https://localhost:8080/"
        },
        "id": "C_p7OtKCY0s0",
        "outputId": "76b0db3a-eb36-41c1-a8fa-96df1ec8c953"
      },
      "source": [
        "x.shape, y.shape"
      ],
      "execution_count": 247,
      "outputs": [
        {
          "output_type": "execute_result",
          "data": {
            "text/plain": [
              "((39106, 14), (39106, 1))"
            ]
          },
          "metadata": {
            "tags": []
          },
          "execution_count": 247
        }
      ]
    },
    {
      "cell_type": "code",
      "metadata": {
        "id": "fOdvc5-aRYAY"
      },
      "source": [
        "# Split dataset to training and test set\n",
        "#train=70%, test=30%\n",
        "x_train,x_test_ini, y_train, y_test_ini= train_test_split(x,y, test_size = 0.3, random_state = 0, shuffle=False)"
      ],
      "execution_count": 248,
      "outputs": []
    },
    {
      "cell_type": "code",
      "metadata": {
        "colab": {
          "base_uri": "https://localhost:8080/"
        },
        "id": "MvLG73vmXCCW",
        "outputId": "7687382b-4f81-460a-b827-604242d6a8ca"
      },
      "source": [
        "x_train.shape, x_test_ini.shape\n",
        "#len(x_val)"
      ],
      "execution_count": 249,
      "outputs": [
        {
          "output_type": "execute_result",
          "data": {
            "text/plain": [
              "((27374, 14), (11732, 14))"
            ]
          },
          "metadata": {
            "tags": []
          },
          "execution_count": 249
        }
      ]
    },
    {
      "cell_type": "code",
      "metadata": {
        "id": "D2uW9_b9tpuF"
      },
      "source": [
        "#val=50%, test=50%\n",
        "x_test, x_val, y_test, y_val= train_test_split(x_test_ini, y_test_ini, test_size=0.5, random_state=0, shuffle=False)"
      ],
      "execution_count": 250,
      "outputs": []
    },
    {
      "cell_type": "code",
      "metadata": {
        "colab": {
          "base_uri": "https://localhost:8080/"
        },
        "id": "hly3s6R7t-JQ",
        "outputId": "6cb5ba53-b3d1-4518-9a6f-d4ec38a5cf87"
      },
      "source": [
        "x_test.shape, x_val.shape, y_test.shape, y_val.shape"
      ],
      "execution_count": 251,
      "outputs": [
        {
          "output_type": "execute_result",
          "data": {
            "text/plain": [
              "((5866, 14), (5866, 14), (5866, 1), (5866, 1))"
            ]
          },
          "metadata": {
            "tags": []
          },
          "execution_count": 251
        }
      ]
    },
    {
      "cell_type": "markdown",
      "metadata": {
        "id": "oa2nl4veFdcy"
      },
      "source": [
        "#Feature Engineering"
      ]
    },
    {
      "cell_type": "markdown",
      "metadata": {
        "id": "ClfEgad29IRj"
      },
      "source": [
        "1. Label Encoding -- on the object dtype set(cust_name, cust_num, )\n",
        "2. Datetime-> int convert\n",
        "3. Use Feature Scaling--> Gausian Transformation--> BoxCox / Exponential\n",
        "4. Outliers--> 'Date', 'Delay', 'Amt'--store in a variable the values--> calc by z-score(better, easy way)--to visualize use boxplot\n",
        "\n",
        "Whatever u do apply same featues in the test + val set"
      ]
    },
    {
      "cell_type": "code",
      "metadata": {
        "colab": {
          "base_uri": "https://localhost:8080/"
        },
        "id": "WTTKf1ysHuO2",
        "outputId": "f0673908-ac85-4901-9790-dfde3013e746"
      },
      "source": [
        "x_train.columns"
      ],
      "execution_count": 252,
      "outputs": [
        {
          "output_type": "execute_result",
          "data": {
            "text/plain": [
              "Index(['business_code', 'cust_number', 'name_customer', 'clear_date',\n",
              "       'buisness_year', 'posting_date', 'document_create_date', 'due_in_date',\n",
              "       'posting_id', 'baseline_create_date', 'cust_payment_terms',\n",
              "       'invoice_id', 'isOpen', 'total_open_amt(USD)'],\n",
              "      dtype='object')"
            ]
          },
          "metadata": {
            "tags": []
          },
          "execution_count": 252
        }
      ]
    },
    {
      "cell_type": "code",
      "metadata": {
        "colab": {
          "base_uri": "https://localhost:8080/"
        },
        "id": "EXN6VFVXKtuI",
        "outputId": "40e169ff-a7ff-48a0-f7db-fd276e60e006"
      },
      "source": [
        "x_train.nunique()"
      ],
      "execution_count": 253,
      "outputs": [
        {
          "output_type": "execute_result",
          "data": {
            "text/plain": [
              "business_code               6\n",
              "cust_number               286\n",
              "name_customer             831\n",
              "clear_date                285\n",
              "buisness_year               1\n",
              "posting_date              283\n",
              "document_create_date      289\n",
              "due_in_date               344\n",
              "posting_id                  1\n",
              "baseline_create_date      295\n",
              "cust_payment_terms         15\n",
              "invoice_id                  6\n",
              "isOpen                      1\n",
              "total_open_amt(USD)     25079\n",
              "dtype: int64"
            ]
          },
          "metadata": {
            "tags": []
          },
          "execution_count": 253
        }
      ]
    },
    {
      "cell_type": "code",
      "metadata": {
        "id": "T3D6-BuWKswg"
      },
      "source": [
        "# fn to drop col with 1/2 unique col(here, they dont hold much value otherwise do label encoding, or bucketize 'em)\n",
        "def drop_trash(df):\n",
        "  for col in df.columns:\n",
        "    if df[col].nunique()<=2:\n",
        "        df.drop( col, axis=1, inplace=True)\n",
        "\n",
        "drop_trash(x_train)\n",
        "drop_trash(x_val)\n",
        "drop_trash(x_test)"
      ],
      "execution_count": 254,
      "outputs": []
    },
    {
      "cell_type": "code",
      "metadata": {
        "colab": {
          "base_uri": "https://localhost:8080/"
        },
        "id": "ICY5RTrRN0dX",
        "outputId": "8252df45-37c1-444e-daf6-d178c626a718"
      },
      "source": [
        "x_train.columns"
      ],
      "execution_count": 255,
      "outputs": [
        {
          "output_type": "execute_result",
          "data": {
            "text/plain": [
              "Index(['business_code', 'cust_number', 'name_customer', 'clear_date',\n",
              "       'posting_date', 'document_create_date', 'due_in_date',\n",
              "       'baseline_create_date', 'cust_payment_terms', 'invoice_id',\n",
              "       'total_open_amt(USD)'],\n",
              "      dtype='object')"
            ]
          },
          "metadata": {
            "tags": []
          },
          "execution_count": 255
        }
      ]
    },
    {
      "cell_type": "code",
      "metadata": {
        "id": "CjdVW2ADnhT0"
      },
      "source": [
        "#the 4 binary varibles\n",
        "def one_hot_encode(df, fea):\n",
        "  #list of category with most frequent categories of the variable\n",
        "  top_4_bc=[x for x in df[fea].value_counts().sort_values(ascending=False).head(4).index]\n",
        "  for label in top_4_bc:\n",
        "    df[label]=np.where(df[fea]==label, 1, 0)\n",
        "  #zip(df[fea],top_4_bc)\n",
        "  df.drop(fea, axis=1, inplace=True)"
      ],
      "execution_count": 256,
      "outputs": []
    },
    {
      "cell_type": "code",
      "metadata": {
        "id": "Ag_jK4aZ8azF"
      },
      "source": [
        "#one_hot_encode(x_train,'business_code')\n",
        "#x_train\n",
        "\n",
        "#apply on the test sets\n",
        "#one_hot_encode(x_test, 'business_code')\n",
        "#one_hot_encode(x_val, 'business_code')"
      ],
      "execution_count": 257,
      "outputs": []
    },
    {
      "cell_type": "code",
      "metadata": {
        "colab": {
          "base_uri": "https://localhost:8080/"
        },
        "id": "Wo-OwyreQ2cf",
        "outputId": "24f89ce6-f543-400d-d80b-d81faeb8a5e1"
      },
      "source": [
        "x_train.dtypes"
      ],
      "execution_count": 258,
      "outputs": [
        {
          "output_type": "execute_result",
          "data": {
            "text/plain": [
              "business_code                   object\n",
              "cust_number                     object\n",
              "name_customer                   object\n",
              "clear_date              datetime64[ns]\n",
              "posting_date                    object\n",
              "document_create_date             int64\n",
              "due_in_date             datetime64[ns]\n",
              "baseline_create_date           float64\n",
              "cust_payment_terms              object\n",
              "invoice_id                      object\n",
              "total_open_amt(USD)            float64\n",
              "dtype: object"
            ]
          },
          "metadata": {
            "tags": []
          },
          "execution_count": 258
        }
      ]
    },
    {
      "cell_type": "code",
      "metadata": {
        "id": "HWdq5bWu_2n5"
      },
      "source": [
        "#function to convert posting date to month\n",
        "def converposting_date(df, fea):\n",
        "  df[fea]=pd.to_datetime(df[fea])\n",
        "  df['posting_mth']=df[fea].dt.month\n",
        "  df['posting_day']=df[fea].dt.day\n",
        "\n",
        "converposting_date(x_train, 'posting_date')\n",
        "converposting_date(x_val, 'posting_date')\n",
        "converposting_date(x_test, 'posting_date')\n",
        "\n",
        "#function to convert clear date to month\n",
        "def converposting_date(df, fea):\n",
        "  df[fea]=pd.to_datetime(df[fea])\n",
        "  df['clear_mth']=df[fea].dt.month\n",
        "  df['clear_day']=df[fea].dt.day\n",
        "\n",
        "converposting_date(x_train, 'clear_date')\n",
        "converposting_date(x_val, 'clear_date')\n",
        "converposting_date(x_test, 'clear_date')\n",
        "\n",
        "#function to convert due date to month\n",
        "def converposting_date(df, fea):\n",
        "  df[fea]=pd.to_datetime(df[fea])\n",
        "  df['due_mth']=df[fea].dt.month\n",
        "  df['due_day']=df[fea].dt.day\n",
        "\n",
        "converposting_date(x_train, 'due_in_date')\n",
        "converposting_date(x_val, 'due_in_date')\n",
        "converposting_date(x_test, 'due_in_date')"
      ],
      "execution_count": 259,
      "outputs": []
    },
    {
      "cell_type": "code",
      "metadata": {
        "colab": {
          "base_uri": "https://localhost:8080/"
        },
        "id": "_lunNYDJSmMe",
        "outputId": "e71e08ac-99b4-4c97-c896-bdcc0af99129"
      },
      "source": [
        "x_train.dtypes"
      ],
      "execution_count": 260,
      "outputs": [
        {
          "output_type": "execute_result",
          "data": {
            "text/plain": [
              "business_code                   object\n",
              "cust_number                     object\n",
              "name_customer                   object\n",
              "clear_date              datetime64[ns]\n",
              "posting_date            datetime64[ns]\n",
              "document_create_date             int64\n",
              "due_in_date             datetime64[ns]\n",
              "baseline_create_date           float64\n",
              "cust_payment_terms              object\n",
              "invoice_id                      object\n",
              "total_open_amt(USD)            float64\n",
              "posting_mth                      int64\n",
              "posting_day                      int64\n",
              "clear_mth                        int64\n",
              "clear_day                        int64\n",
              "due_mth                          int64\n",
              "due_day                          int64\n",
              "dtype: object"
            ]
          },
          "metadata": {
            "tags": []
          },
          "execution_count": 260
        }
      ]
    },
    {
      "cell_type": "code",
      "metadata": {
        "colab": {
          "base_uri": "https://localhost:8080/"
        },
        "id": "Gq4VUfnxVHSP",
        "outputId": "cc9d7ae5-8660-47b3-81cd-925de7d5065a"
      },
      "source": [
        "x_train['clear_date'].dt.year.value_counts()"
      ],
      "execution_count": 261,
      "outputs": [
        {
          "output_type": "execute_result",
          "data": {
            "text/plain": [
              "2019    27374\n",
              "Name: clear_date, dtype: int64"
            ]
          },
          "metadata": {
            "tags": []
          },
          "execution_count": 261
        }
      ]
    },
    {
      "cell_type": "code",
      "metadata": {
        "id": "70DtV0oqVaH0"
      },
      "source": [
        "#store the dates for later use if needed\n",
        "clear_post_due_dates=x_train.drop(columns=['clear_date', 'posting_date', 'due_in_date'], axis=1, inplace=True)\n",
        "clear_post_due_dates=x_test.drop(columns=['clear_date', 'posting_date', 'due_in_date'], axis=1, inplace=True)\n",
        "clear_post_due_dates=x_val.drop(columns=['clear_date', 'posting_date', 'due_in_date'], axis=1, inplace=True)"
      ],
      "execution_count": 262,
      "outputs": []
    },
    {
      "cell_type": "code",
      "metadata": {
        "colab": {
          "base_uri": "https://localhost:8080/"
        },
        "id": "FtKMxJtxhqdl",
        "outputId": "d72359a7-06c3-4ed9-ad5e-afbacf528aa8"
      },
      "source": [
        "!pip install  category_encoders"
      ],
      "execution_count": 263,
      "outputs": [
        {
          "output_type": "stream",
          "text": [
            "Requirement already satisfied: category_encoders in /usr/local/lib/python3.7/dist-packages (2.2.2)\n",
            "Requirement already satisfied: scikit-learn>=0.20.0 in /usr/local/lib/python3.7/dist-packages (from category_encoders) (0.22.2.post1)\n",
            "Requirement already satisfied: statsmodels>=0.9.0 in /usr/local/lib/python3.7/dist-packages (from category_encoders) (0.10.2)\n",
            "Requirement already satisfied: scipy>=1.0.0 in /usr/local/lib/python3.7/dist-packages (from category_encoders) (1.4.1)\n",
            "Requirement already satisfied: patsy>=0.5.1 in /usr/local/lib/python3.7/dist-packages (from category_encoders) (0.5.1)\n",
            "Requirement already satisfied: pandas>=0.21.1 in /usr/local/lib/python3.7/dist-packages (from category_encoders) (1.1.5)\n",
            "Requirement already satisfied: numpy>=1.14.0 in /usr/local/lib/python3.7/dist-packages (from category_encoders) (1.19.5)\n",
            "Requirement already satisfied: joblib>=0.11 in /usr/local/lib/python3.7/dist-packages (from scikit-learn>=0.20.0->category_encoders) (1.0.1)\n",
            "Requirement already satisfied: six in /usr/local/lib/python3.7/dist-packages (from patsy>=0.5.1->category_encoders) (1.15.0)\n",
            "Requirement already satisfied: pytz>=2017.2 in /usr/local/lib/python3.7/dist-packages (from pandas>=0.21.1->category_encoders) (2018.9)\n",
            "Requirement already satisfied: python-dateutil>=2.7.3 in /usr/local/lib/python3.7/dist-packages (from pandas>=0.21.1->category_encoders) (2.8.1)\n"
          ],
          "name": "stdout"
        }
      ]
    },
    {
      "cell_type": "code",
      "metadata": {
        "id": "h22ef2IBG8z7",
        "colab": {
          "base_uri": "https://localhost:8080/",
          "height": 473
        },
        "outputId": "9cc27227-fbd9-4047-9bb9-b581e41609d8"
      },
      "source": [
        "#Ordinal Encoding by using .cat.codes\n",
        "#from sklearn.preprocessing import OrdinalEncoder\n",
        "#encoder = OrdinalEncoder(handle_unknown= 'use_encoded_value', unknown_value='-1)\n",
        "#x_train[['name_cust_enc','cust_no_enc', 'business_code_enc','cust_payment_terms_enc']] = encoder.fit_transform(x_train[['name_customer', 'cust_number', 'business_code','cust_payment_terms']])\n",
        "\n",
        "x_train['name_customer_enc'] = x_train['name_customer'].astype('category').cat.codes\n",
        "x_train['cust_number_enc'] = x_train['cust_number'].astype('category').cat.codes\n",
        "x_train['business_code_enc'] = x_train['business_code'].astype('category').cat.codes\n",
        "x_train['cust_payment_terms_enc'] = x_train['cust_payment_terms'].astype('category').cat.codes\n",
        "\n",
        "x_train[['name_customer', 'cust_number', 'business_code','cust_payment_terms','name_customer_enc','cust_number_enc', 'business_code_enc','cust_payment_terms_enc']]"
      ],
      "execution_count": 264,
      "outputs": [
        {
          "output_type": "execute_result",
          "data": {
            "text/html": [
              "<div>\n",
              "<style scoped>\n",
              "    .dataframe tbody tr th:only-of-type {\n",
              "        vertical-align: middle;\n",
              "    }\n",
              "\n",
              "    .dataframe tbody tr th {\n",
              "        vertical-align: top;\n",
              "    }\n",
              "\n",
              "    .dataframe thead th {\n",
              "        text-align: right;\n",
              "    }\n",
              "</style>\n",
              "<table border=\"1\" class=\"dataframe\">\n",
              "  <thead>\n",
              "    <tr style=\"text-align: right;\">\n",
              "      <th></th>\n",
              "      <th>name_customer</th>\n",
              "      <th>cust_number</th>\n",
              "      <th>business_code</th>\n",
              "      <th>cust_payment_terms</th>\n",
              "      <th>name_customer_enc</th>\n",
              "      <th>cust_number_enc</th>\n",
              "      <th>business_code_enc</th>\n",
              "      <th>cust_payment_terms_enc</th>\n",
              "    </tr>\n",
              "  </thead>\n",
              "  <tbody>\n",
              "    <tr>\n",
              "      <th>22792</th>\n",
              "      <td>Other</td>\n",
              "      <td>0200719300</td>\n",
              "      <td>U001</td>\n",
              "      <td>NAA8</td>\n",
              "      <td>508</td>\n",
              "      <td>122</td>\n",
              "      <td>1</td>\n",
              "      <td>3</td>\n",
              "    </tr>\n",
              "    <tr>\n",
              "      <th>36097</th>\n",
              "      <td>BJ'S  corporation</td>\n",
              "      <td>0200726979</td>\n",
              "      <td>U001</td>\n",
              "      <td>NAA8</td>\n",
              "      <td>72</td>\n",
              "      <td>133</td>\n",
              "      <td>1</td>\n",
              "      <td>3</td>\n",
              "    </tr>\n",
              "    <tr>\n",
              "      <th>36666</th>\n",
              "      <td>WAL-MAR us</td>\n",
              "      <td>0200769623</td>\n",
              "      <td>U001</td>\n",
              "      <td>NAH4</td>\n",
              "      <td>800</td>\n",
              "      <td>178</td>\n",
              "      <td>1</td>\n",
              "      <td>9</td>\n",
              "    </tr>\n",
              "    <tr>\n",
              "      <th>46719</th>\n",
              "      <td>BJ'S  systems</td>\n",
              "      <td>0200726979</td>\n",
              "      <td>U001</td>\n",
              "      <td>NAA8</td>\n",
              "      <td>76</td>\n",
              "      <td>133</td>\n",
              "      <td>1</td>\n",
              "      <td>3</td>\n",
              "    </tr>\n",
              "    <tr>\n",
              "      <th>37354</th>\n",
              "      <td>SA foundation</td>\n",
              "      <td>0200759878</td>\n",
              "      <td>U001</td>\n",
              "      <td>NAH4</td>\n",
              "      <td>583</td>\n",
              "      <td>164</td>\n",
              "      <td>1</td>\n",
              "      <td>9</td>\n",
              "    </tr>\n",
              "    <tr>\n",
              "      <th>...</th>\n",
              "      <td>...</td>\n",
              "      <td>...</td>\n",
              "      <td>...</td>\n",
              "      <td>...</td>\n",
              "      <td>...</td>\n",
              "      <td>...</td>\n",
              "      <td>...</td>\n",
              "      <td>...</td>\n",
              "    </tr>\n",
              "    <tr>\n",
              "      <th>36173</th>\n",
              "      <td>Other</td>\n",
              "      <td>Other</td>\n",
              "      <td>U001</td>\n",
              "      <td>NAD1</td>\n",
              "      <td>508</td>\n",
              "      <td>285</td>\n",
              "      <td>1</td>\n",
              "      <td>6</td>\n",
              "    </tr>\n",
              "    <tr>\n",
              "      <th>40084</th>\n",
              "      <td>C&amp;S WH llc</td>\n",
              "      <td>0200762301</td>\n",
              "      <td>U001</td>\n",
              "      <td>Other</td>\n",
              "      <td>112</td>\n",
              "      <td>167</td>\n",
              "      <td>1</td>\n",
              "      <td>14</td>\n",
              "    </tr>\n",
              "    <tr>\n",
              "      <th>29796</th>\n",
              "      <td>KROGER associates</td>\n",
              "      <td>0200752302</td>\n",
              "      <td>U001</td>\n",
              "      <td>NAA8</td>\n",
              "      <td>395</td>\n",
              "      <td>157</td>\n",
              "      <td>1</td>\n",
              "      <td>3</td>\n",
              "    </tr>\n",
              "    <tr>\n",
              "      <th>45781</th>\n",
              "      <td>Other</td>\n",
              "      <td>0100036538</td>\n",
              "      <td>U001</td>\n",
              "      <td>NAA8</td>\n",
              "      <td>508</td>\n",
              "      <td>15</td>\n",
              "      <td>1</td>\n",
              "      <td>3</td>\n",
              "    </tr>\n",
              "    <tr>\n",
              "      <th>7364</th>\n",
              "      <td>WAL-MAR corp</td>\n",
              "      <td>0200769623</td>\n",
              "      <td>U001</td>\n",
              "      <td>NAH4</td>\n",
              "      <td>793</td>\n",
              "      <td>178</td>\n",
              "      <td>1</td>\n",
              "      <td>9</td>\n",
              "    </tr>\n",
              "  </tbody>\n",
              "</table>\n",
              "<p>27374 rows × 8 columns</p>\n",
              "</div>"
            ],
            "text/plain": [
              "           name_customer cust_number  ... business_code_enc cust_payment_terms_enc\n",
              "22792              Other  0200719300  ...                 1                      3\n",
              "36097  BJ'S  corporation  0200726979  ...                 1                      3\n",
              "36666         WAL-MAR us  0200769623  ...                 1                      9\n",
              "46719      BJ'S  systems  0200726979  ...                 1                      3\n",
              "37354      SA foundation  0200759878  ...                 1                      9\n",
              "...                  ...         ...  ...               ...                    ...\n",
              "36173              Other       Other  ...                 1                      6\n",
              "40084         C&S WH llc  0200762301  ...                 1                     14\n",
              "29796  KROGER associates  0200752302  ...                 1                      3\n",
              "45781              Other  0100036538  ...                 1                      3\n",
              "7364        WAL-MAR corp  0200769623  ...                 1                      9\n",
              "\n",
              "[27374 rows x 8 columns]"
            ]
          },
          "metadata": {
            "tags": []
          },
          "execution_count": 264
        }
      ]
    },
    {
      "cell_type": "code",
      "metadata": {
        "id": "tn-WTJzBRGUQ"
      },
      "source": [
        "#to handle unkonwn values in OrdinalEncoding\n",
        "#test\n",
        "x_test['name_customer_enc'] = x_test['name_customer'].astype('category').cat.codes\n",
        "x_test['cust_number_enc'] = x_test['cust_number'].astype('category').cat.codes\n",
        "x_test['business_code_enc'] = x_test['business_code'].astype('category').cat.codes\n",
        "x_test['cust_payment_terms_enc'] = x_test['cust_payment_terms'].astype('category').cat.codes\n",
        "#val\n",
        "x_val['name_customer_enc'] = x_val['name_customer'].astype('category').cat.codes\n",
        "x_val['cust_number_enc'] = x_val['cust_number'].astype('category').cat.codes\n",
        "x_val['business_code_enc'] = x_val['business_code'].astype('category').cat.codes\n",
        "x_val['cust_payment_terms_enc'] = x_val['cust_payment_terms'].astype('category').cat.codes"
      ],
      "execution_count": 265,
      "outputs": []
    },
    {
      "cell_type": "code",
      "metadata": {
        "id": "fesohARGgMgK",
        "colab": {
          "base_uri": "https://localhost:8080/",
          "height": 473
        },
        "outputId": "1619c45a-5c14-474c-e464-f04ed7f99fc0"
      },
      "source": [
        "#x_val[['name_cust_enc','cust_no_enc', 'business_code_enc','cust_payment_terms_enc']] = encoder.transform(x_val[['name_customer', 'cust_number', 'business_code','cust_payment_terms']])\n",
        "#x_test[['name_cust_enc','cust_no_enc', 'business_code_enc']] = encoder.transform(x_test[['name_customer', 'cust_number', 'business_code']])\n",
        "\n",
        "x_test[['name_customer', 'cust_number', 'business_code','cust_payment_terms','name_customer_enc','cust_number_enc', 'business_code_enc','cust_payment_terms_enc']]"
      ],
      "execution_count": 266,
      "outputs": [
        {
          "output_type": "execute_result",
          "data": {
            "text/html": [
              "<div>\n",
              "<style scoped>\n",
              "    .dataframe tbody tr th:only-of-type {\n",
              "        vertical-align: middle;\n",
              "    }\n",
              "\n",
              "    .dataframe tbody tr th {\n",
              "        vertical-align: top;\n",
              "    }\n",
              "\n",
              "    .dataframe thead th {\n",
              "        text-align: right;\n",
              "    }\n",
              "</style>\n",
              "<table border=\"1\" class=\"dataframe\">\n",
              "  <thead>\n",
              "    <tr style=\"text-align: right;\">\n",
              "      <th></th>\n",
              "      <th>name_customer</th>\n",
              "      <th>cust_number</th>\n",
              "      <th>business_code</th>\n",
              "      <th>cust_payment_terms</th>\n",
              "      <th>name_customer_enc</th>\n",
              "      <th>cust_number_enc</th>\n",
              "      <th>business_code_enc</th>\n",
              "      <th>cust_payment_terms_enc</th>\n",
              "    </tr>\n",
              "  </thead>\n",
              "  <tbody>\n",
              "    <tr>\n",
              "      <th>39971</th>\n",
              "      <td>Other</td>\n",
              "      <td>0200752393</td>\n",
              "      <td>U001</td>\n",
              "      <td>NAA8</td>\n",
              "      <td>436</td>\n",
              "      <td>151</td>\n",
              "      <td>1</td>\n",
              "      <td>3</td>\n",
              "    </tr>\n",
              "    <tr>\n",
              "      <th>22690</th>\n",
              "      <td>SYSCO</td>\n",
              "      <td>0200785971</td>\n",
              "      <td>U001</td>\n",
              "      <td>NAA8</td>\n",
              "      <td>598</td>\n",
              "      <td>197</td>\n",
              "      <td>1</td>\n",
              "      <td>3</td>\n",
              "    </tr>\n",
              "    <tr>\n",
              "      <th>38907</th>\n",
              "      <td>SYSCO corp</td>\n",
              "      <td>0200900909</td>\n",
              "      <td>U001</td>\n",
              "      <td>NA32</td>\n",
              "      <td>626</td>\n",
              "      <td>227</td>\n",
              "      <td>1</td>\n",
              "      <td>2</td>\n",
              "    </tr>\n",
              "    <tr>\n",
              "      <th>43605</th>\n",
              "      <td>AM corp</td>\n",
              "      <td>0200418007</td>\n",
              "      <td>U001</td>\n",
              "      <td>Other</td>\n",
              "      <td>28</td>\n",
              "      <td>74</td>\n",
              "      <td>1</td>\n",
              "      <td>14</td>\n",
              "    </tr>\n",
              "    <tr>\n",
              "      <th>17628</th>\n",
              "      <td>Other</td>\n",
              "      <td>0140104392</td>\n",
              "      <td>CA02</td>\n",
              "      <td>CA10</td>\n",
              "      <td>436</td>\n",
              "      <td>28</td>\n",
              "      <td>0</td>\n",
              "      <td>0</td>\n",
              "    </tr>\n",
              "    <tr>\n",
              "      <th>...</th>\n",
              "      <td>...</td>\n",
              "      <td>...</td>\n",
              "      <td>...</td>\n",
              "      <td>...</td>\n",
              "      <td>...</td>\n",
              "      <td>...</td>\n",
              "      <td>...</td>\n",
              "      <td>...</td>\n",
              "    </tr>\n",
              "    <tr>\n",
              "      <th>21586</th>\n",
              "      <td>WAL-MAR foundation</td>\n",
              "      <td>0200769623</td>\n",
              "      <td>U001</td>\n",
              "      <td>NAH4</td>\n",
              "      <td>699</td>\n",
              "      <td>171</td>\n",
              "      <td>1</td>\n",
              "      <td>9</td>\n",
              "    </tr>\n",
              "    <tr>\n",
              "      <th>2003</th>\n",
              "      <td>WAL-MAR foundation</td>\n",
              "      <td>0200769623</td>\n",
              "      <td>U001</td>\n",
              "      <td>NAH4</td>\n",
              "      <td>699</td>\n",
              "      <td>171</td>\n",
              "      <td>1</td>\n",
              "      <td>9</td>\n",
              "    </tr>\n",
              "    <tr>\n",
              "      <th>22793</th>\n",
              "      <td>SA systems</td>\n",
              "      <td>0200759878</td>\n",
              "      <td>U001</td>\n",
              "      <td>NAH4</td>\n",
              "      <td>509</td>\n",
              "      <td>157</td>\n",
              "      <td>1</td>\n",
              "      <td>9</td>\n",
              "    </tr>\n",
              "    <tr>\n",
              "      <th>23893</th>\n",
              "      <td>SA us</td>\n",
              "      <td>0200759878</td>\n",
              "      <td>U001</td>\n",
              "      <td>NAH4</td>\n",
              "      <td>511</td>\n",
              "      <td>157</td>\n",
              "      <td>1</td>\n",
              "      <td>9</td>\n",
              "    </tr>\n",
              "    <tr>\n",
              "      <th>37079</th>\n",
              "      <td>WAL-MAR co</td>\n",
              "      <td>0200769623</td>\n",
              "      <td>U001</td>\n",
              "      <td>NAH4</td>\n",
              "      <td>696</td>\n",
              "      <td>171</td>\n",
              "      <td>1</td>\n",
              "      <td>9</td>\n",
              "    </tr>\n",
              "  </tbody>\n",
              "</table>\n",
              "<p>5866 rows × 8 columns</p>\n",
              "</div>"
            ],
            "text/plain": [
              "            name_customer  ... cust_payment_terms_enc\n",
              "39971               Other  ...                      3\n",
              "22690             SYSCO    ...                      3\n",
              "38907          SYSCO corp  ...                      2\n",
              "43605             AM corp  ...                     14\n",
              "17628               Other  ...                      0\n",
              "...                   ...  ...                    ...\n",
              "21586  WAL-MAR foundation  ...                      9\n",
              "2003   WAL-MAR foundation  ...                      9\n",
              "22793          SA systems  ...                      9\n",
              "23893               SA us  ...                      9\n",
              "37079          WAL-MAR co  ...                      9\n",
              "\n",
              "[5866 rows x 8 columns]"
            ]
          },
          "metadata": {
            "tags": []
          },
          "execution_count": 266
        }
      ]
    },
    {
      "cell_type": "code",
      "metadata": {
        "id": "CvaFIkdxGhJx"
      },
      "source": [
        "name_no_code_pterms=x_train.drop(columns=['name_customer', 'cust_number', 'business_code','cust_payment_terms'], axis=1, inplace=True)\n",
        "name_no_code__pterms_VAl=x_val.drop(columns=['name_customer', 'cust_number', 'business_code','cust_payment_terms'], axis=1, inplace=True)\n",
        "name_no_code_pterms_TEST=x_test.drop(columns=['name_customer', 'cust_number', 'business_code','cust_payment_terms'], axis=1, inplace=True)"
      ],
      "execution_count": 267,
      "outputs": []
    },
    {
      "cell_type": "code",
      "metadata": {
        "colab": {
          "base_uri": "https://localhost:8080/"
        },
        "id": "fLEEJXS8R4Mp",
        "outputId": "a28fc99a-acc9-43d7-d9e6-9255a5c23b44"
      },
      "source": [
        "x_train.dtypes"
      ],
      "execution_count": 268,
      "outputs": [
        {
          "output_type": "execute_result",
          "data": {
            "text/plain": [
              "document_create_date        int64\n",
              "baseline_create_date      float64\n",
              "invoice_id                 object\n",
              "total_open_amt(USD)       float64\n",
              "posting_mth                 int64\n",
              "posting_day                 int64\n",
              "clear_mth                   int64\n",
              "clear_day                   int64\n",
              "due_mth                     int64\n",
              "due_day                     int64\n",
              "name_customer_enc           int16\n",
              "cust_number_enc             int16\n",
              "business_code_enc            int8\n",
              "cust_payment_terms_enc       int8\n",
              "dtype: object"
            ]
          },
          "metadata": {
            "tags": []
          },
          "execution_count": 268
        }
      ]
    },
    {
      "cell_type": "code",
      "metadata": {
        "id": "PefwmZ2zVGR5"
      },
      "source": [
        "def flt_to_int(df):\n",
        "  #df['doc_id_enc']= df['doc_id'].astype(int)\n",
        "  df['baseline_create_date']= df['baseline_create_date'].astype(int)\n",
        "  #df['invoice_id']= df['invoice_id_enc'].astype(int)\n",
        "  df['total_open_amt(USD)']= df['total_open_amt(USD)'].astype(int)"
      ],
      "execution_count": 269,
      "outputs": []
    },
    {
      "cell_type": "code",
      "metadata": {
        "id": "OfNlrtRiVYnN"
      },
      "source": [
        "#flt_to_int(x_train)\n",
        "#flt_to_int(x_test)\n",
        "#flt_to_int(x_val)"
      ],
      "execution_count": 270,
      "outputs": []
    },
    {
      "cell_type": "code",
      "metadata": {
        "id": "YHplCwxSjYed"
      },
      "source": [
        "x_train.drop('invoice_id', axis=1, inplace=True)\n",
        "x_val.drop('invoice_id', axis=1, inplace=True)\n",
        "x_test.drop('invoice_id', axis=1, inplace=True)\n"
      ],
      "execution_count": 271,
      "outputs": []
    },
    {
      "cell_type": "code",
      "metadata": {
        "colab": {
          "base_uri": "https://localhost:8080/"
        },
        "id": "peRFxXa1Y4US",
        "outputId": "3f770c25-55fb-4871-888e-c35b44ea3e32"
      },
      "source": [
        "x_train.dtypes"
      ],
      "execution_count": 272,
      "outputs": [
        {
          "output_type": "execute_result",
          "data": {
            "text/plain": [
              "document_create_date        int64\n",
              "baseline_create_date      float64\n",
              "total_open_amt(USD)       float64\n",
              "posting_mth                 int64\n",
              "posting_day                 int64\n",
              "clear_mth                   int64\n",
              "clear_day                   int64\n",
              "due_mth                     int64\n",
              "due_day                     int64\n",
              "name_customer_enc           int16\n",
              "cust_number_enc             int16\n",
              "business_code_enc            int8\n",
              "cust_payment_terms_enc       int8\n",
              "dtype: object"
            ]
          },
          "metadata": {
            "tags": []
          },
          "execution_count": 272
        }
      ]
    },
    {
      "cell_type": "code",
      "metadata": {
        "colab": {
          "base_uri": "https://localhost:8080/"
        },
        "id": "yoOrTUJQAcW0",
        "outputId": "7924303b-1a15-4d15-9b3a-91f398869056"
      },
      "source": [
        "x_train.columns"
      ],
      "execution_count": 273,
      "outputs": [
        {
          "output_type": "execute_result",
          "data": {
            "text/plain": [
              "Index(['document_create_date', 'baseline_create_date', 'total_open_amt(USD)',\n",
              "       'posting_mth', 'posting_day', 'clear_mth', 'clear_day', 'due_mth',\n",
              "       'due_day', 'name_customer_enc', 'cust_number_enc', 'business_code_enc',\n",
              "       'cust_payment_terms_enc'],\n",
              "      dtype='object')"
            ]
          },
          "metadata": {
            "tags": []
          },
          "execution_count": 273
        }
      ]
    },
    {
      "cell_type": "code",
      "metadata": {
        "colab": {
          "base_uri": "https://localhost:8080/"
        },
        "id": "BPfVI4hinTsH",
        "outputId": "cfe02c34-dbcd-4856-9bb8-b6f32249f286"
      },
      "source": [
        "y_train['delay']=pd.to_timedelta(y_train['delay']).dt.days\n",
        "y_train['delay']"
      ],
      "execution_count": 274,
      "outputs": [
        {
          "output_type": "execute_result",
          "data": {
            "text/plain": [
              "22792      1\n",
              "36097      1\n",
              "36666      1\n",
              "46719      1\n",
              "37354      3\n",
              "        ... \n",
              "36173    275\n",
              "40084    279\n",
              "29796    273\n",
              "45781    265\n",
              "7364     268\n",
              "Name: delay, Length: 27374, dtype: int64"
            ]
          },
          "metadata": {
            "tags": []
          },
          "execution_count": 274
        }
      ]
    },
    {
      "cell_type": "code",
      "metadata": {
        "id": "0bGltUtzSVD8"
      },
      "source": [
        "y_test['delay']=pd.to_timedelta(y_test['delay']).dt.days\n",
        "y_val['delay']=pd.to_timedelta(y_val['delay']).dt.days"
      ],
      "execution_count": 275,
      "outputs": []
    },
    {
      "cell_type": "markdown",
      "metadata": {
        "id": "5JBT-srVybU2"
      },
      "source": [
        "#Feature Scaling "
      ]
    },
    {
      "cell_type": "code",
      "metadata": {
        "id": "HVqHy93q50kB"
      },
      "source": [
        "from sklearn import preprocessing\n",
        "from sklearn import utils\n",
        "from sklearn.preprocessing import MinMaxScaler"
      ],
      "execution_count": 276,
      "outputs": []
    },
    {
      "cell_type": "code",
      "metadata": {
        "colab": {
          "base_uri": "https://localhost:8080/",
          "height": 224
        },
        "id": "Al7-6Cn0yPFL",
        "outputId": "d8f29ca9-c06f-4883-bbd2-a9651ba1cf4c"
      },
      "source": [
        "minmax=MinMaxScaler()\n",
        "x_train=pd.DataFrame(minmax.fit_transform(x_train),columns=x_train.columns)\n",
        "x_train.head()"
      ],
      "execution_count": 277,
      "outputs": [
        {
          "output_type": "execute_result",
          "data": {
            "text/html": [
              "<div>\n",
              "<style scoped>\n",
              "    .dataframe tbody tr th:only-of-type {\n",
              "        vertical-align: middle;\n",
              "    }\n",
              "\n",
              "    .dataframe tbody tr th {\n",
              "        vertical-align: top;\n",
              "    }\n",
              "\n",
              "    .dataframe thead th {\n",
              "        text-align: right;\n",
              "    }\n",
              "</style>\n",
              "<table border=\"1\" class=\"dataframe\">\n",
              "  <thead>\n",
              "    <tr style=\"text-align: right;\">\n",
              "      <th></th>\n",
              "      <th>document_create_date</th>\n",
              "      <th>baseline_create_date</th>\n",
              "      <th>total_open_amt(USD)</th>\n",
              "      <th>posting_mth</th>\n",
              "      <th>posting_day</th>\n",
              "      <th>clear_mth</th>\n",
              "      <th>clear_day</th>\n",
              "      <th>due_mth</th>\n",
              "      <th>due_day</th>\n",
              "      <th>name_customer_enc</th>\n",
              "      <th>cust_number_enc</th>\n",
              "      <th>business_code_enc</th>\n",
              "      <th>cust_payment_terms_enc</th>\n",
              "    </tr>\n",
              "  </thead>\n",
              "  <tbody>\n",
              "    <tr>\n",
              "      <th>0</th>\n",
              "      <td>0.00</td>\n",
              "      <td>0.09</td>\n",
              "      <td>0.00</td>\n",
              "      <td>1.00</td>\n",
              "      <td>0.97</td>\n",
              "      <td>0.00</td>\n",
              "      <td>0.47</td>\n",
              "      <td>0.00</td>\n",
              "      <td>0.43</td>\n",
              "      <td>0.61</td>\n",
              "      <td>0.43</td>\n",
              "      <td>0.20</td>\n",
              "      <td>0.21</td>\n",
              "    </tr>\n",
              "    <tr>\n",
              "      <th>1</th>\n",
              "      <td>0.00</td>\n",
              "      <td>0.09</td>\n",
              "      <td>0.00</td>\n",
              "      <td>1.00</td>\n",
              "      <td>0.97</td>\n",
              "      <td>0.00</td>\n",
              "      <td>0.47</td>\n",
              "      <td>0.00</td>\n",
              "      <td>0.43</td>\n",
              "      <td>0.09</td>\n",
              "      <td>0.47</td>\n",
              "      <td>0.20</td>\n",
              "      <td>0.21</td>\n",
              "    </tr>\n",
              "    <tr>\n",
              "      <th>2</th>\n",
              "      <td>0.00</td>\n",
              "      <td>0.09</td>\n",
              "      <td>0.01</td>\n",
              "      <td>1.00</td>\n",
              "      <td>0.97</td>\n",
              "      <td>0.00</td>\n",
              "      <td>0.47</td>\n",
              "      <td>0.00</td>\n",
              "      <td>0.43</td>\n",
              "      <td>0.96</td>\n",
              "      <td>0.62</td>\n",
              "      <td>0.20</td>\n",
              "      <td>0.64</td>\n",
              "    </tr>\n",
              "    <tr>\n",
              "      <th>3</th>\n",
              "      <td>0.00</td>\n",
              "      <td>0.09</td>\n",
              "      <td>0.00</td>\n",
              "      <td>1.00</td>\n",
              "      <td>0.97</td>\n",
              "      <td>0.00</td>\n",
              "      <td>0.47</td>\n",
              "      <td>0.00</td>\n",
              "      <td>0.43</td>\n",
              "      <td>0.09</td>\n",
              "      <td>0.47</td>\n",
              "      <td>0.20</td>\n",
              "      <td>0.21</td>\n",
              "    </tr>\n",
              "    <tr>\n",
              "      <th>4</th>\n",
              "      <td>0.00</td>\n",
              "      <td>0.09</td>\n",
              "      <td>0.02</td>\n",
              "      <td>1.00</td>\n",
              "      <td>0.97</td>\n",
              "      <td>0.00</td>\n",
              "      <td>0.53</td>\n",
              "      <td>0.00</td>\n",
              "      <td>0.43</td>\n",
              "      <td>0.70</td>\n",
              "      <td>0.58</td>\n",
              "      <td>0.20</td>\n",
              "      <td>0.64</td>\n",
              "    </tr>\n",
              "  </tbody>\n",
              "</table>\n",
              "</div>"
            ],
            "text/plain": [
              "   document_create_date  ...  cust_payment_terms_enc\n",
              "0                  0.00  ...                    0.21\n",
              "1                  0.00  ...                    0.21\n",
              "2                  0.00  ...                    0.64\n",
              "3                  0.00  ...                    0.21\n",
              "4                  0.00  ...                    0.64\n",
              "\n",
              "[5 rows x 13 columns]"
            ]
          },
          "metadata": {
            "tags": []
          },
          "execution_count": 277
        }
      ]
    },
    {
      "cell_type": "code",
      "metadata": {
        "id": "o35xFFLX3cdC"
      },
      "source": [
        "x_val=pd.DataFrame(minmax.transform(x_val), columns=x_val.columns)\n",
        "x_test=pd.DataFrame(minmax.transform(x_test), columns=x_test.columns)"
      ],
      "execution_count": 278,
      "outputs": []
    },
    {
      "cell_type": "code",
      "metadata": {
        "colab": {
          "base_uri": "https://localhost:8080/"
        },
        "id": "pdnRLGZn64n9",
        "outputId": "9aae288c-d6a8-4b08-9c15-a44cec0aa963"
      },
      "source": [
        "print(utils.multiclass.type_of_target(x_train))\n",
        "print(utils.multiclass.type_of_target(x_train.astype('int')))\n",
        "#print(utils.multiclass.type_of_target(encoded))"
      ],
      "execution_count": 279,
      "outputs": [
        {
          "output_type": "stream",
          "text": [
            "continuous-multioutput\n",
            "multilabel-indicator\n"
          ],
          "name": "stdout"
        }
      ]
    },
    {
      "cell_type": "markdown",
      "metadata": {
        "id": "uxcATHTSVHL-"
      },
      "source": [
        "#EDA"
      ]
    },
    {
      "cell_type": "code",
      "metadata": {
        "id": "je53SFz14iR0"
      },
      "source": [
        "import scipy.stats as stat\n",
        "import pylab"
      ],
      "execution_count": 280,
      "outputs": []
    },
    {
      "cell_type": "code",
      "metadata": {
        "colab": {
          "base_uri": "https://localhost:8080/",
          "height": 0
        },
        "id": "5U5WsfNBVkyV",
        "outputId": "472f8cb5-fb61-4912-9d39-5d3c1a321760"
      },
      "source": [
        "sns.distplot(y_train)"
      ],
      "execution_count": 281,
      "outputs": [
        {
          "output_type": "execute_result",
          "data": {
            "text/plain": [
              "<matplotlib.axes._subplots.AxesSubplot at 0x7fd56d9300d0>"
            ]
          },
          "metadata": {
            "tags": []
          },
          "execution_count": 281
        },
        {
          "output_type": "display_data",
          "data": {
            "image/png": "[encoded data removed]",
            "text/plain": [
              "<Figure size 432x288 with 1 Axes>"
            ]
          },
          "metadata": {
            "tags": [],
            "needs_background": "light"
          }
        }
      ]
    },
    {
      "cell_type": "code",
      "metadata": {
        "colab": {
          "base_uri": "https://localhost:8080/",
          "height": 0
        },
        "id": "aeLCM9LyYG0W",
        "outputId": "11ae64fe-140f-4fc4-dc87-42b1eedf539d"
      },
      "source": [
        "plt.figure(figsize=(12,10))\n",
        "sns.heatmap(x_train.merge(y_train, on=x_train.index).corr(), annot=True, cmap= plt.cm.CMRmap_r)\n",
        "plt.show()"
      ],
      "execution_count": 282,
      "outputs": [
        {
          "output_type": "display_data",
          "data": {
            "image/png": "[encoded data removed]",
            "text/plain": [
              "<Figure size 864x720 with 2 Axes>"
            ]
          },
          "metadata": {
            "tags": [],
            "needs_background": "light"
          }
        }
      ]
    },
    {
      "cell_type": "code",
      "metadata": {
        "id": "0-MIASWD2s0N"
      },
      "source": [
        "#function to detect the features\n",
        "def plotfeatures(df, feature):\n",
        "  plt.figure(figsize=(16, 4))\n",
        "  #histogram\n",
        "  plt.subplot(1,3,1)\n",
        "  df[feature].hist()\n",
        "  #boxplot\n",
        "  plt.subplot(1,3,2)\n",
        "  plt.boxplot(df[feature])\n",
        "  #Q-Q plot\n",
        "  plt.subplot(1,3,3)\n",
        "  stat.probplot(df[feature], dist='norm', plot=pylab)\n",
        "  plt.show()"
      ],
      "execution_count": 283,
      "outputs": []
    },
    {
      "cell_type": "code",
      "metadata": {
        "colab": {
          "base_uri": "https://localhost:8080/",
          "height": 0
        },
        "id": "HDYKTlwvZwDH",
        "outputId": "48d7c3e8-5d77-466d-c9b4-e89461ad9c52"
      },
      "source": [
        "plotfeatures(y_train,'delay')"
      ],
      "execution_count": 284,
      "outputs": [
        {
          "output_type": "display_data",
          "data": {
            "image/png": "[encoded data removed]",
            "text/plain": [
              "<Figure size 1152x288 with 3 Axes>"
            ]
          },
          "metadata": {
            "tags": [],
            "needs_background": "light"
          }
        }
      ]
    },
    {
      "cell_type": "markdown",
      "metadata": {
        "id": "yRuIxEtAfJIn"
      },
      "source": [
        "###Capping the outliers with upper and lower bound"
      ]
    },
    {
      "cell_type": "code",
      "metadata": {
        "id": "x2U4IZ5wijXf"
      },
      "source": [
        "#detect outliers using IQR\n",
        "def detect_bounderies(df, col):\n",
        "  q1=df[col].quantile(.25)\n",
        "  q3=df[col].quantile(.75)\n",
        "  IQR = q3-q1\n",
        "  lower_bound= q1-1.5*IQR\n",
        "  upper_bound= q3+1.5*IQR\n",
        "  return lower_bound, upper_bound"
      ],
      "execution_count": 285,
      "outputs": []
    },
    {
      "cell_type": "code",
      "metadata": {
        "id": "G8G4NR8afGyV"
      },
      "source": [
        "def cap_outliers(df, col, lower_bound, upper_bound):\n",
        "  df[col]= np.where(df[col]>upper_bound, upper_bound, \n",
        "                    np.where(df[col]<lower_bound, lower_bound, df[col]))\n",
        "  "
      ],
      "execution_count": 286,
      "outputs": []
    },
    {
      "cell_type": "code",
      "metadata": {
        "id": "sOcK73yV-KRQ",
        "colab": {
          "base_uri": "https://localhost:8080/",
          "height": 0
        },
        "outputId": "64a04f35-17e5-4d43-c2f1-d8f6ad97d499"
      },
      "source": [
        "plotfeatures(x_train,'total_open_amt(USD)')"
      ],
      "execution_count": 287,
      "outputs": [
        {
          "output_type": "display_data",
          "data": {
            "image/png": "[encoded data removed]",
            "text/plain": [
              "<Figure size 1152x288 with 3 Axes>"
            ]
          },
          "metadata": {
            "tags": [],
            "needs_background": "light"
          }
        }
      ]
    },
    {
      "cell_type": "code",
      "metadata": {
        "colab": {
          "base_uri": "https://localhost:8080/"
        },
        "id": "XcVHO09_bJNu",
        "outputId": "a009c138-84a0-4d16-dcaf-27e737e7b2ab"
      },
      "source": [
        "lower_amt, upper_amt = detect_bounderies(x_train, 'total_open_amt(USD)')\n",
        "print(lower_amt, upper_amt)"
      ],
      "execution_count": 288,
      "outputs": [
        {
          "output_type": "stream",
          "text": [
            "-0.03737452597302293 0.07025713327969135\n"
          ],
          "name": "stdout"
        }
      ]
    },
    {
      "cell_type": "code",
      "metadata": {
        "id": "A_zIQ3WrgSfg"
      },
      "source": [
        "cap_outliers(x_train,'total_open_amt(USD)', lower_amt, upper_amt)"
      ],
      "execution_count": 289,
      "outputs": []
    },
    {
      "cell_type": "code",
      "metadata": {
        "colab": {
          "base_uri": "https://localhost:8080/",
          "height": 0
        },
        "id": "r2pqZhRrhJgh",
        "outputId": "892fa849-0665-4d9b-f8ff-fb5644ec1da1"
      },
      "source": [
        "plotfeatures(x_train,'total_open_amt(USD)')"
      ],
      "execution_count": 290,
      "outputs": [
        {
          "output_type": "display_data",
          "data": {
            "image/png": "[encoded data removed]",
            "text/plain": [
              "<Figure size 1152x288 with 3 Axes>"
            ]
          },
          "metadata": {
            "tags": [],
            "needs_background": "light"
          }
        }
      ]
    },
    {
      "cell_type": "markdown",
      "metadata": {
        "id": "vX48u0_Y08r6"
      },
      "source": [
        "Dealing Outliers for Delay"
      ]
    },
    {
      "cell_type": "code",
      "metadata": {
        "id": "bUEZSrU2jT8K"
      },
      "source": [
        "#lower_d, upper_d = detect_bounderies(y_train, 'delay')\n",
        "#cap_outliers(y_train,'delay', lower_d, upper_d)"
      ],
      "execution_count": 291,
      "outputs": []
    },
    {
      "cell_type": "code",
      "metadata": {
        "id": "CVn7VwMfZ40-"
      },
      "source": [
        "#plotfeatures(y_train,'delay')"
      ],
      "execution_count": 292,
      "outputs": []
    },
    {
      "cell_type": "code",
      "metadata": {
        "id": "uIpvBkFxj-S7"
      },
      "source": [
        "#y_train.delay = y_train.delay **(1/1.2)\n",
        "#plotfeatures(y_train,'delay')"
      ],
      "execution_count": 293,
      "outputs": []
    },
    {
      "cell_type": "code",
      "metadata": {
        "colab": {
          "base_uri": "https://localhost:8080/",
          "height": 0
        },
        "id": "eK8sewTtj1Rq",
        "outputId": "cb3ee5c4-11dd-4e5a-a926-4ea60957e87f"
      },
      "source": [
        "plotfeatures(x_train,'clear_day')"
      ],
      "execution_count": 294,
      "outputs": [
        {
          "output_type": "display_data",
          "data": {
            "image/png": "[encoded data removed]",
            "text/plain": [
              "<Figure size 1152x288 with 3 Axes>"
            ]
          },
          "metadata": {
            "tags": [],
            "needs_background": "light"
          }
        }
      ]
    },
    {
      "cell_type": "code",
      "metadata": {
        "colab": {
          "base_uri": "https://localhost:8080/",
          "height": 0
        },
        "id": "kTy-v78kQ3rp",
        "outputId": "9feaccae-c80f-4acc-d931-3f726206298f"
      },
      "source": [
        "plotfeatures(x_train, 'posting_day')"
      ],
      "execution_count": 295,
      "outputs": [
        {
          "output_type": "display_data",
          "data": {
            "image/png": "[encoded data removed]",
            "text/plain": [
              "<Figure size 1152x288 with 3 Axes>"
            ]
          },
          "metadata": {
            "tags": [],
            "needs_background": "light"
          }
        }
      ]
    },
    {
      "cell_type": "code",
      "metadata": {
        "colab": {
          "base_uri": "https://localhost:8080/",
          "height": 0
        },
        "id": "y9piHpmhj-Q7",
        "outputId": "f18f3a26-0bd2-44ef-e760-9a8099559a72"
      },
      "source": [
        "plotfeatures(x_train, 'posting_mth')"
      ],
      "execution_count": 296,
      "outputs": [
        {
          "output_type": "display_data",
          "data": {
            "image/png": "[encoded data removed]",
            "text/plain": [
              "<Figure size 1152x288 with 3 Axes>"
            ]
          },
          "metadata": {
            "tags": [],
            "needs_background": "light"
          }
        }
      ]
    },
    {
      "cell_type": "code",
      "metadata": {
        "colab": {
          "base_uri": "https://localhost:8080/",
          "height": 0
        },
        "id": "sqEOa5y-bj-l",
        "outputId": "30a2afc0-2a88-4039-83d0-a837a89a053d"
      },
      "source": [
        "sns.boxplot(data=x_train.merge(y_train, on=x_train.index), x='posting_mth', hue='delay')"
      ],
      "execution_count": 297,
      "outputs": [
        {
          "output_type": "execute_result",
          "data": {
            "text/plain": [
              "<matplotlib.axes._subplots.AxesSubplot at 0x7fd56c496cd0>"
            ]
          },
          "metadata": {
            "tags": []
          },
          "execution_count": 297
        },
        {
          "output_type": "display_data",
          "data": {
            "image/png": "[encoded data removed]",
            "text/plain": [
              "<Figure size 432x288 with 1 Axes>"
            ]
          },
          "metadata": {
            "tags": [],
            "needs_background": "light"
          }
        }
      ]
    },
    {
      "cell_type": "code",
      "metadata": {
        "colab": {
          "base_uri": "https://localhost:8080/",
          "height": 0
        },
        "id": "JMYdlCF5kYRh",
        "outputId": "0b8b6ca9-e185-4664-d38a-99cdda607ab3"
      },
      "source": [
        "sns.boxplot(data=x_train.merge(y_train, on=x_train.index), x='clear_day', hue='delay')"
      ],
      "execution_count": 298,
      "outputs": [
        {
          "output_type": "execute_result",
          "data": {
            "text/plain": [
              "<matplotlib.axes._subplots.AxesSubplot at 0x7fd56c840850>"
            ]
          },
          "metadata": {
            "tags": []
          },
          "execution_count": 298
        },
        {
          "output_type": "display_data",
          "data": {
            "image/png": "[encoded data removed]",
            "text/plain": [
              "<Figure size 432x288 with 1 Axes>"
            ]
          },
          "metadata": {
            "tags": [],
            "needs_background": "light"
          }
        }
      ]
    },
    {
      "cell_type": "markdown",
      "metadata": {
        "id": "PBm6vnDoLXST"
      },
      "source": [
        "Outliers for 'Doc_id'"
      ]
    },
    {
      "cell_type": "code",
      "metadata": {
        "id": "9d3aP9bHJr2E"
      },
      "source": [
        "#lower_did, upper_did = detect_bounderies(x_train, 'doc_id')\n",
        "#cap_outliers(x_train,'doc_id',lower_did, upper_did)"
      ],
      "execution_count": 299,
      "outputs": []
    },
    {
      "cell_type": "code",
      "metadata": {
        "id": "guN1cykuJ6Pl"
      },
      "source": [
        "#plotfeatures(x_train, 'doc_id')"
      ],
      "execution_count": 300,
      "outputs": []
    },
    {
      "cell_type": "code",
      "metadata": {
        "id": "wQk6CpHRJaAO"
      },
      "source": [
        "#sns.boxplot(data=x_train.merge(y_train, on=x_train.index), x='doc_id', hue='delay')"
      ],
      "execution_count": 301,
      "outputs": []
    },
    {
      "cell_type": "markdown",
      "metadata": {
        "id": "swAQD_uvMJNV"
      },
      "source": [
        "Outliers for  'Doc create date'"
      ]
    },
    {
      "cell_type": "code",
      "metadata": {
        "colab": {
          "base_uri": "https://localhost:8080/",
          "height": 0
        },
        "id": "dVq7ljlXL8Lf",
        "outputId": "8b5d2460-93e0-43e3-8f9c-3bb3295b8014"
      },
      "source": [
        "plotfeatures(x_train, 'document_create_date')"
      ],
      "execution_count": 302,
      "outputs": [
        {
          "output_type": "display_data",
          "data": {
            "image/png": "[encoded data removed]",
            "text/plain": [
              "<Figure size 1152x288 with 3 Axes>"
            ]
          },
          "metadata": {
            "tags": [],
            "needs_background": "light"
          }
        }
      ]
    },
    {
      "cell_type": "code",
      "metadata": {
        "id": "tRS-WgB6MI3g"
      },
      "source": [
        "lower_dcd, upper_dcd = detect_bounderies(x_train, 'document_create_date')\n",
        "cap_outliers(x_train,'document_create_date',lower_dcd, upper_dcd)"
      ],
      "execution_count": 303,
      "outputs": []
    },
    {
      "cell_type": "code",
      "metadata": {
        "colab": {
          "base_uri": "https://localhost:8080/",
          "height": 0
        },
        "id": "Bw5-fWYeMctF",
        "outputId": "8f7fc676-34c3-4dcf-e787-6200ddf4b8db"
      },
      "source": [
        "plotfeatures(x_train, 'document_create_date')"
      ],
      "execution_count": 304,
      "outputs": [
        {
          "output_type": "display_data",
          "data": {
            "image/png": "[encoded data removed]",
            "text/plain": [
              "<Figure size 1152x288 with 3 Axes>"
            ]
          },
          "metadata": {
            "tags": [],
            "needs_background": "light"
          }
        }
      ]
    },
    {
      "cell_type": "code",
      "metadata": {
        "colab": {
          "base_uri": "https://localhost:8080/",
          "height": 0
        },
        "id": "Zh4drtVXTtqg",
        "outputId": "d3e48233-2543-47df-f37f-07efc7c47dc0"
      },
      "source": [
        "plotfeatures(x_train, 'baseline_create_date')"
      ],
      "execution_count": 305,
      "outputs": [
        {
          "output_type": "display_data",
          "data": {
            "image/png": "[encoded data removed]",
            "text/plain": [
              "<Figure size 1152x288 with 3 Axes>"
            ]
          },
          "metadata": {
            "tags": [],
            "needs_background": "light"
          }
        }
      ]
    },
    {
      "cell_type": "code",
      "metadata": {
        "id": "cCxNU7fGT4gi"
      },
      "source": [
        "lower_bcd, upper_bcd = detect_bounderies(x_train, 'baseline_create_date')\n",
        "cap_outliers(x_train,'baseline_create_date',lower_bcd, upper_bcd)"
      ],
      "execution_count": 306,
      "outputs": []
    },
    {
      "cell_type": "code",
      "metadata": {
        "colab": {
          "base_uri": "https://localhost:8080/",
          "height": 0
        },
        "id": "Y6As1SKIUBWk",
        "outputId": "99d70772-c7e1-4016-ea41-30cad749c7b3"
      },
      "source": [
        "plotfeatures(x_train, 'baseline_create_date')"
      ],
      "execution_count": 307,
      "outputs": [
        {
          "output_type": "display_data",
          "data": {
            "image/png": "[encoded data removed]",
            "text/plain": [
              "<Figure size 1152x288 with 3 Axes>"
            ]
          },
          "metadata": {
            "tags": [],
            "needs_background": "light"
          }
        }
      ]
    },
    {
      "cell_type": "markdown",
      "metadata": {
        "id": "t0xBlF8UOz-3"
      },
      "source": [
        "Outlier for Cust_number_enc"
      ]
    },
    {
      "cell_type": "code",
      "metadata": {
        "colab": {
          "base_uri": "https://localhost:8080/",
          "height": 0
        },
        "id": "iDCNUtUBOoDb",
        "outputId": "db0c07a1-85f8-46b9-a555-b96a33311b18"
      },
      "source": [
        "plotfeatures(x_train, 'cust_number_enc')"
      ],
      "execution_count": 308,
      "outputs": [
        {
          "output_type": "display_data",
          "data": {
            "image/png": "[encoded data removed]",
            "text/plain": [
              "<Figure size 1152x288 with 3 Axes>"
            ]
          },
          "metadata": {
            "tags": [],
            "needs_background": "light"
          }
        }
      ]
    },
    {
      "cell_type": "code",
      "metadata": {
        "colab": {
          "base_uri": "https://localhost:8080/",
          "height": 0
        },
        "id": "Zlwk1SuzPI-R",
        "outputId": "d4d01b20-e82e-4f3c-8e56-e6250190f9ec"
      },
      "source": [
        "lower_cne, upper_cne= detect_bounderies(x_train, 'cust_number_enc')\n",
        "cap_outliers(x_train,'cust_number_enc',lower_cne, upper_cne)\n",
        "plotfeatures(x_train, 'cust_number_enc')"
      ],
      "execution_count": 309,
      "outputs": [
        {
          "output_type": "display_data",
          "data": {
            "image/png": "[encoded data removed]",
            "text/plain": [
              "<Figure size 1152x288 with 3 Axes>"
            ]
          },
          "metadata": {
            "tags": [],
            "needs_background": "light"
          }
        }
      ]
    },
    {
      "cell_type": "markdown",
      "metadata": {
        "id": "SWXYyqOZPPHg"
      },
      "source": [
        "Outlier for name_customer-enc"
      ]
    },
    {
      "cell_type": "code",
      "metadata": {
        "colab": {
          "base_uri": "https://localhost:8080/",
          "height": 0
        },
        "id": "IXl60Gs2Pcwz",
        "outputId": "341142ba-5707-4e24-a30b-1a4423459a34"
      },
      "source": [
        "plotfeatures(x_train, 'name_customer_enc')"
      ],
      "execution_count": 310,
      "outputs": [
        {
          "output_type": "display_data",
          "data": {
            "image/png": "[encoded data removed]",
            "text/plain": [
              "<Figure size 1152x288 with 3 Axes>"
            ]
          },
          "metadata": {
            "tags": [],
            "needs_background": "light"
          }
        }
      ]
    },
    {
      "cell_type": "code",
      "metadata": {
        "colab": {
          "base_uri": "https://localhost:8080/",
          "height": 0
        },
        "id": "gPWXiH-GRHzr",
        "outputId": "bd0cc0fa-7cb8-4929-edd8-35a068a596d6"
      },
      "source": [
        "plotfeatures(x_train, 'cust_payment_terms_enc')"
      ],
      "execution_count": 311,
      "outputs": [
        {
          "output_type": "display_data",
          "data": {
            "image/png": "[encoded data removed]",
            "text/plain": [
              "<Figure size 1152x288 with 3 Axes>"
            ]
          },
          "metadata": {
            "tags": [],
            "needs_background": "light"
          }
        }
      ]
    },
    {
      "cell_type": "markdown",
      "metadata": {
        "id": "t5eLUkS7G9P2"
      },
      "source": [
        "#Feature Selection"
      ]
    },
    {
      "cell_type": "markdown",
      "metadata": {
        "id": "ZsVFRfAcFhge"
      },
      "source": [
        "1. Drop const. col. -> variance Threshold\n",
        "2. Corr()-> find corr feature and drop first, using function\n",
        "3. Mutual Information--> to cal the more depending feature to determine 'target'"
      ]
    },
    {
      "cell_type": "code",
      "metadata": {
        "colab": {
          "base_uri": "https://localhost:8080/"
        },
        "id": "2jBeNrOjsCO6",
        "outputId": "5d797933-fe5a-4ed9-d938-1a9330bf58da"
      },
      "source": [
        "x_train.dtypes"
      ],
      "execution_count": 312,
      "outputs": [
        {
          "output_type": "execute_result",
          "data": {
            "text/plain": [
              "document_create_date      float64\n",
              "baseline_create_date      float64\n",
              "total_open_amt(USD)       float64\n",
              "posting_mth               float64\n",
              "posting_day               float64\n",
              "clear_mth                 float64\n",
              "clear_day                 float64\n",
              "due_mth                   float64\n",
              "due_day                   float64\n",
              "name_customer_enc         float64\n",
              "cust_number_enc           float64\n",
              "business_code_enc         float64\n",
              "cust_payment_terms_enc    float64\n",
              "dtype: object"
            ]
          },
          "metadata": {
            "tags": []
          },
          "execution_count": 312
        }
      ]
    },
    {
      "cell_type": "markdown",
      "metadata": {
        "id": "YUKYpJU35kHk"
      },
      "source": [
        "###1. Drop Constants"
      ]
    },
    {
      "cell_type": "code",
      "metadata": {
        "colab": {
          "base_uri": "https://localhost:8080/"
        },
        "id": "atcahea3lM6Z",
        "outputId": "224005db-b7c5-46ac-cfda-c283828084ef"
      },
      "source": [
        "#Drop the Constants\n",
        "from sklearn.feature_selection import VarianceThreshold\n",
        "var_t= VarianceThreshold(threshold=0)\n",
        "var_t.fit(x_train)\n",
        "\n",
        "var_t.get_support()"
      ],
      "execution_count": 313,
      "outputs": [
        {
          "output_type": "execute_result",
          "data": {
            "text/plain": [
              "array([ True,  True,  True,  True,  True,  True,  True, False,  True,\n",
              "        True,  True,  True,  True])"
            ]
          },
          "metadata": {
            "tags": []
          },
          "execution_count": 313
        }
      ]
    },
    {
      "cell_type": "code",
      "metadata": {
        "colab": {
          "base_uri": "https://localhost:8080/"
        },
        "id": "CrRg3Y6jlBYS",
        "outputId": "dfd66e74-3ff9-406d-8215-6c72b64789cd"
      },
      "source": [
        "col_const = [col for col in x_train.columns\n",
        "             if col not in x_train.columns[var_t.get_support()]]\n",
        "print(col_const)"
      ],
      "execution_count": 314,
      "outputs": [
        {
          "output_type": "stream",
          "text": [
            "['due_mth']\n"
          ],
          "name": "stdout"
        }
      ]
    },
    {
      "cell_type": "code",
      "metadata": {
        "colab": {
          "base_uri": "https://localhost:8080/",
          "height": 0
        },
        "id": "AKUmb9Id5Uvy",
        "outputId": "a914a687-a09d-442a-a66d-2e7565a1d46f"
      },
      "source": [
        "x_train.drop(col_const, axis=1)"
      ],
      "execution_count": 315,
      "outputs": [
        {
          "output_type": "execute_result",
          "data": {
            "text/html": [
              "<div>\n",
              "<style scoped>\n",
              "    .dataframe tbody tr th:only-of-type {\n",
              "        vertical-align: middle;\n",
              "    }\n",
              "\n",
              "    .dataframe tbody tr th {\n",
              "        vertical-align: top;\n",
              "    }\n",
              "\n",
              "    .dataframe thead th {\n",
              "        text-align: right;\n",
              "    }\n",
              "</style>\n",
              "<table border=\"1\" class=\"dataframe\">\n",
              "  <thead>\n",
              "    <tr style=\"text-align: right;\">\n",
              "      <th></th>\n",
              "      <th>document_create_date</th>\n",
              "      <th>baseline_create_date</th>\n",
              "      <th>total_open_amt(USD)</th>\n",
              "      <th>posting_mth</th>\n",
              "      <th>posting_day</th>\n",
              "      <th>clear_mth</th>\n",
              "      <th>clear_day</th>\n",
              "      <th>due_day</th>\n",
              "      <th>name_customer_enc</th>\n",
              "      <th>cust_number_enc</th>\n",
              "      <th>business_code_enc</th>\n",
              "      <th>cust_payment_terms_enc</th>\n",
              "    </tr>\n",
              "  </thead>\n",
              "  <tbody>\n",
              "    <tr>\n",
              "      <th>0</th>\n",
              "      <td>0.86</td>\n",
              "      <td>0.88</td>\n",
              "      <td>0.00</td>\n",
              "      <td>1.00</td>\n",
              "      <td>0.97</td>\n",
              "      <td>0.00</td>\n",
              "      <td>0.47</td>\n",
              "      <td>0.43</td>\n",
              "      <td>0.61</td>\n",
              "      <td>0.43</td>\n",
              "      <td>0.20</td>\n",
              "      <td>0.21</td>\n",
              "    </tr>\n",
              "    <tr>\n",
              "      <th>1</th>\n",
              "      <td>0.86</td>\n",
              "      <td>0.88</td>\n",
              "      <td>0.00</td>\n",
              "      <td>1.00</td>\n",
              "      <td>0.97</td>\n",
              "      <td>0.00</td>\n",
              "      <td>0.47</td>\n",
              "      <td>0.43</td>\n",
              "      <td>0.09</td>\n",
              "      <td>0.47</td>\n",
              "      <td>0.20</td>\n",
              "      <td>0.21</td>\n",
              "    </tr>\n",
              "    <tr>\n",
              "      <th>2</th>\n",
              "      <td>0.86</td>\n",
              "      <td>0.88</td>\n",
              "      <td>0.01</td>\n",
              "      <td>1.00</td>\n",
              "      <td>0.97</td>\n",
              "      <td>0.00</td>\n",
              "      <td>0.47</td>\n",
              "      <td>0.43</td>\n",
              "      <td>0.96</td>\n",
              "      <td>0.62</td>\n",
              "      <td>0.20</td>\n",
              "      <td>0.64</td>\n",
              "    </tr>\n",
              "    <tr>\n",
              "      <th>3</th>\n",
              "      <td>0.86</td>\n",
              "      <td>0.88</td>\n",
              "      <td>0.00</td>\n",
              "      <td>1.00</td>\n",
              "      <td>0.97</td>\n",
              "      <td>0.00</td>\n",
              "      <td>0.47</td>\n",
              "      <td>0.43</td>\n",
              "      <td>0.09</td>\n",
              "      <td>0.47</td>\n",
              "      <td>0.20</td>\n",
              "      <td>0.21</td>\n",
              "    </tr>\n",
              "    <tr>\n",
              "      <th>4</th>\n",
              "      <td>0.86</td>\n",
              "      <td>0.88</td>\n",
              "      <td>0.02</td>\n",
              "      <td>1.00</td>\n",
              "      <td>0.97</td>\n",
              "      <td>0.00</td>\n",
              "      <td>0.53</td>\n",
              "      <td>0.43</td>\n",
              "      <td>0.70</td>\n",
              "      <td>0.58</td>\n",
              "      <td>0.20</td>\n",
              "      <td>0.64</td>\n",
              "    </tr>\n",
              "    <tr>\n",
              "      <th>...</th>\n",
              "      <td>...</td>\n",
              "      <td>...</td>\n",
              "      <td>...</td>\n",
              "      <td>...</td>\n",
              "      <td>...</td>\n",
              "      <td>...</td>\n",
              "      <td>...</td>\n",
              "      <td>...</td>\n",
              "      <td>...</td>\n",
              "      <td>...</td>\n",
              "      <td>...</td>\n",
              "      <td>...</td>\n",
              "    </tr>\n",
              "    <tr>\n",
              "      <th>27369</th>\n",
              "      <td>1.00</td>\n",
              "      <td>1.00</td>\n",
              "      <td>0.01</td>\n",
              "      <td>0.82</td>\n",
              "      <td>0.23</td>\n",
              "      <td>0.82</td>\n",
              "      <td>0.97</td>\n",
              "      <td>0.90</td>\n",
              "      <td>0.61</td>\n",
              "      <td>1.00</td>\n",
              "      <td>0.20</td>\n",
              "      <td>0.43</td>\n",
              "    </tr>\n",
              "    <tr>\n",
              "      <th>27370</th>\n",
              "      <td>1.00</td>\n",
              "      <td>1.00</td>\n",
              "      <td>0.01</td>\n",
              "      <td>0.82</td>\n",
              "      <td>0.23</td>\n",
              "      <td>0.82</td>\n",
              "      <td>0.73</td>\n",
              "      <td>0.53</td>\n",
              "      <td>0.13</td>\n",
              "      <td>0.59</td>\n",
              "      <td>0.20</td>\n",
              "      <td>1.00</td>\n",
              "    </tr>\n",
              "    <tr>\n",
              "      <th>27371</th>\n",
              "      <td>1.00</td>\n",
              "      <td>1.00</td>\n",
              "      <td>0.07</td>\n",
              "      <td>0.82</td>\n",
              "      <td>0.23</td>\n",
              "      <td>0.82</td>\n",
              "      <td>0.73</td>\n",
              "      <td>0.73</td>\n",
              "      <td>0.48</td>\n",
              "      <td>0.55</td>\n",
              "      <td>0.20</td>\n",
              "      <td>0.21</td>\n",
              "    </tr>\n",
              "    <tr>\n",
              "      <th>27372</th>\n",
              "      <td>1.00</td>\n",
              "      <td>1.00</td>\n",
              "      <td>0.00</td>\n",
              "      <td>0.82</td>\n",
              "      <td>0.23</td>\n",
              "      <td>0.82</td>\n",
              "      <td>0.47</td>\n",
              "      <td>0.73</td>\n",
              "      <td>0.61</td>\n",
              "      <td>0.05</td>\n",
              "      <td>0.20</td>\n",
              "      <td>0.21</td>\n",
              "    </tr>\n",
              "    <tr>\n",
              "      <th>27373</th>\n",
              "      <td>1.00</td>\n",
              "      <td>1.00</td>\n",
              "      <td>0.01</td>\n",
              "      <td>0.82</td>\n",
              "      <td>0.23</td>\n",
              "      <td>0.82</td>\n",
              "      <td>0.57</td>\n",
              "      <td>0.73</td>\n",
              "      <td>0.96</td>\n",
              "      <td>0.62</td>\n",
              "      <td>0.20</td>\n",
              "      <td>0.64</td>\n",
              "    </tr>\n",
              "  </tbody>\n",
              "</table>\n",
              "<p>27374 rows × 12 columns</p>\n",
              "</div>"
            ],
            "text/plain": [
              "       document_create_date  ...  cust_payment_terms_enc\n",
              "0                      0.86  ...                    0.21\n",
              "1                      0.86  ...                    0.21\n",
              "2                      0.86  ...                    0.64\n",
              "3                      0.86  ...                    0.21\n",
              "4                      0.86  ...                    0.64\n",
              "...                     ...  ...                     ...\n",
              "27369                  1.00  ...                    0.43\n",
              "27370                  1.00  ...                    1.00\n",
              "27371                  1.00  ...                    0.21\n",
              "27372                  1.00  ...                    0.21\n",
              "27373                  1.00  ...                    0.64\n",
              "\n",
              "[27374 rows x 12 columns]"
            ]
          },
          "metadata": {
            "tags": []
          },
          "execution_count": 315
        }
      ]
    },
    {
      "cell_type": "markdown",
      "metadata": {
        "id": "QtE5B2ZY5tLI"
      },
      "source": [
        "###2. Drop highly correlated values"
      ]
    },
    {
      "cell_type": "code",
      "metadata": {
        "colab": {
          "base_uri": "https://localhost:8080/",
          "height": 0
        },
        "id": "7I9exjPg5svX",
        "outputId": "8315d37f-06bc-4c41-8449-335aa67d73cd"
      },
      "source": [
        "dataset=x_train.merge(y_train, on=x_train.index)\n",
        "plt.figure(figsize=(12,10))\n",
        "sns.heatmap(x_train.merge(y_train, on=x_train.index).corr(), annot=True, cmap= plt.cm.CMRmap_r)\n",
        "plt.show()"
      ],
      "execution_count": 316,
      "outputs": [
        {
          "output_type": "display_data",
          "data": {
            "image/png": "[encoded data removed]",
            "text/plain": [
              "<Figure size 864x720 with 2 Axes>"
            ]
          },
          "metadata": {
            "tags": [],
            "needs_background": "light"
          }
        }
      ]
    },
    {
      "cell_type": "code",
      "metadata": {
        "id": "_0yxWVii5_YI"
      },
      "source": [
        "# with the following function we can select highly correlated features\n",
        "# it will remove the first feature that is correlated with anything other feature\n",
        "\n",
        "def correlation(dataset, threshold):\n",
        "    col_corr = set()  # Set of all the names of correlated columns\n",
        "    corr_matrix = dataset.corr()\n",
        "    for i in range(len(corr_matrix.columns)):\n",
        "        for j in range(i):\n",
        "            if abs(corr_matrix.iloc[i, j]) > threshold: # we are interested in absolute coeff value\n",
        "                colname = corr_matrix.columns[i]  # getting the name of column\n",
        "                col_corr.add(colname)\n",
        "    return col_corr"
      ],
      "execution_count": 317,
      "outputs": []
    },
    {
      "cell_type": "code",
      "metadata": {
        "colab": {
          "base_uri": "https://localhost:8080/"
        },
        "id": "zP78FIbDrJAV",
        "outputId": "e8d42524-20a4-4e82-ad4f-288006bb20b8"
      },
      "source": [
        "corr_features = correlation(x_train, 0.8)\n",
        "len(set(corr_features))"
      ],
      "execution_count": 318,
      "outputs": [
        {
          "output_type": "execute_result",
          "data": {
            "text/plain": [
              "3"
            ]
          },
          "metadata": {
            "tags": []
          },
          "execution_count": 318
        }
      ]
    },
    {
      "cell_type": "code",
      "metadata": {
        "colab": {
          "base_uri": "https://localhost:8080/"
        },
        "id": "hzuEmlJziijJ",
        "outputId": "d6636833-1f57-4206-9abb-62fb64e98ba9"
      },
      "source": [
        "corr_features"
      ],
      "execution_count": 319,
      "outputs": [
        {
          "output_type": "execute_result",
          "data": {
            "text/plain": [
              "{'baseline_create_date', 'clear_mth', 'posting_mth'}"
            ]
          },
          "metadata": {
            "tags": []
          },
          "execution_count": 319
        }
      ]
    },
    {
      "cell_type": "markdown",
      "metadata": {
        "id": "NOjGimySAHlv"
      },
      "source": [
        "###3. Information Gain--Mutual Information in "
      ]
    },
    {
      "cell_type": "code",
      "metadata": {
        "colab": {
          "base_uri": "https://localhost:8080/"
        },
        "id": "P47vP8Un__H0",
        "outputId": "46751fec-58f5-4408-97e4-65fa73a2115f"
      },
      "source": [
        "from sklearn.feature_selection import mutual_info_regression\n",
        "\n",
        "#determine the mutual info\n",
        "mutual_info= mutual_info_regression(x_train.fillna(0), y_train)\n",
        "mutual_info"
      ],
      "execution_count": 320,
      "outputs": [
        {
          "output_type": "execute_result",
          "data": {
            "text/plain": [
              "array([2.04428854, 2.37391382, 0.07576932, 1.45692465, 0.43995723,\n",
              "       2.08291777, 0.60164565, 0.0024842 , 0.57864174, 0.61343777,\n",
              "       0.69302319, 0.05283702, 0.52853613])"
            ]
          },
          "metadata": {
            "tags": []
          },
          "execution_count": 320
        }
      ]
    },
    {
      "cell_type": "code",
      "metadata": {
        "colab": {
          "base_uri": "https://localhost:8080/"
        },
        "id": "3aNJwZg9C_De",
        "outputId": "1c10a43f-0f77-46cb-cd75-59732f1a3459"
      },
      "source": [
        "#convert into df series and store and map values\n",
        "mutual_info = pd.Series(mutual_info)\n",
        "mutual_info.index = x_train.columns\n",
        "mutual_info.sort_values(ascending=False)\n",
        "#plot the mi val "
      ],
      "execution_count": 321,
      "outputs": [
        {
          "output_type": "execute_result",
          "data": {
            "text/plain": [
              "baseline_create_date     2.37\n",
              "clear_mth                2.08\n",
              "document_create_date     2.04\n",
              "posting_mth              1.46\n",
              "cust_number_enc          0.69\n",
              "name_customer_enc        0.61\n",
              "clear_day                0.60\n",
              "due_day                  0.58\n",
              "cust_payment_terms_enc   0.53\n",
              "posting_day              0.44\n",
              "total_open_amt(USD)      0.08\n",
              "business_code_enc        0.05\n",
              "due_mth                  0.00\n",
              "dtype: float64"
            ]
          },
          "metadata": {
            "tags": []
          },
          "execution_count": 321
        }
      ]
    },
    {
      "cell_type": "code",
      "metadata": {
        "colab": {
          "base_uri": "https://localhost:8080/",
          "height": 0
        },
        "id": "1ax9iISHNg73",
        "outputId": "07d36277-6829-4dc7-a289-8b8d5209cb3e"
      },
      "source": [
        "mutual_info.sort_values(ascending=False).plot.bar(figsize=(15,5))"
      ],
      "execution_count": 322,
      "outputs": [
        {
          "output_type": "execute_result",
          "data": {
            "text/plain": [
              "<matplotlib.axes._subplots.AxesSubplot at 0x7fd56c256910>"
            ]
          },
          "metadata": {
            "tags": []
          },
          "execution_count": 322
        },
        {
          "output_type": "display_data",
          "data": {
            "image/png": "[encoded data removed]",
            "text/plain": [
              "<Figure size 1080x360 with 1 Axes>"
            ]
          },
          "metadata": {
            "tags": [],
            "needs_background": "light"
          }
        }
      ]
    },
    {
      "cell_type": "code",
      "metadata": {
        "colab": {
          "base_uri": "https://localhost:8080/"
        },
        "id": "yh6lmwmzN2NE",
        "outputId": "d02c40a1-4267-4887-e127-e80dd067a0da"
      },
      "source": [
        "from sklearn.feature_selection import SelectKBest\n",
        "\n",
        "#select the  top 8 important features\n",
        "sel_8_cols = SelectKBest(mutual_info_regression, k=7)\n",
        "sel_8_cols.fit(x_train, y_train)\n",
        "x_train.columns[sel_8_cols.get_support()]"
      ],
      "execution_count": 323,
      "outputs": [
        {
          "output_type": "execute_result",
          "data": {
            "text/plain": [
              "Index(['document_create_date', 'baseline_create_date', 'posting_mth',\n",
              "       'clear_mth', 'clear_day', 'name_customer_enc', 'cust_number_enc'],\n",
              "      dtype='object')"
            ]
          },
          "metadata": {
            "tags": []
          },
          "execution_count": 323
        }
      ]
    },
    {
      "cell_type": "markdown",
      "metadata": {
        "id": "AtgNIS3c8kNW"
      },
      "source": [
        "###4. Using Feature Importance"
      ]
    },
    {
      "cell_type": "code",
      "metadata": {
        "colab": {
          "base_uri": "https://localhost:8080/"
        },
        "id": "6-0L5QtLkVTP",
        "outputId": "f01e16cb-520c-45a2-a3e1-d9a9236be803"
      },
      "source": [
        "### Feature Importance\n",
        "from sklearn.ensemble import ExtraTreesRegressor\n",
        "\n",
        "model = ExtraTreesRegressor()\n",
        "model.fit(x_train,y_train)"
      ],
      "execution_count": 324,
      "outputs": [
        {
          "output_type": "execute_result",
          "data": {
            "text/plain": [
              "ExtraTreesRegressor(bootstrap=False, ccp_alpha=0.0, criterion='mse',\n",
              "                    max_depth=None, max_features='auto', max_leaf_nodes=None,\n",
              "                    max_samples=None, min_impurity_decrease=0.0,\n",
              "                    min_impurity_split=None, min_samples_leaf=1,\n",
              "                    min_samples_split=2, min_weight_fraction_leaf=0.0,\n",
              "                    n_estimators=100, n_jobs=None, oob_score=False,\n",
              "                    random_state=None, verbose=0, warm_start=False)"
            ]
          },
          "metadata": {
            "tags": []
          },
          "execution_count": 324
        }
      ]
    },
    {
      "cell_type": "code",
      "metadata": {
        "colab": {
          "base_uri": "https://localhost:8080/"
        },
        "id": "Vm058n1Qkm6h",
        "outputId": "fcfbf247-14dc-4e73-81c6-2fff41a8ba2e"
      },
      "source": [
        "print(model.feature_importances_)"
      ],
      "execution_count": 325,
      "outputs": [
        {
          "output_type": "stream",
          "text": [
            "[1.49754054e-01 2.07336938e-01 1.08577893e-04 1.89288006e-01\n",
            " 1.64662341e-03 4.39686078e-01 3.95500334e-03 0.00000000e+00\n",
            " 7.25583524e-03 1.30644851e-04 1.50516944e-04 9.76185764e-05\n",
            " 5.90102865e-04]\n"
          ],
          "name": "stdout"
        }
      ]
    },
    {
      "cell_type": "code",
      "metadata": {
        "colab": {
          "base_uri": "https://localhost:8080/",
          "height": 0
        },
        "id": "4RXwHFR4ktWd",
        "outputId": "1faf9fcd-adae-4200-c333-acaf96575b20"
      },
      "source": [
        "#plot the graph of the imp features\n",
        "fea_imp= pd.Series(model.feature_importances_, index=x_train.columns )\n",
        "fea_imp.nlargest(5).plot(kind='barh')\n",
        "plt.show()"
      ],
      "execution_count": 326,
      "outputs": [
        {
          "output_type": "display_data",
          "data": {
            "image/png": "[encoded data removed]",
            "text/plain": [
              "<Figure size 432x288 with 1 Axes>"
            ]
          },
          "metadata": {
            "tags": [],
            "needs_background": "light"
          }
        }
      ]
    },
    {
      "cell_type": "code",
      "metadata": {
        "colab": {
          "base_uri": "https://localhost:8080/"
        },
        "id": "XWGmlWFUl2dh",
        "outputId": "aa8dc2ee-3fd2-48e4-e432-3cff79960303"
      },
      "source": [
        "x_train.columns"
      ],
      "execution_count": 327,
      "outputs": [
        {
          "output_type": "execute_result",
          "data": {
            "text/plain": [
              "Index(['document_create_date', 'baseline_create_date', 'total_open_amt(USD)',\n",
              "       'posting_mth', 'posting_day', 'clear_mth', 'clear_day', 'due_mth',\n",
              "       'due_day', 'name_customer_enc', 'cust_number_enc', 'business_code_enc',\n",
              "       'cust_payment_terms_enc'],\n",
              "      dtype='object')"
            ]
          },
          "metadata": {
            "tags": []
          },
          "execution_count": 327
        }
      ]
    },
    {
      "cell_type": "code",
      "metadata": {
        "colab": {
          "base_uri": "https://localhost:8080/",
          "height": 0
        },
        "id": "rNBaW91rhCw_",
        "outputId": "ab4d774d-547e-47c1-a1af-231e5f89e9c4"
      },
      "source": [
        "#features selected for prediction to provide accurate results\n",
        "x_train= x_train[['document_create_date', 'posting_mth', 'clear_mth', 'due_day','baseline_create_date']]\n",
        "x_test=x_test[['document_create_date', 'posting_mth', 'clear_mth', 'due_day','baseline_create_date']]\n",
        "x_val=x_val[['document_create_date', 'posting_mth', 'clear_mth', 'due_day','baseline_create_date']]\n",
        "x_train"
      ],
      "execution_count": 328,
      "outputs": [
        {
          "output_type": "execute_result",
          "data": {
            "text/html": [
              "<div>\n",
              "<style scoped>\n",
              "    .dataframe tbody tr th:only-of-type {\n",
              "        vertical-align: middle;\n",
              "    }\n",
              "\n",
              "    .dataframe tbody tr th {\n",
              "        vertical-align: top;\n",
              "    }\n",
              "\n",
              "    .dataframe thead th {\n",
              "        text-align: right;\n",
              "    }\n",
              "</style>\n",
              "<table border=\"1\" class=\"dataframe\">\n",
              "  <thead>\n",
              "    <tr style=\"text-align: right;\">\n",
              "      <th></th>\n",
              "      <th>document_create_date</th>\n",
              "      <th>posting_mth</th>\n",
              "      <th>clear_mth</th>\n",
              "      <th>due_day</th>\n",
              "      <th>baseline_create_date</th>\n",
              "    </tr>\n",
              "  </thead>\n",
              "  <tbody>\n",
              "    <tr>\n",
              "      <th>0</th>\n",
              "      <td>0.86</td>\n",
              "      <td>1.00</td>\n",
              "      <td>0.00</td>\n",
              "      <td>0.43</td>\n",
              "      <td>0.88</td>\n",
              "    </tr>\n",
              "    <tr>\n",
              "      <th>1</th>\n",
              "      <td>0.86</td>\n",
              "      <td>1.00</td>\n",
              "      <td>0.00</td>\n",
              "      <td>0.43</td>\n",
              "      <td>0.88</td>\n",
              "    </tr>\n",
              "    <tr>\n",
              "      <th>2</th>\n",
              "      <td>0.86</td>\n",
              "      <td>1.00</td>\n",
              "      <td>0.00</td>\n",
              "      <td>0.43</td>\n",
              "      <td>0.88</td>\n",
              "    </tr>\n",
              "    <tr>\n",
              "      <th>3</th>\n",
              "      <td>0.86</td>\n",
              "      <td>1.00</td>\n",
              "      <td>0.00</td>\n",
              "      <td>0.43</td>\n",
              "      <td>0.88</td>\n",
              "    </tr>\n",
              "    <tr>\n",
              "      <th>4</th>\n",
              "      <td>0.86</td>\n",
              "      <td>1.00</td>\n",
              "      <td>0.00</td>\n",
              "      <td>0.43</td>\n",
              "      <td>0.88</td>\n",
              "    </tr>\n",
              "    <tr>\n",
              "      <th>...</th>\n",
              "      <td>...</td>\n",
              "      <td>...</td>\n",
              "      <td>...</td>\n",
              "      <td>...</td>\n",
              "      <td>...</td>\n",
              "    </tr>\n",
              "    <tr>\n",
              "      <th>27369</th>\n",
              "      <td>1.00</td>\n",
              "      <td>0.82</td>\n",
              "      <td>0.82</td>\n",
              "      <td>0.90</td>\n",
              "      <td>1.00</td>\n",
              "    </tr>\n",
              "    <tr>\n",
              "      <th>27370</th>\n",
              "      <td>1.00</td>\n",
              "      <td>0.82</td>\n",
              "      <td>0.82</td>\n",
              "      <td>0.53</td>\n",
              "      <td>1.00</td>\n",
              "    </tr>\n",
              "    <tr>\n",
              "      <th>27371</th>\n",
              "      <td>1.00</td>\n",
              "      <td>0.82</td>\n",
              "      <td>0.82</td>\n",
              "      <td>0.73</td>\n",
              "      <td>1.00</td>\n",
              "    </tr>\n",
              "    <tr>\n",
              "      <th>27372</th>\n",
              "      <td>1.00</td>\n",
              "      <td>0.82</td>\n",
              "      <td>0.82</td>\n",
              "      <td>0.73</td>\n",
              "      <td>1.00</td>\n",
              "    </tr>\n",
              "    <tr>\n",
              "      <th>27373</th>\n",
              "      <td>1.00</td>\n",
              "      <td>0.82</td>\n",
              "      <td>0.82</td>\n",
              "      <td>0.73</td>\n",
              "      <td>1.00</td>\n",
              "    </tr>\n",
              "  </tbody>\n",
              "</table>\n",
              "<p>27374 rows × 5 columns</p>\n",
              "</div>"
            ],
            "text/plain": [
              "       document_create_date  posting_mth  ...  due_day  baseline_create_date\n",
              "0                      0.86         1.00  ...     0.43                  0.88\n",
              "1                      0.86         1.00  ...     0.43                  0.88\n",
              "2                      0.86         1.00  ...     0.43                  0.88\n",
              "3                      0.86         1.00  ...     0.43                  0.88\n",
              "4                      0.86         1.00  ...     0.43                  0.88\n",
              "...                     ...          ...  ...      ...                   ...\n",
              "27369                  1.00         0.82  ...     0.90                  1.00\n",
              "27370                  1.00         0.82  ...     0.53                  1.00\n",
              "27371                  1.00         0.82  ...     0.73                  1.00\n",
              "27372                  1.00         0.82  ...     0.73                  1.00\n",
              "27373                  1.00         0.82  ...     0.73                  1.00\n",
              "\n",
              "[27374 rows x 5 columns]"
            ]
          },
          "metadata": {
            "tags": []
          },
          "execution_count": 328
        }
      ]
    },
    {
      "cell_type": "markdown",
      "metadata": {
        "id": "tGTTZhtDFgm5"
      },
      "source": [
        "#Model Training"
      ]
    },
    {
      "cell_type": "markdown",
      "metadata": {
        "id": "cxWdj5GcvV37"
      },
      "source": [
        "##Logistic Regression, Decision Tree, SVM(Classification), Naive Bayes, KNN, LDA"
      ]
    },
    {
      "cell_type": "code",
      "metadata": {
        "id": "YwAS_2UDv3W4"
      },
      "source": [
        "from sklearn import model_selection\n",
        "from sklearn.metrics import classification_report\n",
        "from sklearn.metrics import confusion_matrix\n",
        "from sklearn.metrics import accuracy_score\n",
        "from sklearn.linear_model import LogisticRegression \n",
        "from sklearn.tree import DecisionTreeClassifier\n",
        "from sklearn.neighbors import KNeighborsClassifier\n",
        "from sklearn.discriminant_analysis import LinearDiscriminantAnalysis \n",
        "from sklearn.naive_bayes import GaussianNB\n",
        "from sklearn.svm import SVC\n",
        "from sklearn.metrics import mean_squared_error, accuracy_score,confusion_matrix, r2_score"
      ],
      "execution_count": 121,
      "outputs": []
    },
    {
      "cell_type": "code",
      "metadata": {
        "id": "hssdp3T91NzG"
      },
      "source": [
        "#test options and evaluation matrix\n",
        "seed= 6\n",
        "scoring ='accuracy'"
      ],
      "execution_count": 122,
      "outputs": []
    },
    {
      "cell_type": "code",
      "metadata": {
        "colab": {
          "base_uri": "https://localhost:8080/"
        },
        "id": "a9z4A8SS1MQn",
        "outputId": "cab24f52-beee-4ac2-d262-52147716f122"
      },
      "source": [
        "models=[]\n",
        "models.append(('LR', LogisticRegression()))\n",
        "models.append(('LDA', LinearDiscriminantAnalysis()))\n",
        "models.append(('KNN', KNeighborsClassifier()))\n",
        "models.append(('CART', DecisionTreeClassifier()))\n",
        "models.append(('NB', GaussianNB()))\n",
        "models.append(('SVM', SVC())) #SVM(Classification)\n",
        "#evaluate each model in turn\n",
        "results =[]\n",
        "names=[]\n",
        "for name, model in models:\n",
        "    kfold = model_selection.KFold(n_splits=10, random_state=seed)\n",
        "    cv_results =model_selection.cross_val_score(model, x_train, y_train, cv=kfold, scoring=scoring)\n",
        "    results.append(cv_results)\n",
        "    names.append(name)\n",
        "    msg=\"%s: %f(%f)\" % (name, cv_results.mean(), cv_results.std())\n",
        "    print(msg)"
      ],
      "execution_count": 123,
      "outputs": [
        {
          "output_type": "stream",
          "text": [
            "LR: 0.008000(0.008437)\n",
            "LDA: 0.147764(0.048170)\n",
            "KNN: 0.092207(0.029671)\n",
            "CART: 0.091806(0.042681)\n",
            "NB: 0.115332(0.056690)\n",
            "SVM: 0.088514(0.029100)\n"
          ],
          "name": "stdout"
        }
      ]
    },
    {
      "cell_type": "markdown",
      "metadata": {
        "id": "Zf0XNOQwr4VE"
      },
      "source": [
        "Since from the above 6 models \n",
        "*   LDA(Linear Discriminant Analysis)--> 0.1477\n",
        "*   NaiveBayes-->0.115 accuracy score\n",
        "\n",
        "hence they can be considered for future prediction "
      ]
    },
    {
      "cell_type": "markdown",
      "metadata": {
        "id": "jOvIPrG0tIyH"
      },
      "source": [
        "##RandomForest(Regression)"
      ]
    },
    {
      "cell_type": "code",
      "metadata": {
        "id": "GO6_aSoEtWbY"
      },
      "source": [
        "from sklearn.ensemble import RandomForestRegressor"
      ],
      "execution_count": 125,
      "outputs": []
    },
    {
      "cell_type": "code",
      "metadata": {
        "id": "mkR1KDFRLMAu",
        "colab": {
          "base_uri": "https://localhost:8080/"
        },
        "outputId": "df554458-26b4-43fe-bf5b-adde693a93c5"
      },
      "source": [
        "#use random_grid to get the best hyperparameters\n",
        "reg=RandomForestRegressor(n_estimators=100)\n",
        "reg.fit(x_train, y_train)"
      ],
      "execution_count": 126,
      "outputs": [
        {
          "output_type": "execute_result",
          "data": {
            "text/plain": [
              "RandomForestRegressor(bootstrap=True, ccp_alpha=0.0, criterion='mse',\n",
              "                      max_depth=None, max_features='auto', max_leaf_nodes=None,\n",
              "                      max_samples=None, min_impurity_decrease=0.0,\n",
              "                      min_impurity_split=None, min_samples_leaf=1,\n",
              "                      min_samples_split=2, min_weight_fraction_leaf=0.0,\n",
              "                      n_estimators=100, n_jobs=None, oob_score=False,\n",
              "                      random_state=None, verbose=0, warm_start=False)"
            ]
          },
          "metadata": {
            "tags": []
          },
          "execution_count": 126
        }
      ]
    },
    {
      "cell_type": "code",
      "metadata": {
        "colab": {
          "base_uri": "https://localhost:8080/"
        },
        "id": "7tcO1SFzu7Ns",
        "outputId": "5c451e03-34e4-4acc-addf-20f41591f349"
      },
      "source": [
        "reg.score(x_val, y_val)"
      ],
      "execution_count": 127,
      "outputs": [
        {
          "output_type": "execute_result",
          "data": {
            "text/plain": [
              "0.6354865899387543"
            ]
          },
          "metadata": {
            "tags": []
          },
          "execution_count": 127
        }
      ]
    },
    {
      "cell_type": "code",
      "metadata": {
        "id": "lfr5OnMiznc4"
      },
      "source": [
        "rf_y_pred_val=reg.predict(x_val)"
      ],
      "execution_count": 156,
      "outputs": []
    },
    {
      "cell_type": "markdown",
      "metadata": {
        "id": "AkmlITmX16i1"
      },
      "source": [
        "**Accuracy Check**"
      ]
    },
    {
      "cell_type": "code",
      "metadata": {
        "colab": {
          "base_uri": "https://localhost:8080/"
        },
        "id": "jMNOTvPAzmst",
        "outputId": "9ea53980-8465-4685-83e5-92a32ee1a3e2"
      },
      "source": [
        "import sklearn.metrics as metrics\n",
        "\n",
        "print('MAE:', metrics.mean_absolute_error(y_val, rf_y_pred_val))\n",
        "print('MSE:', metrics.mean_squared_error(y_val, rf_y_pred_val))\n",
        "print('RMSE:', np.sqrt(metrics.mean_squared_error(y_val, rf_y_pred_val)))"
      ],
      "execution_count": 157,
      "outputs": [
        {
          "output_type": "stream",
          "text": [
            "MAE: 19.345900457440234\n",
            "MSE: 3091.8943496439497\n",
            "RMSE: 55.60480509491918\n"
          ],
          "name": "stdout"
        }
      ]
    },
    {
      "cell_type": "code",
      "metadata": {
        "colab": {
          "base_uri": "https://localhost:8080/"
        },
        "id": "HXwPtfsL2NqV",
        "outputId": "8d0ef6a5-26d3-4eec-bc4f-974d5c158c54"
      },
      "source": [
        "r2_score(y_val, rf_y_pred_val)"
      ],
      "execution_count": 162,
      "outputs": [
        {
          "output_type": "execute_result",
          "data": {
            "text/plain": [
              "0.6354865899387543"
            ]
          },
          "metadata": {
            "tags": []
          },
          "execution_count": 162
        }
      ]
    },
    {
      "cell_type": "markdown",
      "metadata": {
        "id": "JIfvp6qCeFH_"
      },
      "source": [
        "###Using RandomizedSearchCV\n",
        "\n",
        "Use RandomizedSearchCV to reduce number of iterations and with random combination of parameters. This is useful when we have too many parameters to try and your training time is longer. It helps reduce the cost of computation "
      ]
    },
    {
      "cell_type": "code",
      "metadata": {
        "id": "l_JqbFkkK0d1"
      },
      "source": [
        "#Randomized Search CV\n",
        "\n",
        "# Number of trees in random forest\n",
        "n_estimators = [int(x) for x in np.linspace(start = 50, stop = 200, num = 4)]\n",
        "# Number of features to consider at every split\n",
        "max_features = ['auto', 'sqrt']\n",
        "# Maximum number of levels in tree\n",
        "max_depth = [int(x) for x in np.linspace(5, 30, num = 6)]\n",
        "# max_depth.append(None)\n",
        "# Minimum number of samples required to split a node\n",
        "min_samples_split = [2, 5, 10, 15, 100]\n",
        "# Minimum number of samples required at each leaf node\n",
        "min_samples_leaf = [1, 2, 5, 10]\n"
      ],
      "execution_count": 128,
      "outputs": []
    },
    {
      "cell_type": "code",
      "metadata": {
        "id": "2NBWHiKVLh4F",
        "colab": {
          "base_uri": "https://localhost:8080/"
        },
        "outputId": "fe99cde5-f30a-42c9-f6ac-ff6259ddd999"
      },
      "source": [
        "# Create the random grid\n",
        "random_grid = {'n_estimators': [10,20,30,40,50,60,100,200],\n",
        "             'max_features': max_features,\n",
        "               'max_depth': max_depth,\n",
        "               'min_samples_split': min_samples_split,\n",
        "               'min_samples_leaf': min_samples_leaf}\n",
        "\n",
        "print(random_grid)"
      ],
      "execution_count": 129,
      "outputs": [
        {
          "output_type": "stream",
          "text": [
            "{'n_estimators': [10, 20, 30, 40, 50, 60, 100, 200], 'max_features': ['auto', 'sqrt'], 'max_depth': [5, 10, 15, 20, 25, 30], 'min_samples_split': [2, 5, 10, 15, 100], 'min_samples_leaf': [1, 2, 5, 10]}\n"
          ],
          "name": "stdout"
        }
      ]
    },
    {
      "cell_type": "code",
      "metadata": {
        "id": "7qBkzRiPwM3s"
      },
      "source": [
        "from sklearn.model_selection import RandomizedSearchCV\n",
        "rf=RandomForestRegressor()"
      ],
      "execution_count": 134,
      "outputs": []
    },
    {
      "cell_type": "code",
      "metadata": {
        "id": "KItQHFWDTjbJ"
      },
      "source": [
        "# Random search of parameters, using 3 fold cross validation, search across 100 different combinations\n",
        "rf_random = RandomizedSearchCV(estimator = rf, param_distributions = random_grid,\n",
        "                              scoring='neg_mean_squared_error', \n",
        "                              n_iter = 2, cv = 5, verbose=2, random_state=42, n_jobs = 1)\n"
      ],
      "execution_count": 135,
      "outputs": []
    },
    {
      "cell_type": "code",
      "metadata": {
        "colab": {
          "base_uri": "https://localhost:8080/"
        },
        "id": "fzBeePP4vniu",
        "outputId": "8302e408-0241-451d-e9e2-5193564eeef0"
      },
      "source": [
        "rf_random.fit(x_train,y_train)"
      ],
      "execution_count": 136,
      "outputs": [
        {
          "output_type": "stream",
          "text": [
            "Fitting 5 folds for each of 2 candidates, totalling 10 fits\n",
            "[CV] n_estimators=100, min_samples_split=2, min_samples_leaf=1, max_features=sqrt, max_depth=20 \n"
          ],
          "name": "stdout"
        },
        {
          "output_type": "stream",
          "text": [
            "[Parallel(n_jobs=1)]: Using backend SequentialBackend with 1 concurrent workers.\n"
          ],
          "name": "stderr"
        },
        {
          "output_type": "stream",
          "text": [
            "[CV]  n_estimators=100, min_samples_split=2, min_samples_leaf=1, max_features=sqrt, max_depth=20, total=   1.3s\n",
            "[CV] n_estimators=100, min_samples_split=2, min_samples_leaf=1, max_features=sqrt, max_depth=20 \n"
          ],
          "name": "stdout"
        },
        {
          "output_type": "stream",
          "text": [
            "[Parallel(n_jobs=1)]: Done   1 out of   1 | elapsed:    1.3s remaining:    0.0s\n"
          ],
          "name": "stderr"
        },
        {
          "output_type": "stream",
          "text": [
            "[CV]  n_estimators=100, min_samples_split=2, min_samples_leaf=1, max_features=sqrt, max_depth=20, total=   1.4s\n",
            "[CV] n_estimators=100, min_samples_split=2, min_samples_leaf=1, max_features=sqrt, max_depth=20 \n",
            "[CV]  n_estimators=100, min_samples_split=2, min_samples_leaf=1, max_features=sqrt, max_depth=20, total=   1.4s\n",
            "[CV] n_estimators=100, min_samples_split=2, min_samples_leaf=1, max_features=sqrt, max_depth=20 \n",
            "[CV]  n_estimators=100, min_samples_split=2, min_samples_leaf=1, max_features=sqrt, max_depth=20, total=   1.3s\n",
            "[CV] n_estimators=100, min_samples_split=2, min_samples_leaf=1, max_features=sqrt, max_depth=20 \n",
            "[CV]  n_estimators=100, min_samples_split=2, min_samples_leaf=1, max_features=sqrt, max_depth=20, total=   1.3s\n",
            "[CV] n_estimators=40, min_samples_split=10, min_samples_leaf=1, max_features=sqrt, max_depth=25 \n",
            "[CV]  n_estimators=40, min_samples_split=10, min_samples_leaf=1, max_features=sqrt, max_depth=25, total=   0.5s\n",
            "[CV] n_estimators=40, min_samples_split=10, min_samples_leaf=1, max_features=sqrt, max_depth=25 \n",
            "[CV]  n_estimators=40, min_samples_split=10, min_samples_leaf=1, max_features=sqrt, max_depth=25, total=   0.5s\n",
            "[CV] n_estimators=40, min_samples_split=10, min_samples_leaf=1, max_features=sqrt, max_depth=25 \n",
            "[CV]  n_estimators=40, min_samples_split=10, min_samples_leaf=1, max_features=sqrt, max_depth=25, total=   0.5s\n",
            "[CV] n_estimators=40, min_samples_split=10, min_samples_leaf=1, max_features=sqrt, max_depth=25 \n",
            "[CV]  n_estimators=40, min_samples_split=10, min_samples_leaf=1, max_features=sqrt, max_depth=25, total=   0.5s\n",
            "[CV] n_estimators=40, min_samples_split=10, min_samples_leaf=1, max_features=sqrt, max_depth=25 \n",
            "[CV]  n_estimators=40, min_samples_split=10, min_samples_leaf=1, max_features=sqrt, max_depth=25, total=   0.5s\n"
          ],
          "name": "stdout"
        },
        {
          "output_type": "stream",
          "text": [
            "[Parallel(n_jobs=1)]: Done  10 out of  10 | elapsed:    9.2s finished\n"
          ],
          "name": "stderr"
        },
        {
          "output_type": "execute_result",
          "data": {
            "text/plain": [
              "RandomizedSearchCV(cv=5, error_score=nan,\n",
              "                   estimator=RandomForestRegressor(bootstrap=True,\n",
              "                                                   ccp_alpha=0.0,\n",
              "                                                   criterion='mse',\n",
              "                                                   max_depth=None,\n",
              "                                                   max_features='auto',\n",
              "                                                   max_leaf_nodes=None,\n",
              "                                                   max_samples=None,\n",
              "                                                   min_impurity_decrease=0.0,\n",
              "                                                   min_impurity_split=None,\n",
              "                                                   min_samples_leaf=1,\n",
              "                                                   min_samples_split=2,\n",
              "                                                   min_weight_fraction_leaf=0.0,\n",
              "                                                   n_estimators=100,\n",
              "                                                   n_jobs=None, oob_score=Fals...\n",
              "                                                   warm_start=False),\n",
              "                   iid='deprecated', n_iter=2, n_jobs=1,\n",
              "                   param_distributions={'max_depth': [5, 10, 15, 20, 25, 30],\n",
              "                                        'max_features': ['auto', 'sqrt'],\n",
              "                                        'min_samples_leaf': [1, 2, 5, 10],\n",
              "                                        'min_samples_split': [2, 5, 10, 15,\n",
              "                                                              100],\n",
              "                                        'n_estimators': [10, 20, 30, 40, 50, 60,\n",
              "                                                         100, 200]},\n",
              "                   pre_dispatch='2*n_jobs', random_state=42, refit=True,\n",
              "                   return_train_score=False, scoring='neg_mean_squared_error',\n",
              "                   verbose=2)"
            ]
          },
          "metadata": {
            "tags": []
          },
          "execution_count": 136
        }
      ]
    },
    {
      "cell_type": "code",
      "metadata": {
        "id": "dma10yJjM1d1",
        "colab": {
          "base_uri": "https://localhost:8080/"
        },
        "outputId": "f176eb7c-6edc-4c7a-8f0e-dfad3b985ea0"
      },
      "source": [
        "rf_random.best_params_"
      ],
      "execution_count": 137,
      "outputs": [
        {
          "output_type": "execute_result",
          "data": {
            "text/plain": [
              "{'max_depth': 20,\n",
              " 'max_features': 'sqrt',\n",
              " 'min_samples_leaf': 1,\n",
              " 'min_samples_split': 2,\n",
              " 'n_estimators': 100}"
            ]
          },
          "metadata": {
            "tags": []
          },
          "execution_count": 137
        }
      ]
    },
    {
      "cell_type": "code",
      "metadata": {
        "colab": {
          "base_uri": "https://localhost:8080/"
        },
        "id": "B2qc9goLvwM3",
        "outputId": "efc12419-0239-42ae-d7c7-58a0037310a1"
      },
      "source": [
        "rf_random.best_score_"
      ],
      "execution_count": 138,
      "outputs": [
        {
          "output_type": "execute_result",
          "data": {
            "text/plain": [
              "-395.6153087467036"
            ]
          },
          "metadata": {
            "tags": []
          },
          "execution_count": 138
        }
      ]
    },
    {
      "cell_type": "code",
      "metadata": {
        "id": "WqD9Caalvzij"
      },
      "source": [
        "y_pred_val=rf_random.predict(x_val)"
      ],
      "execution_count": 144,
      "outputs": []
    },
    {
      "cell_type": "code",
      "metadata": {
        "colab": {
          "base_uri": "https://localhost:8080/"
        },
        "id": "wAOYFNv8NEvA",
        "outputId": "522b3060-a876-40ba-9e1f-f634d0b15203"
      },
      "source": [
        "import sklearn.metrics as metrics\n",
        "\n",
        "print('MAE:', metrics.mean_absolute_error(y_val, y_pred_val))\n",
        "print('MSE:', metrics.mean_squared_error(y_val, y_pred_val))\n",
        "print('RMSE:', np.sqrt(metrics.mean_squared_error(y_val, y_pred_val)))"
      ],
      "execution_count": 148,
      "outputs": [
        {
          "output_type": "stream",
          "text": [
            "MAE: 104.9951990175284\n",
            "MSE: 13412.192206869597\n",
            "RMSE: 115.81101936719837\n"
          ],
          "name": "stdout"
        }
      ]
    },
    {
      "cell_type": "code",
      "metadata": {
        "id": "Pvti8ILebuEd",
        "colab": {
          "base_uri": "https://localhost:8080/"
        },
        "outputId": "25bf4bae-c167-4ea7-877a-4505316244cb"
      },
      "source": [
        "r2_score(y_val, y_pred_val)"
      ],
      "execution_count": 149,
      "outputs": [
        {
          "output_type": "execute_result",
          "data": {
            "text/plain": [
              "-0.5812066535474898"
            ]
          },
          "metadata": {
            "tags": []
          },
          "execution_count": 149
        }
      ]
    },
    {
      "cell_type": "markdown",
      "metadata": {
        "id": "hzJFtHsZsUyb"
      },
      "source": [
        "## XGBoost Regressor"
      ]
    },
    {
      "cell_type": "code",
      "metadata": {
        "id": "2cF4-BWTxwg4"
      },
      "source": [
        "import xgboost as xgb"
      ],
      "execution_count": 151,
      "outputs": []
    },
    {
      "cell_type": "code",
      "metadata": {
        "id": "mgZ61NhmsUyc",
        "colab": {
          "base_uri": "https://localhost:8080/"
        },
        "outputId": "8ac560c6-099a-498a-dfe2-dca22506a9ef"
      },
      "source": [
        "# Fitting XGBoost Regressor to the Training Set\n",
        "xgb_model = xgb.XGBRegressor()\n",
        "xgb_model.fit(x_train, y_train)"
      ],
      "execution_count": 154,
      "outputs": [
        {
          "output_type": "stream",
          "text": [
            "[18:03:05] WARNING: /workspace/src/objective/regression_obj.cu:152: reg:linear is now deprecated in favor of reg:squarederror.\n"
          ],
          "name": "stdout"
        },
        {
          "output_type": "execute_result",
          "data": {
            "text/plain": [
              "XGBRegressor(base_score=0.5, booster='gbtree', colsample_bylevel=1,\n",
              "             colsample_bynode=1, colsample_bytree=1, gamma=0,\n",
              "             importance_type='gain', learning_rate=0.1, max_delta_step=0,\n",
              "             max_depth=3, min_child_weight=1, missing=None, n_estimators=100,\n",
              "             n_jobs=1, nthread=None, objective='reg:linear', random_state=0,\n",
              "             reg_alpha=0, reg_lambda=1, scale_pos_weight=1, seed=None,\n",
              "             silent=None, subsample=1, verbosity=1)"
            ]
          },
          "metadata": {
            "tags": []
          },
          "execution_count": 154
        }
      ]
    },
    {
      "cell_type": "code",
      "metadata": {
        "colab": {
          "base_uri": "https://localhost:8080/"
        },
        "id": "NnuYm3QHy-uu",
        "outputId": "26ae4c58-f17f-4aa3-bc2e-f53db9cac637"
      },
      "source": [
        "xgb_model.score(x_val, y_val)"
      ],
      "execution_count": 155,
      "outputs": [
        {
          "output_type": "execute_result",
          "data": {
            "text/plain": [
              "0.3990450570777588"
            ]
          },
          "metadata": {
            "tags": []
          },
          "execution_count": 155
        }
      ]
    },
    {
      "cell_type": "code",
      "metadata": {
        "id": "2udpZRsSyiku"
      },
      "source": [
        "# Predicting the Test Set Results\n",
        "xgb_pred = xgb_model.predict(x_val)"
      ],
      "execution_count": 159,
      "outputs": []
    },
    {
      "cell_type": "markdown",
      "metadata": {
        "id": "DTYMvM421xTr"
      },
      "source": [
        "**Accuracy Check**"
      ]
    },
    {
      "cell_type": "code",
      "metadata": {
        "id": "_EmfW86-uVlc",
        "colab": {
          "base_uri": "https://localhost:8080/"
        },
        "outputId": "fa81ced0-1a3e-46ee-dc01-5edf5a76c066"
      },
      "source": [
        "print('MAE:', metrics.mean_absolute_error(y_val, xgb_pred))\n",
        "print('MSE:', metrics.mean_squared_error(y_val, xgb_pred))\n",
        "print('RMSE:', np.sqrt(metrics.mean_squared_error(y_val, xgb_pred)))"
      ],
      "execution_count": 160,
      "outputs": [
        {
          "output_type": "stream",
          "text": [
            "MAE: 52.70832742313212\n",
            "MSE: 5097.450851258621\n",
            "RMSE: 71.39643444359544\n"
          ],
          "name": "stdout"
        }
      ]
    },
    {
      "cell_type": "code",
      "metadata": {
        "colab": {
          "base_uri": "https://localhost:8080/"
        },
        "id": "udb9pd0n2YSN",
        "outputId": "7eccaa14-8c64-43b8-af77-4981cc2a2247"
      },
      "source": [
        "r2_score(y_val, xgb_pred)"
      ],
      "execution_count": 163,
      "outputs": [
        {
          "output_type": "execute_result",
          "data": {
            "text/plain": [
              "0.39904505707775884"
            ]
          },
          "metadata": {
            "tags": []
          },
          "execution_count": 163
        }
      ]
    },
    {
      "cell_type": "markdown",
      "metadata": {
        "id": "eWurIsrw2bcF"
      },
      "source": [
        "##Thus from the above model trainings it is concluded that \"Random Forest\"(without implementing RandomizedSearch CV) is the BEST Model for this dataset with the highest accuracy score of 63.5%  "
      ]
    },
    {
      "cell_type": "code",
      "metadata": {
        "id": "8GAjXKQ1N3ri",
        "colab": {
          "base_uri": "https://localhost:8080/"
        },
        "outputId": "c7c3ff32-0aac-440f-d8c4-20a38e0431e8"
      },
      "source": [
        "#to confirm that model is not overfitting\n",
        "y_pred_test=reg.predict(x_test)\n",
        "mean_squared_error(y_test, y_pred_test, squared=False)"
      ],
      "execution_count": 165,
      "outputs": [
        {
          "output_type": "execute_result",
          "data": {
            "text/plain": [
              "24.906859760522753"
            ]
          },
          "metadata": {
            "tags": []
          },
          "execution_count": 165
        }
      ]
    },
    {
      "cell_type": "markdown",
      "metadata": {
        "id": "dqkfZocLOvF1"
      },
      "source": [
        "#Predict the Clear Dates of Test Dataset"
      ]
    },
    {
      "cell_type": "markdown",
      "metadata": {
        "id": "DA8A7Ah0buE-"
      },
      "source": [
        "##About Test Data"
      ]
    },
    {
      "cell_type": "code",
      "metadata": {
        "id": "6GlougQ9NK4p"
      },
      "source": [
        "test = df[df['clear_date'].isnull()]"
      ],
      "execution_count": 348,
      "outputs": []
    },
    {
      "cell_type": "code",
      "metadata": {
        "id": "cG26ZRKiO6w5",
        "colab": {
          "base_uri": "https://localhost:8080/",
          "height": 310
        },
        "outputId": "73b4f851-7744-466a-f41e-52e4c1a21a29"
      },
      "source": [
        "test.head()"
      ],
      "execution_count": 349,
      "outputs": [
        {
          "output_type": "execute_result",
          "data": {
            "text/html": [
              "<div>\n",
              "<style scoped>\n",
              "    .dataframe tbody tr th:only-of-type {\n",
              "        vertical-align: middle;\n",
              "    }\n",
              "\n",
              "    .dataframe tbody tr th {\n",
              "        vertical-align: top;\n",
              "    }\n",
              "\n",
              "    .dataframe thead th {\n",
              "        text-align: right;\n",
              "    }\n",
              "</style>\n",
              "<table border=\"1\" class=\"dataframe\">\n",
              "  <thead>\n",
              "    <tr style=\"text-align: right;\">\n",
              "      <th></th>\n",
              "      <th>business_code</th>\n",
              "      <th>cust_number</th>\n",
              "      <th>name_customer</th>\n",
              "      <th>clear_date</th>\n",
              "      <th>buisness_year</th>\n",
              "      <th>posting_date</th>\n",
              "      <th>document_create_date</th>\n",
              "      <th>due_in_date</th>\n",
              "      <th>posting_id</th>\n",
              "      <th>baseline_create_date</th>\n",
              "      <th>cust_payment_terms</th>\n",
              "      <th>invoice_id</th>\n",
              "      <th>isOpen</th>\n",
              "      <th>total_open_amt(USD)</th>\n",
              "      <th>delay</th>\n",
              "    </tr>\n",
              "  </thead>\n",
              "  <tbody>\n",
              "    <tr>\n",
              "      <th>6124</th>\n",
              "      <td>U001</td>\n",
              "      <td>0200770677</td>\n",
              "      <td>Other</td>\n",
              "      <td>NaT</td>\n",
              "      <td>2020.00</td>\n",
              "      <td>2020-02-27</td>\n",
              "      <td>20200226</td>\n",
              "      <td>2020-01-13 00:03:00</td>\n",
              "      <td>1.00</td>\n",
              "      <td>20200227.00</td>\n",
              "      <td>NAA8</td>\n",
              "      <td>U001</td>\n",
              "      <td>1</td>\n",
              "      <td>45808.43</td>\n",
              "      <td>NaT</td>\n",
              "    </tr>\n",
              "    <tr>\n",
              "      <th>26759</th>\n",
              "      <td>U001</td>\n",
              "      <td>0200761734</td>\n",
              "      <td>H E BUT in</td>\n",
              "      <td>NaT</td>\n",
              "      <td>2020.00</td>\n",
              "      <td>2020-02-27</td>\n",
              "      <td>20200227</td>\n",
              "      <td>2020-01-13 00:03:00</td>\n",
              "      <td>1.00</td>\n",
              "      <td>20200227.00</td>\n",
              "      <td>NAA8</td>\n",
              "      <td>U001</td>\n",
              "      <td>1</td>\n",
              "      <td>94461.58</td>\n",
              "      <td>NaT</td>\n",
              "    </tr>\n",
              "    <tr>\n",
              "      <th>46835</th>\n",
              "      <td>U001</td>\n",
              "      <td>0200749225</td>\n",
              "      <td>Other</td>\n",
              "      <td>NaT</td>\n",
              "      <td>2020.00</td>\n",
              "      <td>2020-02-27</td>\n",
              "      <td>20200227</td>\n",
              "      <td>2020-01-13 00:03:00</td>\n",
              "      <td>1.00</td>\n",
              "      <td>20200227.00</td>\n",
              "      <td>NAA8</td>\n",
              "      <td>U001</td>\n",
              "      <td>1</td>\n",
              "      <td>6245.50</td>\n",
              "      <td>NaT</td>\n",
              "    </tr>\n",
              "    <tr>\n",
              "      <th>44597</th>\n",
              "      <td>U001</td>\n",
              "      <td>0200466603</td>\n",
              "      <td>SMITH'S us</td>\n",
              "      <td>NaT</td>\n",
              "      <td>2020.00</td>\n",
              "      <td>2020-02-27</td>\n",
              "      <td>20200226</td>\n",
              "      <td>2020-01-13 00:03:00</td>\n",
              "      <td>1.00</td>\n",
              "      <td>20200227.00</td>\n",
              "      <td>NAA8</td>\n",
              "      <td>U001</td>\n",
              "      <td>1</td>\n",
              "      <td>16592.17</td>\n",
              "      <td>NaT</td>\n",
              "    </tr>\n",
              "    <tr>\n",
              "      <th>47979</th>\n",
              "      <td>U001</td>\n",
              "      <td>CCCA02</td>\n",
              "      <td>KRAFT</td>\n",
              "      <td>NaT</td>\n",
              "      <td>2020.00</td>\n",
              "      <td>2020-02-27</td>\n",
              "      <td>20200227</td>\n",
              "      <td>2020-01-02 00:04:00</td>\n",
              "      <td>1.00</td>\n",
              "      <td>20200227.00</td>\n",
              "      <td>NAG2</td>\n",
              "      <td>U001</td>\n",
              "      <td>1</td>\n",
              "      <td>25396.25</td>\n",
              "      <td>NaT</td>\n",
              "    </tr>\n",
              "  </tbody>\n",
              "</table>\n",
              "</div>"
            ],
            "text/plain": [
              "      business_code cust_number  ... total_open_amt(USD) delay\n",
              "6124           U001  0200770677  ...            45808.43   NaT\n",
              "26759          U001  0200761734  ...            94461.58   NaT\n",
              "46835          U001  0200749225  ...             6245.50   NaT\n",
              "44597          U001  0200466603  ...            16592.17   NaT\n",
              "47979          U001      CCCA02  ...            25396.25   NaT\n",
              "\n",
              "[5 rows x 15 columns]"
            ]
          },
          "metadata": {
            "tags": []
          },
          "execution_count": 349
        }
      ]
    },
    {
      "cell_type": "markdown",
      "metadata": {
        "id": "T8GoOogo9pmq"
      },
      "source": [
        "##Preprocessing Test Dataset"
      ]
    },
    {
      "cell_type": "code",
      "metadata": {
        "id": "1CZ4kpB_PNtU",
        "colab": {
          "base_uri": "https://localhost:8080/"
        },
        "outputId": "e9b1be47-5de8-461d-e841-881827edcb74"
      },
      "source": [
        "test.isnull().sum()"
      ],
      "execution_count": 350,
      "outputs": [
        {
          "output_type": "execute_result",
          "data": {
            "text/plain": [
              "business_code              0\n",
              "cust_number                0\n",
              "name_customer              0\n",
              "clear_date              9674\n",
              "buisness_year              0\n",
              "posting_date               0\n",
              "document_create_date       0\n",
              "due_in_date                0\n",
              "posting_id                 0\n",
              "baseline_create_date       0\n",
              "cust_payment_terms         0\n",
              "invoice_id                 0\n",
              "isOpen                     0\n",
              "total_open_amt(USD)        0\n",
              "delay                   9674\n",
              "dtype: int64"
            ]
          },
          "metadata": {
            "tags": []
          },
          "execution_count": 350
        }
      ]
    },
    {
      "cell_type": "code",
      "metadata": {
        "id": "3bvb0f2M9_-x"
      },
      "source": [
        "xtest=test.drop(columns=['delay'], axis=1)\n",
        "test.drop(columns=['delay'], inplace=True, axis=1)"
      ],
      "execution_count": 352,
      "outputs": []
    },
    {
      "cell_type": "markdown",
      "metadata": {
        "id": "tCmqnwBGBLs7"
      },
      "source": [
        "##Feature Engineering"
      ]
    },
    {
      "cell_type": "code",
      "metadata": {
        "colab": {
          "base_uri": "https://localhost:8080/"
        },
        "id": "RgGKN63vBLs7",
        "outputId": "d33e076d-c266-45cf-fbc6-6a37d940d31e"
      },
      "source": [
        "xtest.columns"
      ],
      "execution_count": 357,
      "outputs": [
        {
          "output_type": "execute_result",
          "data": {
            "text/plain": [
              "Index(['business_code', 'cust_number', 'name_customer', 'clear_date',\n",
              "       'buisness_year', 'posting_date', 'document_create_date', 'due_in_date',\n",
              "       'posting_id', 'baseline_create_date', 'cust_payment_terms',\n",
              "       'invoice_id', 'isOpen', 'total_open_amt(USD)'],\n",
              "      dtype='object')"
            ]
          },
          "metadata": {
            "tags": []
          },
          "execution_count": 357
        }
      ]
    },
    {
      "cell_type": "code",
      "metadata": {
        "colab": {
          "base_uri": "https://localhost:8080/"
        },
        "id": "bOhP07YSBLs7",
        "outputId": "27e28a1a-db35-4c7e-a475-74ca906e5e84"
      },
      "source": [
        "xtest.nunique()"
      ],
      "execution_count": 345,
      "outputs": [
        {
          "output_type": "execute_result",
          "data": {
            "text/plain": [
              "business_code              5\n",
              "cust_number              277\n",
              "name_customer            783\n",
              "clear_date                 0\n",
              "buisness_year              1\n",
              "posting_date              81\n",
              "document_create_date      87\n",
              "due_in_date              130\n",
              "posting_id                 1\n",
              "baseline_create_date      84\n",
              "cust_payment_terms        15\n",
              "invoice_id                 5\n",
              "isOpen                     1\n",
              "total_open_amt(USD)     8993\n",
              "dtype: int64"
            ]
          },
          "metadata": {
            "tags": []
          },
          "execution_count": 345
        }
      ]
    },
    {
      "cell_type": "code",
      "metadata": {
        "id": "Vxxqie_LBLs7"
      },
      "source": [
        "# fn to drop col with 1/2 unique col(here, they dont hold much value otherwise do label encoding, or bucketize 'em)\n",
        "def drop_trash(df):\n",
        "  for col in df.columns:\n",
        "    if df[col].nunique()<=2:\n",
        "        df.drop( col, axis=1, inplace=True)\n",
        "\n",
        "#drop_trash(xtest)"
      ],
      "execution_count": 358,
      "outputs": []
    },
    {
      "cell_type": "code",
      "metadata": {
        "colab": {
          "base_uri": "https://localhost:8080/"
        },
        "id": "Z_4iRrUWBLs8",
        "outputId": "330e4697-eaac-4511-e3d2-794dc33f268b"
      },
      "source": [
        "xtest.columns"
      ],
      "execution_count": 347,
      "outputs": [
        {
          "output_type": "execute_result",
          "data": {
            "text/plain": [
              "Index(['business_code', 'cust_number', 'name_customer', 'posting_date',\n",
              "       'document_create_date', 'due_in_date', 'baseline_create_date',\n",
              "       'cust_payment_terms', 'invoice_id', 'total_open_amt(USD)'],\n",
              "      dtype='object')"
            ]
          },
          "metadata": {
            "tags": []
          },
          "execution_count": 347
        }
      ]
    },
    {
      "cell_type": "code",
      "metadata": {
        "colab": {
          "base_uri": "https://localhost:8080/"
        },
        "id": "n0fBlpHiBLs8",
        "outputId": "47a98b73-3bdd-4f2d-8dc0-71cd83edd092"
      },
      "source": [
        "xtest.dtypes"
      ],
      "execution_count": 335,
      "outputs": [
        {
          "output_type": "execute_result",
          "data": {
            "text/plain": [
              "document_create_date        int64\n",
              "baseline_create_date      float64\n",
              "total_open_amt(USD)       float64\n",
              "posting_mth                 int64\n",
              "posting_day                 int64\n",
              "due_day                     int64\n",
              "name_customer_enc           int16\n",
              "cust_number_enc             int16\n",
              "business_code_enc            int8\n",
              "cust_payment_terms_enc       int8\n",
              "dtype: object"
            ]
          },
          "metadata": {
            "tags": []
          },
          "execution_count": 335
        }
      ]
    },
    {
      "cell_type": "code",
      "metadata": {
        "id": "UnT9OeC0BLs8"
      },
      "source": [
        "#function to convert posting date to month\n",
        "def converposting_date(df, fea):\n",
        "  df[fea]=pd.to_datetime(df[fea])\n",
        "  df['posting_mth']=df[fea].dt.month\n",
        "  df['posting_day']=df[fea].dt.day\n",
        "\n",
        "converposting_date(xtest, 'posting_date')"
      ],
      "execution_count": 359,
      "outputs": []
    },
    {
      "cell_type": "code",
      "metadata": {
        "colab": {
          "base_uri": "https://localhost:8080/"
        },
        "id": "r7LwfegsBxtC",
        "outputId": "e9fa55ef-8d3a-4db4-ed66-6f4979bed75f"
      },
      "source": [
        "xtest.posting_mth.head()"
      ],
      "execution_count": 360,
      "outputs": [
        {
          "output_type": "execute_result",
          "data": {
            "text/plain": [
              "6124     2\n",
              "26759    2\n",
              "46835    2\n",
              "44597    2\n",
              "47979    2\n",
              "Name: posting_mth, dtype: int64"
            ]
          },
          "metadata": {
            "tags": []
          },
          "execution_count": 360
        }
      ]
    },
    {
      "cell_type": "code",
      "metadata": {
        "id": "GOKmk_hVBrQJ"
      },
      "source": [
        "#function to convert due date to month\n",
        "def converposting_date(df, fea):\n",
        "  df[fea]=pd.to_datetime(df[fea])\n",
        "  df['due_mth']=df[fea].dt.month\n",
        "  df['due_day']=df[fea].dt.day\n",
        "\n",
        "converposting_date(xtest, 'due_in_date')"
      ],
      "execution_count": 361,
      "outputs": []
    },
    {
      "cell_type": "code",
      "metadata": {
        "id": "1zFtFD8sPEpD"
      },
      "source": [
        "def converposting_date(df, fea):\n",
        "  df[fea]=pd.to_datetime(df[fea])\n",
        "  df['clear_mth']=df['clear_date'].fillna(0)\n",
        "  df['clear_day']=df['clear_date'].fillna(0)\n",
        "\n",
        "converposting_date(xtest, 'clear_date')"
      ],
      "execution_count": 378,
      "outputs": []
    },
    {
      "cell_type": "code",
      "metadata": {
        "colab": {
          "base_uri": "https://localhost:8080/"
        },
        "id": "EtLAXx-vBLs8",
        "outputId": "ffcd153c-8a88-4ee2-992c-f1957054d681"
      },
      "source": [
        "xtest.dtypes"
      ],
      "execution_count": 381,
      "outputs": [
        {
          "output_type": "execute_result",
          "data": {
            "text/plain": [
              "document_create_date        int64\n",
              "baseline_create_date      float64\n",
              "total_open_amt(USD)       float64\n",
              "posting_mth                 int64\n",
              "posting_day                 int64\n",
              "due_mth                     int64\n",
              "due_day                     int64\n",
              "name_customer_enc           int16\n",
              "cust_number_enc             int16\n",
              "business_code_enc            int8\n",
              "cust_payment_terms_enc       int8\n",
              "clear_mth                   int64\n",
              "clear_day                   int64\n",
              "dtype: object"
            ]
          },
          "metadata": {
            "tags": []
          },
          "execution_count": 381
        }
      ]
    },
    {
      "cell_type": "code",
      "metadata": {
        "id": "ybEF1P8OBLs8"
      },
      "source": [
        "xtest['posting_date'].dt.year.value_counts()"
      ],
      "execution_count": null,
      "outputs": []
    },
    {
      "cell_type": "code",
      "metadata": {
        "id": "AikEOzFjBLs9"
      },
      "source": [
        "#store the dates for later use if needed\n",
        "post_due_dates=xtest.drop(columns=['posting_date', 'due_in_date','clear_date'], axis=1, inplace=True)"
      ],
      "execution_count": 364,
      "outputs": []
    },
    {
      "cell_type": "code",
      "metadata": {
        "colab": {
          "base_uri": "https://localhost:8080/",
          "height": 419
        },
        "id": "VwmNVtnABLs9",
        "outputId": "6cef7d72-8619-462e-b465-089f2044dbb6"
      },
      "source": [
        "#Ordinal Encoding by using .cat.codes\n",
        "#from sklearn.preprocessing import OrdinalEncoder\n",
        "#encoder = OrdinalEncoder(handle_unknown= 'use_encoded_value', unknown_value='-1)\n",
        "#x_train[['name_cust_enc','cust_no_enc', 'business_code_enc','cust_payment_terms_enc']] = encoder.fit_transform(x_train[['name_customer', 'cust_number', 'business_code','cust_payment_terms']])\n",
        "\n",
        "xtest['name_customer_enc'] = xtest['name_customer'].astype('category').cat.codes\n",
        "xtest['cust_number_enc'] = xtest['cust_number'].astype('category').cat.codes\n",
        "xtest['business_code_enc'] = xtest['business_code'].astype('category').cat.codes\n",
        "xtest['cust_payment_terms_enc'] = xtest['cust_payment_terms'].astype('category').cat.codes\n",
        "\n",
        "xtest[['name_customer', 'cust_number', 'business_code','cust_payment_terms','name_customer_enc','cust_number_enc', 'business_code_enc','cust_payment_terms_enc']]"
      ],
      "execution_count": 368,
      "outputs": [
        {
          "output_type": "execute_result",
          "data": {
            "text/html": [
              "<div>\n",
              "<style scoped>\n",
              "    .dataframe tbody tr th:only-of-type {\n",
              "        vertical-align: middle;\n",
              "    }\n",
              "\n",
              "    .dataframe tbody tr th {\n",
              "        vertical-align: top;\n",
              "    }\n",
              "\n",
              "    .dataframe thead th {\n",
              "        text-align: right;\n",
              "    }\n",
              "</style>\n",
              "<table border=\"1\" class=\"dataframe\">\n",
              "  <thead>\n",
              "    <tr style=\"text-align: right;\">\n",
              "      <th></th>\n",
              "      <th>name_customer</th>\n",
              "      <th>cust_number</th>\n",
              "      <th>business_code</th>\n",
              "      <th>cust_payment_terms</th>\n",
              "      <th>name_customer_enc</th>\n",
              "      <th>cust_number_enc</th>\n",
              "      <th>business_code_enc</th>\n",
              "      <th>cust_payment_terms_enc</th>\n",
              "    </tr>\n",
              "  </thead>\n",
              "  <tbody>\n",
              "    <tr>\n",
              "      <th>6124</th>\n",
              "      <td>Other</td>\n",
              "      <td>0200770677</td>\n",
              "      <td>U001</td>\n",
              "      <td>NAA8</td>\n",
              "      <td>480</td>\n",
              "      <td>175</td>\n",
              "      <td>1</td>\n",
              "      <td>3</td>\n",
              "    </tr>\n",
              "    <tr>\n",
              "      <th>26759</th>\n",
              "      <td>H E BUT in</td>\n",
              "      <td>0200761734</td>\n",
              "      <td>U001</td>\n",
              "      <td>NAA8</td>\n",
              "      <td>268</td>\n",
              "      <td>161</td>\n",
              "      <td>1</td>\n",
              "      <td>3</td>\n",
              "    </tr>\n",
              "    <tr>\n",
              "      <th>46835</th>\n",
              "      <td>Other</td>\n",
              "      <td>0200749225</td>\n",
              "      <td>U001</td>\n",
              "      <td>NAA8</td>\n",
              "      <td>480</td>\n",
              "      <td>149</td>\n",
              "      <td>1</td>\n",
              "      <td>3</td>\n",
              "    </tr>\n",
              "    <tr>\n",
              "      <th>44597</th>\n",
              "      <td>SMITH'S us</td>\n",
              "      <td>0200466603</td>\n",
              "      <td>U001</td>\n",
              "      <td>NAA8</td>\n",
              "      <td>593</td>\n",
              "      <td>82</td>\n",
              "      <td>1</td>\n",
              "      <td>3</td>\n",
              "    </tr>\n",
              "    <tr>\n",
              "      <th>47979</th>\n",
              "      <td>KRAFT</td>\n",
              "      <td>CCCA02</td>\n",
              "      <td>U001</td>\n",
              "      <td>NAG2</td>\n",
              "      <td>323</td>\n",
              "      <td>272</td>\n",
              "      <td>1</td>\n",
              "      <td>7</td>\n",
              "    </tr>\n",
              "    <tr>\n",
              "      <th>...</th>\n",
              "      <td>...</td>\n",
              "      <td>...</td>\n",
              "      <td>...</td>\n",
              "      <td>...</td>\n",
              "      <td>...</td>\n",
              "      <td>...</td>\n",
              "      <td>...</td>\n",
              "      <td>...</td>\n",
              "    </tr>\n",
              "    <tr>\n",
              "      <th>38299</th>\n",
              "      <td>COSTCO co</td>\n",
              "      <td>0140104429</td>\n",
              "      <td>CA02</td>\n",
              "      <td>CA10</td>\n",
              "      <td>139</td>\n",
              "      <td>32</td>\n",
              "      <td>0</td>\n",
              "      <td>0</td>\n",
              "    </tr>\n",
              "    <tr>\n",
              "      <th>10215</th>\n",
              "      <td>Other</td>\n",
              "      <td>Other</td>\n",
              "      <td>U001</td>\n",
              "      <td>NAA8</td>\n",
              "      <td>480</td>\n",
              "      <td>276</td>\n",
              "      <td>1</td>\n",
              "      <td>3</td>\n",
              "    </tr>\n",
              "    <tr>\n",
              "      <th>14402</th>\n",
              "      <td>Other</td>\n",
              "      <td>Other</td>\n",
              "      <td>U001</td>\n",
              "      <td>NAA8</td>\n",
              "      <td>480</td>\n",
              "      <td>276</td>\n",
              "      <td>1</td>\n",
              "      <td>3</td>\n",
              "    </tr>\n",
              "    <tr>\n",
              "      <th>8545</th>\n",
              "      <td>Other</td>\n",
              "      <td>Other</td>\n",
              "      <td>U013</td>\n",
              "      <td>Other</td>\n",
              "      <td>480</td>\n",
              "      <td>276</td>\n",
              "      <td>4</td>\n",
              "      <td>14</td>\n",
              "    </tr>\n",
              "    <tr>\n",
              "      <th>21522</th>\n",
              "      <td>REINHA us</td>\n",
              "      <td>0200756072</td>\n",
              "      <td>U001</td>\n",
              "      <td>Other</td>\n",
              "      <td>530</td>\n",
              "      <td>157</td>\n",
              "      <td>1</td>\n",
              "      <td>14</td>\n",
              "    </tr>\n",
              "  </tbody>\n",
              "</table>\n",
              "<p>9674 rows × 8 columns</p>\n",
              "</div>"
            ],
            "text/plain": [
              "      name_customer cust_number  ... business_code_enc cust_payment_terms_enc\n",
              "6124          Other  0200770677  ...                 1                      3\n",
              "26759    H E BUT in  0200761734  ...                 1                      3\n",
              "46835         Other  0200749225  ...                 1                      3\n",
              "44597    SMITH'S us  0200466603  ...                 1                      3\n",
              "47979       KRAFT        CCCA02  ...                 1                      7\n",
              "...             ...         ...  ...               ...                    ...\n",
              "38299     COSTCO co  0140104429  ...                 0                      0\n",
              "10215         Other       Other  ...                 1                      3\n",
              "14402         Other       Other  ...                 1                      3\n",
              "8545          Other       Other  ...                 4                     14\n",
              "21522     REINHA us  0200756072  ...                 1                     14\n",
              "\n",
              "[9674 rows x 8 columns]"
            ]
          },
          "metadata": {
            "tags": []
          },
          "execution_count": 368
        }
      ]
    },
    {
      "cell_type": "code",
      "metadata": {
        "id": "YTij_T4CBLs9"
      },
      "source": [
        "xtest.drop(columns=['name_customer', 'cust_number', 'business_code','cust_payment_terms'], axis=1, inplace=True)"
      ],
      "execution_count": 369,
      "outputs": []
    },
    {
      "cell_type": "code",
      "metadata": {
        "colab": {
          "base_uri": "https://localhost:8080/"
        },
        "id": "ANC8ZPNmBLs-",
        "outputId": "6103538b-a9aa-4faf-b15a-2cb0c87f590e"
      },
      "source": [
        "xtest.dtypes"
      ],
      "execution_count": 370,
      "outputs": [
        {
          "output_type": "execute_result",
          "data": {
            "text/plain": [
              "clear_date                float64\n",
              "buisness_year             float64\n",
              "document_create_date        int64\n",
              "posting_id                float64\n",
              "baseline_create_date      float64\n",
              "invoice_id                 object\n",
              "isOpen                      int64\n",
              "total_open_amt(USD)       float64\n",
              "posting_mth                 int64\n",
              "posting_day                 int64\n",
              "due_mth                     int64\n",
              "due_day                     int64\n",
              "name_customer_enc           int16\n",
              "cust_number_enc             int16\n",
              "business_code_enc            int8\n",
              "cust_payment_terms_enc       int8\n",
              "dtype: object"
            ]
          },
          "metadata": {
            "tags": []
          },
          "execution_count": 370
        }
      ]
    },
    {
      "cell_type": "code",
      "metadata": {
        "id": "aDOX12yTNqk-"
      },
      "source": [
        "xtest.drop(columns=['isOpen','invoice_id','buisness_year','posting_id'], inplace=True, axis=1)"
      ],
      "execution_count": 373,
      "outputs": []
    },
    {
      "cell_type": "code",
      "metadata": {
        "colab": {
          "base_uri": "https://localhost:8080/"
        },
        "id": "_8a5IKg3BLs-",
        "outputId": "551fa1cf-2f3e-461d-cbcf-a68917ae2db9"
      },
      "source": [
        "xtest.dtypes"
      ],
      "execution_count": 374,
      "outputs": [
        {
          "output_type": "execute_result",
          "data": {
            "text/plain": [
              "clear_date                float64\n",
              "document_create_date        int64\n",
              "baseline_create_date      float64\n",
              "total_open_amt(USD)       float64\n",
              "posting_mth                 int64\n",
              "posting_day                 int64\n",
              "due_mth                     int64\n",
              "due_day                     int64\n",
              "name_customer_enc           int16\n",
              "cust_number_enc             int16\n",
              "business_code_enc            int8\n",
              "cust_payment_terms_enc       int8\n",
              "dtype: object"
            ]
          },
          "metadata": {
            "tags": []
          },
          "execution_count": 374
        }
      ]
    },
    {
      "cell_type": "code",
      "metadata": {
        "colab": {
          "base_uri": "https://localhost:8080/"
        },
        "id": "d2mH2j5iBLs-",
        "outputId": "c0ec48d8-362e-47fd-ade1-b682bd0b0eab"
      },
      "source": [
        "xtest.columns"
      ],
      "execution_count": 375,
      "outputs": [
        {
          "output_type": "execute_result",
          "data": {
            "text/plain": [
              "Index(['clear_date', 'document_create_date', 'baseline_create_date',\n",
              "       'total_open_amt(USD)', 'posting_mth', 'posting_day', 'due_mth',\n",
              "       'due_day', 'name_customer_enc', 'cust_number_enc', 'business_code_enc',\n",
              "       'cust_payment_terms_enc'],\n",
              "      dtype='object')"
            ]
          },
          "metadata": {
            "tags": []
          },
          "execution_count": 375
        }
      ]
    },
    {
      "cell_type": "markdown",
      "metadata": {
        "id": "m-hhu9eNEwpJ"
      },
      "source": [
        "##Feature Scaling"
      ]
    },
    {
      "cell_type": "code",
      "metadata": {
        "colab": {
          "base_uri": "https://localhost:8080/",
          "height": 224
        },
        "id": "UmHyvDrhEzv4",
        "outputId": "24ab0483-a8ec-45da-ece3-322b0f9962b0"
      },
      "source": [
        "xtests=pd.DataFrame(minmax.transform(xtest), columns=xtest.columns)\n",
        "xtests.head()"
      ],
      "execution_count": 382,
      "outputs": [
        {
          "output_type": "execute_result",
          "data": {
            "text/html": [
              "<div>\n",
              "<style scoped>\n",
              "    .dataframe tbody tr th:only-of-type {\n",
              "        vertical-align: middle;\n",
              "    }\n",
              "\n",
              "    .dataframe tbody tr th {\n",
              "        vertical-align: top;\n",
              "    }\n",
              "\n",
              "    .dataframe thead th {\n",
              "        text-align: right;\n",
              "    }\n",
              "</style>\n",
              "<table border=\"1\" class=\"dataframe\">\n",
              "  <thead>\n",
              "    <tr style=\"text-align: right;\">\n",
              "      <th></th>\n",
              "      <th>document_create_date</th>\n",
              "      <th>baseline_create_date</th>\n",
              "      <th>total_open_amt(USD)</th>\n",
              "      <th>posting_mth</th>\n",
              "      <th>posting_day</th>\n",
              "      <th>due_mth</th>\n",
              "      <th>due_day</th>\n",
              "      <th>name_customer_enc</th>\n",
              "      <th>cust_number_enc</th>\n",
              "      <th>business_code_enc</th>\n",
              "      <th>cust_payment_terms_enc</th>\n",
              "      <th>clear_mth</th>\n",
              "      <th>clear_day</th>\n",
              "    </tr>\n",
              "  </thead>\n",
              "  <tbody>\n",
              "    <tr>\n",
              "      <th>0</th>\n",
              "      <td>1.94</td>\n",
              "      <td>1.86</td>\n",
              "      <td>0.03</td>\n",
              "      <td>0.09</td>\n",
              "      <td>0.87</td>\n",
              "      <td>0.00</td>\n",
              "      <td>0.40</td>\n",
              "      <td>479.00</td>\n",
              "      <td>5.80</td>\n",
              "      <td>0.00</td>\n",
              "      <td>0.01</td>\n",
              "      <td>0.00</td>\n",
              "      <td>0.00</td>\n",
              "    </tr>\n",
              "    <tr>\n",
              "      <th>1</th>\n",
              "      <td>1.94</td>\n",
              "      <td>1.86</td>\n",
              "      <td>0.06</td>\n",
              "      <td>0.09</td>\n",
              "      <td>0.87</td>\n",
              "      <td>0.00</td>\n",
              "      <td>0.40</td>\n",
              "      <td>267.00</td>\n",
              "      <td>5.33</td>\n",
              "      <td>0.00</td>\n",
              "      <td>0.01</td>\n",
              "      <td>0.00</td>\n",
              "      <td>0.00</td>\n",
              "    </tr>\n",
              "    <tr>\n",
              "      <th>2</th>\n",
              "      <td>1.94</td>\n",
              "      <td>1.86</td>\n",
              "      <td>0.00</td>\n",
              "      <td>0.09</td>\n",
              "      <td>0.87</td>\n",
              "      <td>0.00</td>\n",
              "      <td>0.40</td>\n",
              "      <td>479.00</td>\n",
              "      <td>4.93</td>\n",
              "      <td>0.00</td>\n",
              "      <td>0.01</td>\n",
              "      <td>0.00</td>\n",
              "      <td>0.00</td>\n",
              "    </tr>\n",
              "    <tr>\n",
              "      <th>3</th>\n",
              "      <td>1.94</td>\n",
              "      <td>1.86</td>\n",
              "      <td>0.01</td>\n",
              "      <td>0.09</td>\n",
              "      <td>0.87</td>\n",
              "      <td>0.00</td>\n",
              "      <td>0.40</td>\n",
              "      <td>592.00</td>\n",
              "      <td>2.70</td>\n",
              "      <td>0.00</td>\n",
              "      <td>0.01</td>\n",
              "      <td>0.00</td>\n",
              "      <td>0.00</td>\n",
              "    </tr>\n",
              "    <tr>\n",
              "      <th>4</th>\n",
              "      <td>1.94</td>\n",
              "      <td>1.86</td>\n",
              "      <td>0.02</td>\n",
              "      <td>0.09</td>\n",
              "      <td>0.87</td>\n",
              "      <td>0.00</td>\n",
              "      <td>0.03</td>\n",
              "      <td>322.00</td>\n",
              "      <td>9.03</td>\n",
              "      <td>0.00</td>\n",
              "      <td>0.02</td>\n",
              "      <td>0.00</td>\n",
              "      <td>0.00</td>\n",
              "    </tr>\n",
              "  </tbody>\n",
              "</table>\n",
              "</div>"
            ],
            "text/plain": [
              "   document_create_date  baseline_create_date  ...  clear_mth  clear_day\n",
              "0                  1.94                  1.86  ...       0.00       0.00\n",
              "1                  1.94                  1.86  ...       0.00       0.00\n",
              "2                  1.94                  1.86  ...       0.00       0.00\n",
              "3                  1.94                  1.86  ...       0.00       0.00\n",
              "4                  1.94                  1.86  ...       0.00       0.00\n",
              "\n",
              "[5 rows x 13 columns]"
            ]
          },
          "metadata": {
            "tags": []
          },
          "execution_count": 382
        }
      ]
    },
    {
      "cell_type": "code",
      "metadata": {
        "colab": {
          "base_uri": "https://localhost:8080/"
        },
        "id": "a2Z7clUbRUmW",
        "outputId": "352b9fb4-1a4e-4e7f-edd6-ab7db66379e1"
      },
      "source": [
        "x_train.columns"
      ],
      "execution_count": 383,
      "outputs": [
        {
          "output_type": "execute_result",
          "data": {
            "text/plain": [
              "Index(['document_create_date', 'posting_mth', 'clear_mth', 'due_day',\n",
              "       'baseline_create_date'],\n",
              "      dtype='object')"
            ]
          },
          "metadata": {
            "tags": []
          },
          "execution_count": 383
        }
      ]
    },
    {
      "cell_type": "code",
      "metadata": {
        "id": "qM2EdXTeA_ty"
      },
      "source": [
        "xtest= xtest[['document_create_date', 'posting_mth', 'clear_mth', 'due_day','baseline_create_date']]"
      ],
      "execution_count": 384,
      "outputs": []
    },
    {
      "cell_type": "code",
      "metadata": {
        "colab": {
          "base_uri": "https://localhost:8080/"
        },
        "id": "YlAfHKyeR5NK",
        "outputId": "9f0f39f3-387b-4a85-f532-c44a5737e63d"
      },
      "source": [
        "xtest.columns"
      ],
      "execution_count": 385,
      "outputs": [
        {
          "output_type": "execute_result",
          "data": {
            "text/plain": [
              "Index(['document_create_date', 'posting_mth', 'clear_mth', 'due_day',\n",
              "       'baseline_create_date'],\n",
              "      dtype='object')"
            ]
          },
          "metadata": {
            "tags": []
          },
          "execution_count": 385
        }
      ]
    },
    {
      "cell_type": "markdown",
      "metadata": {
        "id": "mQtoKxEdJv_Q"
      },
      "source": [
        "##Predict The Delay and Clear Date"
      ]
    },
    {
      "cell_type": "code",
      "metadata": {
        "id": "JEOwQvX2Ju-t"
      },
      "source": [
        "final_output= reg.predict(xtest)"
      ],
      "execution_count": 386,
      "outputs": []
    },
    {
      "cell_type": "code",
      "metadata": {
        "id": "nIm75D04SxUt"
      },
      "source": [
        "final_output = pd.Series(final_output, name='Delay')"
      ],
      "execution_count": 387,
      "outputs": []
    },
    {
      "cell_type": "code",
      "metadata": {
        "id": "mQ4ZNZVnS8xz"
      },
      "source": [
        "test.reset_index(drop=True, inplace=True)"
      ],
      "execution_count": 388,
      "outputs": []
    },
    {
      "cell_type": "code",
      "metadata": {
        "colab": {
          "base_uri": "https://localhost:8080/",
          "height": 610
        },
        "id": "W_DTav2vTIAj",
        "outputId": "03a9f311-e20a-4e01-8c8a-2852b544e39f"
      },
      "source": [
        "final=test.merge(final_output, on=test.index)\n",
        "final"
      ],
      "execution_count": 389,
      "outputs": [
        {
          "output_type": "execute_result",
          "data": {
            "text/html": [
              "<div>\n",
              "<style scoped>\n",
              "    .dataframe tbody tr th:only-of-type {\n",
              "        vertical-align: middle;\n",
              "    }\n",
              "\n",
              "    .dataframe tbody tr th {\n",
              "        vertical-align: top;\n",
              "    }\n",
              "\n",
              "    .dataframe thead th {\n",
              "        text-align: right;\n",
              "    }\n",
              "</style>\n",
              "<table border=\"1\" class=\"dataframe\">\n",
              "  <thead>\n",
              "    <tr style=\"text-align: right;\">\n",
              "      <th></th>\n",
              "      <th>key_0</th>\n",
              "      <th>business_code</th>\n",
              "      <th>cust_number</th>\n",
              "      <th>name_customer</th>\n",
              "      <th>clear_date</th>\n",
              "      <th>buisness_year</th>\n",
              "      <th>posting_date</th>\n",
              "      <th>document_create_date</th>\n",
              "      <th>due_in_date</th>\n",
              "      <th>posting_id</th>\n",
              "      <th>baseline_create_date</th>\n",
              "      <th>cust_payment_terms</th>\n",
              "      <th>invoice_id</th>\n",
              "      <th>isOpen</th>\n",
              "      <th>total_open_amt(USD)</th>\n",
              "      <th>Delay</th>\n",
              "    </tr>\n",
              "  </thead>\n",
              "  <tbody>\n",
              "    <tr>\n",
              "      <th>0</th>\n",
              "      <td>0</td>\n",
              "      <td>U001</td>\n",
              "      <td>0200770677</td>\n",
              "      <td>Other</td>\n",
              "      <td>NaT</td>\n",
              "      <td>2020.00</td>\n",
              "      <td>2020-02-27</td>\n",
              "      <td>20200226</td>\n",
              "      <td>2020-01-13 00:03:00</td>\n",
              "      <td>1.00</td>\n",
              "      <td>20200227.00</td>\n",
              "      <td>NAA8</td>\n",
              "      <td>U001</td>\n",
              "      <td>1</td>\n",
              "      <td>45808.43</td>\n",
              "      <td>6.06</td>\n",
              "    </tr>\n",
              "    <tr>\n",
              "      <th>1</th>\n",
              "      <td>1</td>\n",
              "      <td>U001</td>\n",
              "      <td>0200761734</td>\n",
              "      <td>H E BUT in</td>\n",
              "      <td>NaT</td>\n",
              "      <td>2020.00</td>\n",
              "      <td>2020-02-27</td>\n",
              "      <td>20200227</td>\n",
              "      <td>2020-01-13 00:03:00</td>\n",
              "      <td>1.00</td>\n",
              "      <td>20200227.00</td>\n",
              "      <td>NAA8</td>\n",
              "      <td>U001</td>\n",
              "      <td>1</td>\n",
              "      <td>94461.58</td>\n",
              "      <td>6.06</td>\n",
              "    </tr>\n",
              "    <tr>\n",
              "      <th>2</th>\n",
              "      <td>2</td>\n",
              "      <td>U001</td>\n",
              "      <td>0200749225</td>\n",
              "      <td>Other</td>\n",
              "      <td>NaT</td>\n",
              "      <td>2020.00</td>\n",
              "      <td>2020-02-27</td>\n",
              "      <td>20200227</td>\n",
              "      <td>2020-01-13 00:03:00</td>\n",
              "      <td>1.00</td>\n",
              "      <td>20200227.00</td>\n",
              "      <td>NAA8</td>\n",
              "      <td>U001</td>\n",
              "      <td>1</td>\n",
              "      <td>6245.50</td>\n",
              "      <td>6.06</td>\n",
              "    </tr>\n",
              "    <tr>\n",
              "      <th>3</th>\n",
              "      <td>3</td>\n",
              "      <td>U001</td>\n",
              "      <td>0200466603</td>\n",
              "      <td>SMITH'S us</td>\n",
              "      <td>NaT</td>\n",
              "      <td>2020.00</td>\n",
              "      <td>2020-02-27</td>\n",
              "      <td>20200226</td>\n",
              "      <td>2020-01-13 00:03:00</td>\n",
              "      <td>1.00</td>\n",
              "      <td>20200227.00</td>\n",
              "      <td>NAA8</td>\n",
              "      <td>U001</td>\n",
              "      <td>1</td>\n",
              "      <td>16592.17</td>\n",
              "      <td>6.06</td>\n",
              "    </tr>\n",
              "    <tr>\n",
              "      <th>4</th>\n",
              "      <td>4</td>\n",
              "      <td>U001</td>\n",
              "      <td>CCCA02</td>\n",
              "      <td>KRAFT</td>\n",
              "      <td>NaT</td>\n",
              "      <td>2020.00</td>\n",
              "      <td>2020-02-27</td>\n",
              "      <td>20200227</td>\n",
              "      <td>2020-01-02 00:04:00</td>\n",
              "      <td>1.00</td>\n",
              "      <td>20200227.00</td>\n",
              "      <td>NAG2</td>\n",
              "      <td>U001</td>\n",
              "      <td>1</td>\n",
              "      <td>25396.25</td>\n",
              "      <td>6.06</td>\n",
              "    </tr>\n",
              "    <tr>\n",
              "      <th>...</th>\n",
              "      <td>...</td>\n",
              "      <td>...</td>\n",
              "      <td>...</td>\n",
              "      <td>...</td>\n",
              "      <td>...</td>\n",
              "      <td>...</td>\n",
              "      <td>...</td>\n",
              "      <td>...</td>\n",
              "      <td>...</td>\n",
              "      <td>...</td>\n",
              "      <td>...</td>\n",
              "      <td>...</td>\n",
              "      <td>...</td>\n",
              "      <td>...</td>\n",
              "      <td>...</td>\n",
              "      <td>...</td>\n",
              "    </tr>\n",
              "    <tr>\n",
              "      <th>9669</th>\n",
              "      <td>9669</td>\n",
              "      <td>CA02</td>\n",
              "      <td>0140104429</td>\n",
              "      <td>COSTCO co</td>\n",
              "      <td>NaT</td>\n",
              "      <td>2020.00</td>\n",
              "      <td>2020-05-13</td>\n",
              "      <td>20200513</td>\n",
              "      <td>2020-01-23 00:05:00</td>\n",
              "      <td>1.00</td>\n",
              "      <td>20200513.00</td>\n",
              "      <td>CA10</td>\n",
              "      <td>CA02</td>\n",
              "      <td>1</td>\n",
              "      <td>34064.49</td>\n",
              "      <td>6.06</td>\n",
              "    </tr>\n",
              "    <tr>\n",
              "      <th>9670</th>\n",
              "      <td>9670</td>\n",
              "      <td>U001</td>\n",
              "      <td>Other</td>\n",
              "      <td>Other</td>\n",
              "      <td>NaT</td>\n",
              "      <td>2020.00</td>\n",
              "      <td>2020-05-15</td>\n",
              "      <td>20200514</td>\n",
              "      <td>2020-01-30 00:05:00</td>\n",
              "      <td>1.00</td>\n",
              "      <td>20200515.00</td>\n",
              "      <td>NAA8</td>\n",
              "      <td>U001</td>\n",
              "      <td>1</td>\n",
              "      <td>15902.25</td>\n",
              "      <td>6.06</td>\n",
              "    </tr>\n",
              "    <tr>\n",
              "      <th>9671</th>\n",
              "      <td>9671</td>\n",
              "      <td>U001</td>\n",
              "      <td>Other</td>\n",
              "      <td>Other</td>\n",
              "      <td>NaT</td>\n",
              "      <td>2020.00</td>\n",
              "      <td>2020-05-16</td>\n",
              "      <td>20200513</td>\n",
              "      <td>2020-01-31 00:05:00</td>\n",
              "      <td>1.00</td>\n",
              "      <td>20200516.00</td>\n",
              "      <td>NAA8</td>\n",
              "      <td>U001</td>\n",
              "      <td>1</td>\n",
              "      <td>17893.25</td>\n",
              "      <td>6.06</td>\n",
              "    </tr>\n",
              "    <tr>\n",
              "      <th>9672</th>\n",
              "      <td>9672</td>\n",
              "      <td>U013</td>\n",
              "      <td>Other</td>\n",
              "      <td>Other</td>\n",
              "      <td>NaT</td>\n",
              "      <td>2020.00</td>\n",
              "      <td>2020-05-20</td>\n",
              "      <td>20200520</td>\n",
              "      <td>2020-01-19 00:06:00</td>\n",
              "      <td>1.00</td>\n",
              "      <td>20200520.00</td>\n",
              "      <td>Other</td>\n",
              "      <td>U013</td>\n",
              "      <td>1</td>\n",
              "      <td>60726.46</td>\n",
              "      <td>6.06</td>\n",
              "    </tr>\n",
              "    <tr>\n",
              "      <th>9673</th>\n",
              "      <td>9673</td>\n",
              "      <td>U001</td>\n",
              "      <td>0200756072</td>\n",
              "      <td>REINHA us</td>\n",
              "      <td>NaT</td>\n",
              "      <td>2020.00</td>\n",
              "      <td>2020-05-22</td>\n",
              "      <td>20200522</td>\n",
              "      <td>2020-01-21 00:06:00</td>\n",
              "      <td>1.00</td>\n",
              "      <td>20200522.00</td>\n",
              "      <td>Other</td>\n",
              "      <td>U001</td>\n",
              "      <td>1</td>\n",
              "      <td>1.17</td>\n",
              "      <td>6.06</td>\n",
              "    </tr>\n",
              "  </tbody>\n",
              "</table>\n",
              "<p>9674 rows × 16 columns</p>\n",
              "</div>"
            ],
            "text/plain": [
              "      key_0 business_code cust_number  ... isOpen total_open_amt(USD)  Delay\n",
              "0         0          U001  0200770677  ...      1            45808.43   6.06\n",
              "1         1          U001  0200761734  ...      1            94461.58   6.06\n",
              "2         2          U001  0200749225  ...      1             6245.50   6.06\n",
              "3         3          U001  0200466603  ...      1            16592.17   6.06\n",
              "4         4          U001      CCCA02  ...      1            25396.25   6.06\n",
              "...     ...           ...         ...  ...    ...                 ...    ...\n",
              "9669   9669          CA02  0140104429  ...      1            34064.49   6.06\n",
              "9670   9670          U001       Other  ...      1            15902.25   6.06\n",
              "9671   9671          U001       Other  ...      1            17893.25   6.06\n",
              "9672   9672          U013       Other  ...      1            60726.46   6.06\n",
              "9673   9673          U001  0200756072  ...      1                1.17   6.06\n",
              "\n",
              "[9674 rows x 16 columns]"
            ]
          },
          "metadata": {
            "tags": []
          },
          "execution_count": 389
        }
      ]
    },
    {
      "cell_type": "code",
      "metadata": {
        "colab": {
          "base_uri": "https://localhost:8080/"
        },
        "id": "ZiFV6mFMTgHh",
        "outputId": "ee3425ae-e38e-4b7d-f429-25190ca9d053"
      },
      "source": [
        "final.Delay.dtypes"
      ],
      "execution_count": 391,
      "outputs": [
        {
          "output_type": "execute_result",
          "data": {
            "text/plain": [
              "dtype('float64')"
            ]
          },
          "metadata": {
            "tags": []
          },
          "execution_count": 391
        }
      ]
    },
    {
      "cell_type": "code",
      "metadata": {
        "id": "Yp7rnwL3TthN"
      },
      "source": [
        "final['clear_date']=final['due_in_date']+ pd.to_timedelta(final['Delay'], unit='d')\n",
        "final['clear_date']=pd.to_datetime(final.clear_date).dt.date"
      ],
      "execution_count": 397,
      "outputs": []
    },
    {
      "cell_type": "code",
      "metadata": {
        "colab": {
          "base_uri": "https://localhost:8080/",
          "height": 610
        },
        "id": "yZlrzDHoUP_h",
        "outputId": "4b75ac97-7343-4f90-a12f-5a1343e0255a"
      },
      "source": [
        "final"
      ],
      "execution_count": 398,
      "outputs": [
        {
          "output_type": "execute_result",
          "data": {
            "text/html": [
              "<div>\n",
              "<style scoped>\n",
              "    .dataframe tbody tr th:only-of-type {\n",
              "        vertical-align: middle;\n",
              "    }\n",
              "\n",
              "    .dataframe tbody tr th {\n",
              "        vertical-align: top;\n",
              "    }\n",
              "\n",
              "    .dataframe thead th {\n",
              "        text-align: right;\n",
              "    }\n",
              "</style>\n",
              "<table border=\"1\" class=\"dataframe\">\n",
              "  <thead>\n",
              "    <tr style=\"text-align: right;\">\n",
              "      <th></th>\n",
              "      <th>key_0</th>\n",
              "      <th>business_code</th>\n",
              "      <th>cust_number</th>\n",
              "      <th>name_customer</th>\n",
              "      <th>clear_date</th>\n",
              "      <th>buisness_year</th>\n",
              "      <th>posting_date</th>\n",
              "      <th>document_create_date</th>\n",
              "      <th>due_in_date</th>\n",
              "      <th>posting_id</th>\n",
              "      <th>baseline_create_date</th>\n",
              "      <th>cust_payment_terms</th>\n",
              "      <th>invoice_id</th>\n",
              "      <th>isOpen</th>\n",
              "      <th>total_open_amt(USD)</th>\n",
              "      <th>Delay</th>\n",
              "    </tr>\n",
              "  </thead>\n",
              "  <tbody>\n",
              "    <tr>\n",
              "      <th>0</th>\n",
              "      <td>0</td>\n",
              "      <td>U001</td>\n",
              "      <td>0200770677</td>\n",
              "      <td>Other</td>\n",
              "      <td>2020-01-19</td>\n",
              "      <td>2020.00</td>\n",
              "      <td>2020-02-27</td>\n",
              "      <td>20200226</td>\n",
              "      <td>2020-01-13 00:03:00</td>\n",
              "      <td>1.00</td>\n",
              "      <td>20200227.00</td>\n",
              "      <td>NAA8</td>\n",
              "      <td>U001</td>\n",
              "      <td>1</td>\n",
              "      <td>45808.43</td>\n",
              "      <td>6.06</td>\n",
              "    </tr>\n",
              "    <tr>\n",
              "      <th>1</th>\n",
              "      <td>1</td>\n",
              "      <td>U001</td>\n",
              "      <td>0200761734</td>\n",
              "      <td>H E BUT in</td>\n",
              "      <td>2020-01-19</td>\n",
              "      <td>2020.00</td>\n",
              "      <td>2020-02-27</td>\n",
              "      <td>20200227</td>\n",
              "      <td>2020-01-13 00:03:00</td>\n",
              "      <td>1.00</td>\n",
              "      <td>20200227.00</td>\n",
              "      <td>NAA8</td>\n",
              "      <td>U001</td>\n",
              "      <td>1</td>\n",
              "      <td>94461.58</td>\n",
              "      <td>6.06</td>\n",
              "    </tr>\n",
              "    <tr>\n",
              "      <th>2</th>\n",
              "      <td>2</td>\n",
              "      <td>U001</td>\n",
              "      <td>0200749225</td>\n",
              "      <td>Other</td>\n",
              "      <td>2020-01-19</td>\n",
              "      <td>2020.00</td>\n",
              "      <td>2020-02-27</td>\n",
              "      <td>20200227</td>\n",
              "      <td>2020-01-13 00:03:00</td>\n",
              "      <td>1.00</td>\n",
              "      <td>20200227.00</td>\n",
              "      <td>NAA8</td>\n",
              "      <td>U001</td>\n",
              "      <td>1</td>\n",
              "      <td>6245.50</td>\n",
              "      <td>6.06</td>\n",
              "    </tr>\n",
              "    <tr>\n",
              "      <th>3</th>\n",
              "      <td>3</td>\n",
              "      <td>U001</td>\n",
              "      <td>0200466603</td>\n",
              "      <td>SMITH'S us</td>\n",
              "      <td>2020-01-19</td>\n",
              "      <td>2020.00</td>\n",
              "      <td>2020-02-27</td>\n",
              "      <td>20200226</td>\n",
              "      <td>2020-01-13 00:03:00</td>\n",
              "      <td>1.00</td>\n",
              "      <td>20200227.00</td>\n",
              "      <td>NAA8</td>\n",
              "      <td>U001</td>\n",
              "      <td>1</td>\n",
              "      <td>16592.17</td>\n",
              "      <td>6.06</td>\n",
              "    </tr>\n",
              "    <tr>\n",
              "      <th>4</th>\n",
              "      <td>4</td>\n",
              "      <td>U001</td>\n",
              "      <td>CCCA02</td>\n",
              "      <td>KRAFT</td>\n",
              "      <td>2020-01-08</td>\n",
              "      <td>2020.00</td>\n",
              "      <td>2020-02-27</td>\n",
              "      <td>20200227</td>\n",
              "      <td>2020-01-02 00:04:00</td>\n",
              "      <td>1.00</td>\n",
              "      <td>20200227.00</td>\n",
              "      <td>NAG2</td>\n",
              "      <td>U001</td>\n",
              "      <td>1</td>\n",
              "      <td>25396.25</td>\n",
              "      <td>6.06</td>\n",
              "    </tr>\n",
              "    <tr>\n",
              "      <th>...</th>\n",
              "      <td>...</td>\n",
              "      <td>...</td>\n",
              "      <td>...</td>\n",
              "      <td>...</td>\n",
              "      <td>...</td>\n",
              "      <td>...</td>\n",
              "      <td>...</td>\n",
              "      <td>...</td>\n",
              "      <td>...</td>\n",
              "      <td>...</td>\n",
              "      <td>...</td>\n",
              "      <td>...</td>\n",
              "      <td>...</td>\n",
              "      <td>...</td>\n",
              "      <td>...</td>\n",
              "      <td>...</td>\n",
              "    </tr>\n",
              "    <tr>\n",
              "      <th>9669</th>\n",
              "      <td>9669</td>\n",
              "      <td>CA02</td>\n",
              "      <td>0140104429</td>\n",
              "      <td>COSTCO co</td>\n",
              "      <td>2020-01-29</td>\n",
              "      <td>2020.00</td>\n",
              "      <td>2020-05-13</td>\n",
              "      <td>20200513</td>\n",
              "      <td>2020-01-23 00:05:00</td>\n",
              "      <td>1.00</td>\n",
              "      <td>20200513.00</td>\n",
              "      <td>CA10</td>\n",
              "      <td>CA02</td>\n",
              "      <td>1</td>\n",
              "      <td>34064.49</td>\n",
              "      <td>6.06</td>\n",
              "    </tr>\n",
              "    <tr>\n",
              "      <th>9670</th>\n",
              "      <td>9670</td>\n",
              "      <td>U001</td>\n",
              "      <td>Other</td>\n",
              "      <td>Other</td>\n",
              "      <td>2020-02-05</td>\n",
              "      <td>2020.00</td>\n",
              "      <td>2020-05-15</td>\n",
              "      <td>20200514</td>\n",
              "      <td>2020-01-30 00:05:00</td>\n",
              "      <td>1.00</td>\n",
              "      <td>20200515.00</td>\n",
              "      <td>NAA8</td>\n",
              "      <td>U001</td>\n",
              "      <td>1</td>\n",
              "      <td>15902.25</td>\n",
              "      <td>6.06</td>\n",
              "    </tr>\n",
              "    <tr>\n",
              "      <th>9671</th>\n",
              "      <td>9671</td>\n",
              "      <td>U001</td>\n",
              "      <td>Other</td>\n",
              "      <td>Other</td>\n",
              "      <td>2020-02-06</td>\n",
              "      <td>2020.00</td>\n",
              "      <td>2020-05-16</td>\n",
              "      <td>20200513</td>\n",
              "      <td>2020-01-31 00:05:00</td>\n",
              "      <td>1.00</td>\n",
              "      <td>20200516.00</td>\n",
              "      <td>NAA8</td>\n",
              "      <td>U001</td>\n",
              "      <td>1</td>\n",
              "      <td>17893.25</td>\n",
              "      <td>6.06</td>\n",
              "    </tr>\n",
              "    <tr>\n",
              "      <th>9672</th>\n",
              "      <td>9672</td>\n",
              "      <td>U013</td>\n",
              "      <td>Other</td>\n",
              "      <td>Other</td>\n",
              "      <td>2020-01-25</td>\n",
              "      <td>2020.00</td>\n",
              "      <td>2020-05-20</td>\n",
              "      <td>20200520</td>\n",
              "      <td>2020-01-19 00:06:00</td>\n",
              "      <td>1.00</td>\n",
              "      <td>20200520.00</td>\n",
              "      <td>Other</td>\n",
              "      <td>U013</td>\n",
              "      <td>1</td>\n",
              "      <td>60726.46</td>\n",
              "      <td>6.06</td>\n",
              "    </tr>\n",
              "    <tr>\n",
              "      <th>9673</th>\n",
              "      <td>9673</td>\n",
              "      <td>U001</td>\n",
              "      <td>0200756072</td>\n",
              "      <td>REINHA us</td>\n",
              "      <td>2020-01-27</td>\n",
              "      <td>2020.00</td>\n",
              "      <td>2020-05-22</td>\n",
              "      <td>20200522</td>\n",
              "      <td>2020-01-21 00:06:00</td>\n",
              "      <td>1.00</td>\n",
              "      <td>20200522.00</td>\n",
              "      <td>Other</td>\n",
              "      <td>U001</td>\n",
              "      <td>1</td>\n",
              "      <td>1.17</td>\n",
              "      <td>6.06</td>\n",
              "    </tr>\n",
              "  </tbody>\n",
              "</table>\n",
              "<p>9674 rows × 16 columns</p>\n",
              "</div>"
            ],
            "text/plain": [
              "      key_0 business_code cust_number  ... isOpen total_open_amt(USD)  Delay\n",
              "0         0          U001  0200770677  ...      1            45808.43   6.06\n",
              "1         1          U001  0200761734  ...      1            94461.58   6.06\n",
              "2         2          U001  0200749225  ...      1             6245.50   6.06\n",
              "3         3          U001  0200466603  ...      1            16592.17   6.06\n",
              "4         4          U001      CCCA02  ...      1            25396.25   6.06\n",
              "...     ...           ...         ...  ...    ...                 ...    ...\n",
              "9669   9669          CA02  0140104429  ...      1            34064.49   6.06\n",
              "9670   9670          U001       Other  ...      1            15902.25   6.06\n",
              "9671   9671          U001       Other  ...      1            17893.25   6.06\n",
              "9672   9672          U013       Other  ...      1            60726.46   6.06\n",
              "9673   9673          U001  0200756072  ...      1                1.17   6.06\n",
              "\n",
              "[9674 rows x 16 columns]"
            ]
          },
          "metadata": {
            "tags": []
          },
          "execution_count": 398
        }
      ]
    },
    {
      "cell_type": "code",
      "metadata": {
        "colab": {
          "base_uri": "https://localhost:8080/",
          "height": 610
        },
        "id": "gwnSN1Zxa5Mg",
        "outputId": "9b6aa433-4ee0-414d-8e2d-de8d1b725a16"
      },
      "source": [
        "#to bucketize the delay columns\n",
        "bins = np.array([0,15,16,30,31,45])\n",
        "final[\"bucket\"] = pd.cut(final.Delay, bins)\n",
        "final"
      ],
      "execution_count": 404,
      "outputs": [
        {
          "output_type": "execute_result",
          "data": {
            "text/html": [
              "<div>\n",
              "<style scoped>\n",
              "    .dataframe tbody tr th:only-of-type {\n",
              "        vertical-align: middle;\n",
              "    }\n",
              "\n",
              "    .dataframe tbody tr th {\n",
              "        vertical-align: top;\n",
              "    }\n",
              "\n",
              "    .dataframe thead th {\n",
              "        text-align: right;\n",
              "    }\n",
              "</style>\n",
              "<table border=\"1\" class=\"dataframe\">\n",
              "  <thead>\n",
              "    <tr style=\"text-align: right;\">\n",
              "      <th></th>\n",
              "      <th>key_0</th>\n",
              "      <th>business_code</th>\n",
              "      <th>cust_number</th>\n",
              "      <th>name_customer</th>\n",
              "      <th>clear_date</th>\n",
              "      <th>buisness_year</th>\n",
              "      <th>posting_date</th>\n",
              "      <th>document_create_date</th>\n",
              "      <th>due_in_date</th>\n",
              "      <th>posting_id</th>\n",
              "      <th>baseline_create_date</th>\n",
              "      <th>cust_payment_terms</th>\n",
              "      <th>invoice_id</th>\n",
              "      <th>isOpen</th>\n",
              "      <th>total_open_amt(USD)</th>\n",
              "      <th>Delay</th>\n",
              "      <th>bucket</th>\n",
              "    </tr>\n",
              "  </thead>\n",
              "  <tbody>\n",
              "    <tr>\n",
              "      <th>0</th>\n",
              "      <td>0</td>\n",
              "      <td>U001</td>\n",
              "      <td>0200770677</td>\n",
              "      <td>Other</td>\n",
              "      <td>2020-01-19</td>\n",
              "      <td>2020.00</td>\n",
              "      <td>2020-02-27</td>\n",
              "      <td>20200226</td>\n",
              "      <td>2020-01-13 00:03:00</td>\n",
              "      <td>1.00</td>\n",
              "      <td>20200227.00</td>\n",
              "      <td>NAA8</td>\n",
              "      <td>U001</td>\n",
              "      <td>1</td>\n",
              "      <td>45808.43</td>\n",
              "      <td>6.06</td>\n",
              "      <td>(0, 15]</td>\n",
              "    </tr>\n",
              "    <tr>\n",
              "      <th>1</th>\n",
              "      <td>1</td>\n",
              "      <td>U001</td>\n",
              "      <td>0200761734</td>\n",
              "      <td>H E BUT in</td>\n",
              "      <td>2020-01-19</td>\n",
              "      <td>2020.00</td>\n",
              "      <td>2020-02-27</td>\n",
              "      <td>20200227</td>\n",
              "      <td>2020-01-13 00:03:00</td>\n",
              "      <td>1.00</td>\n",
              "      <td>20200227.00</td>\n",
              "      <td>NAA8</td>\n",
              "      <td>U001</td>\n",
              "      <td>1</td>\n",
              "      <td>94461.58</td>\n",
              "      <td>6.06</td>\n",
              "      <td>(0, 15]</td>\n",
              "    </tr>\n",
              "    <tr>\n",
              "      <th>2</th>\n",
              "      <td>2</td>\n",
              "      <td>U001</td>\n",
              "      <td>0200749225</td>\n",
              "      <td>Other</td>\n",
              "      <td>2020-01-19</td>\n",
              "      <td>2020.00</td>\n",
              "      <td>2020-02-27</td>\n",
              "      <td>20200227</td>\n",
              "      <td>2020-01-13 00:03:00</td>\n",
              "      <td>1.00</td>\n",
              "      <td>20200227.00</td>\n",
              "      <td>NAA8</td>\n",
              "      <td>U001</td>\n",
              "      <td>1</td>\n",
              "      <td>6245.50</td>\n",
              "      <td>6.06</td>\n",
              "      <td>(0, 15]</td>\n",
              "    </tr>\n",
              "    <tr>\n",
              "      <th>3</th>\n",
              "      <td>3</td>\n",
              "      <td>U001</td>\n",
              "      <td>0200466603</td>\n",
              "      <td>SMITH'S us</td>\n",
              "      <td>2020-01-19</td>\n",
              "      <td>2020.00</td>\n",
              "      <td>2020-02-27</td>\n",
              "      <td>20200226</td>\n",
              "      <td>2020-01-13 00:03:00</td>\n",
              "      <td>1.00</td>\n",
              "      <td>20200227.00</td>\n",
              "      <td>NAA8</td>\n",
              "      <td>U001</td>\n",
              "      <td>1</td>\n",
              "      <td>16592.17</td>\n",
              "      <td>6.06</td>\n",
              "      <td>(0, 15]</td>\n",
              "    </tr>\n",
              "    <tr>\n",
              "      <th>4</th>\n",
              "      <td>4</td>\n",
              "      <td>U001</td>\n",
              "      <td>CCCA02</td>\n",
              "      <td>KRAFT</td>\n",
              "      <td>2020-01-08</td>\n",
              "      <td>2020.00</td>\n",
              "      <td>2020-02-27</td>\n",
              "      <td>20200227</td>\n",
              "      <td>2020-01-02 00:04:00</td>\n",
              "      <td>1.00</td>\n",
              "      <td>20200227.00</td>\n",
              "      <td>NAG2</td>\n",
              "      <td>U001</td>\n",
              "      <td>1</td>\n",
              "      <td>25396.25</td>\n",
              "      <td>6.06</td>\n",
              "      <td>(0, 15]</td>\n",
              "    </tr>\n",
              "    <tr>\n",
              "      <th>...</th>\n",
              "      <td>...</td>\n",
              "      <td>...</td>\n",
              "      <td>...</td>\n",
              "      <td>...</td>\n",
              "      <td>...</td>\n",
              "      <td>...</td>\n",
              "      <td>...</td>\n",
              "      <td>...</td>\n",
              "      <td>...</td>\n",
              "      <td>...</td>\n",
              "      <td>...</td>\n",
              "      <td>...</td>\n",
              "      <td>...</td>\n",
              "      <td>...</td>\n",
              "      <td>...</td>\n",
              "      <td>...</td>\n",
              "      <td>...</td>\n",
              "    </tr>\n",
              "    <tr>\n",
              "      <th>9669</th>\n",
              "      <td>9669</td>\n",
              "      <td>CA02</td>\n",
              "      <td>0140104429</td>\n",
              "      <td>COSTCO co</td>\n",
              "      <td>2020-01-29</td>\n",
              "      <td>2020.00</td>\n",
              "      <td>2020-05-13</td>\n",
              "      <td>20200513</td>\n",
              "      <td>2020-01-23 00:05:00</td>\n",
              "      <td>1.00</td>\n",
              "      <td>20200513.00</td>\n",
              "      <td>CA10</td>\n",
              "      <td>CA02</td>\n",
              "      <td>1</td>\n",
              "      <td>34064.49</td>\n",
              "      <td>6.06</td>\n",
              "      <td>(0, 15]</td>\n",
              "    </tr>\n",
              "    <tr>\n",
              "      <th>9670</th>\n",
              "      <td>9670</td>\n",
              "      <td>U001</td>\n",
              "      <td>Other</td>\n",
              "      <td>Other</td>\n",
              "      <td>2020-02-05</td>\n",
              "      <td>2020.00</td>\n",
              "      <td>2020-05-15</td>\n",
              "      <td>20200514</td>\n",
              "      <td>2020-01-30 00:05:00</td>\n",
              "      <td>1.00</td>\n",
              "      <td>20200515.00</td>\n",
              "      <td>NAA8</td>\n",
              "      <td>U001</td>\n",
              "      <td>1</td>\n",
              "      <td>15902.25</td>\n",
              "      <td>6.06</td>\n",
              "      <td>(0, 15]</td>\n",
              "    </tr>\n",
              "    <tr>\n",
              "      <th>9671</th>\n",
              "      <td>9671</td>\n",
              "      <td>U001</td>\n",
              "      <td>Other</td>\n",
              "      <td>Other</td>\n",
              "      <td>2020-02-06</td>\n",
              "      <td>2020.00</td>\n",
              "      <td>2020-05-16</td>\n",
              "      <td>20200513</td>\n",
              "      <td>2020-01-31 00:05:00</td>\n",
              "      <td>1.00</td>\n",
              "      <td>20200516.00</td>\n",
              "      <td>NAA8</td>\n",
              "      <td>U001</td>\n",
              "      <td>1</td>\n",
              "      <td>17893.25</td>\n",
              "      <td>6.06</td>\n",
              "      <td>(0, 15]</td>\n",
              "    </tr>\n",
              "    <tr>\n",
              "      <th>9672</th>\n",
              "      <td>9672</td>\n",
              "      <td>U013</td>\n",
              "      <td>Other</td>\n",
              "      <td>Other</td>\n",
              "      <td>2020-01-25</td>\n",
              "      <td>2020.00</td>\n",
              "      <td>2020-05-20</td>\n",
              "      <td>20200520</td>\n",
              "      <td>2020-01-19 00:06:00</td>\n",
              "      <td>1.00</td>\n",
              "      <td>20200520.00</td>\n",
              "      <td>Other</td>\n",
              "      <td>U013</td>\n",
              "      <td>1</td>\n",
              "      <td>60726.46</td>\n",
              "      <td>6.06</td>\n",
              "      <td>(0, 15]</td>\n",
              "    </tr>\n",
              "    <tr>\n",
              "      <th>9673</th>\n",
              "      <td>9673</td>\n",
              "      <td>U001</td>\n",
              "      <td>0200756072</td>\n",
              "      <td>REINHA us</td>\n",
              "      <td>2020-01-27</td>\n",
              "      <td>2020.00</td>\n",
              "      <td>2020-05-22</td>\n",
              "      <td>20200522</td>\n",
              "      <td>2020-01-21 00:06:00</td>\n",
              "      <td>1.00</td>\n",
              "      <td>20200522.00</td>\n",
              "      <td>Other</td>\n",
              "      <td>U001</td>\n",
              "      <td>1</td>\n",
              "      <td>1.17</td>\n",
              "      <td>6.06</td>\n",
              "      <td>(0, 15]</td>\n",
              "    </tr>\n",
              "  </tbody>\n",
              "</table>\n",
              "<p>9674 rows × 17 columns</p>\n",
              "</div>"
            ],
            "text/plain": [
              "      key_0 business_code cust_number  ... total_open_amt(USD) Delay   bucket\n",
              "0         0          U001  0200770677  ...            45808.43  6.06  (0, 15]\n",
              "1         1          U001  0200761734  ...            94461.58  6.06  (0, 15]\n",
              "2         2          U001  0200749225  ...             6245.50  6.06  (0, 15]\n",
              "3         3          U001  0200466603  ...            16592.17  6.06  (0, 15]\n",
              "4         4          U001      CCCA02  ...            25396.25  6.06  (0, 15]\n",
              "...     ...           ...         ...  ...                 ...   ...      ...\n",
              "9669   9669          CA02  0140104429  ...            34064.49  6.06  (0, 15]\n",
              "9670   9670          U001       Other  ...            15902.25  6.06  (0, 15]\n",
              "9671   9671          U001       Other  ...            17893.25  6.06  (0, 15]\n",
              "9672   9672          U013       Other  ...            60726.46  6.06  (0, 15]\n",
              "9673   9673          U001  0200756072  ...                1.17  6.06  (0, 15]\n",
              "\n",
              "[9674 rows x 17 columns]"
            ]
          },
          "metadata": {
            "tags": []
          },
          "execution_count": 404
        }
      ]
    },
    {
      "cell_type": "markdown",
      "metadata": {
        "id": "hWis_SNbb4Pv"
      },
      "source": [
        "##Save the Model"
      ]
    },
    {
      "cell_type": "code",
      "metadata": {
        "id": "TGasU2dXV1wJ"
      },
      "source": [
        "import pickle\n",
        "# open a file,  to store the data\n",
        "filename = '/content/drive/MyDrive/Colab Notebooks/HIghRadius/RF--model.sav'\n",
        "# dump information to that file\n",
        "pickle.dump(reg, open(filename, 'wb'))\n",
        "\n",
        "#save final output in csv form\n",
        "final.index = test.index\n",
        "final.to_csv('/content/drive/MyDrive/Colab Notebooks/HIghRadius/FinalPredictedDate.csv')"
      ],
      "execution_count": 414,
      "outputs": []
    },
    {
      "cell_type": "code",
      "metadata": {
        "id": "jN29a6LGYHVk"
      },
      "source": [
        "#to reload the model\n",
        "#loaded_model = pickle.load(open('/content/drive/MyDrive/Colab Notebooks/HIghRadius/RFmodel.sav', 'rb'))\n",
        "#result = loaded_model.score(x_test, y_test)\n",
        "#print(result)"
      ],
      "execution_count": 407,
      "outputs": []
    },
    {
      "cell_type": "markdown",
      "metadata": {
        "id": "uZ9wimHqVA6B"
      },
      "source": [
        "#Task Complete--'Clear Date' is predicted using Random Forest with 63% accuracy "
      ]
    }
  ]
}